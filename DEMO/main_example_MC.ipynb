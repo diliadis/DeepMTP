{
 "cells": [
  {
   "cell_type": "code",
   "execution_count": 1,
   "metadata": {},
   "outputs": [
    {
     "name": "stderr",
     "output_type": "stream",
     "text": [
      "/home/dimitriosi/.local/lib/python3.8/site-packages/tqdm/auto.py:22: TqdmWarning: IProgress not found. Please update jupyter and ipywidgets. See https://ipywidgets.readthedocs.io/en/stable/user_install.html\n",
      "  from .autonotebook import tqdm as notebook_tqdm\n"
     ]
    }
   ],
   "source": [
    "import os\n",
    "# os.chdir('../')\n",
    "import pandas as pd\n",
    "import numpy as np\n",
    "from DeepMTP.dataset import load_process_MLC, load_process_MTR, load_process_DP, process_dummy_MLC, process_dummy_MTR, process_dummy_DP, load_process_MC, load_process_MTL\n",
    "from DeepMTP.utils.data_utils import data_process, BaseDataset\n",
    "from DeepMTP.utils.tests import check_mlc_results, check_mtr_results, check_dp_results, check_mtl_results\n",
    "from DeepMTP.main import DeepMTP\n",
    "from DeepMTP.utils.utils import generate_config\n",
    "from tqdm import tqdm\n",
    "from PIL import Image"
   ]
  },
  {
   "cell_type": "markdown",
   "metadata": {},
   "source": [
    "# Matrix Completion\n",
    "<img src=\"../images/mc_example.png\"/>"
   ]
  },
  {
   "cell_type": "markdown",
   "metadata": {},
   "source": [
    "# load-process-split"
   ]
  },
  {
   "cell_type": "code",
   "execution_count": 2,
   "metadata": {},
   "outputs": [
    {
     "name": "stdout",
     "output_type": "stream",
     "text": [
      "Interaction file: triplet format detected\n",
      "Interaction file: checking format consistency... Passed\n",
      "Interaction file: checking instance id format consistency... Passed\n",
      "Interaction file: checking target id type consistency... Passed\n",
      "\n",
      "Interaction file: checking target variable type consistency... Passed\n",
      "Automatically detected type of target variable type: real-valued\n",
      "\n",
      "-- Test set was not provided, could not detect if novel instances exist or not \n",
      "-- Test set was not provided, could not detect if novel targets exist or not \n",
      "\n",
      "\n",
      "\n",
      "Splitting train to train-test according to validation setting A... Done\n",
      "Splitting train to train-val according to validation setting A... Done\n",
      "Checking if MC splitting results are valid... "
     ]
    }
   ],
   "source": [
    "# load dataset\n",
    "data = load_process_MC(dataset_name='ml-100k')\n",
    "# process and split\n",
    "train, val, test, data_info = data_process(data, validation_setting='A', verbose=True)\n",
    "# sanity check\n",
    "check_mc_results(train, val, test)"
   ]
  },
  {
   "cell_type": "code",
   "execution_count": 3,
   "metadata": {},
   "outputs": [
    {
     "data": {
      "text/plain": [
       "{'y': {'data':        instance_id  target_id  value\n",
       "  0                0          0      3\n",
       "  1                1          1      3\n",
       "  2                2          2      1\n",
       "  3                3          3      2\n",
       "  4                4          4      1\n",
       "  ...            ...        ...    ...\n",
       "  99994          369        313      3\n",
       "  99995          875        173      3\n",
       "  99996          708        247      5\n",
       "  99997           37       1004      1\n",
       "  99998           58        443      2\n",
       "  \n",
       "  [72000 rows x 3 columns],\n",
       "  'original_format': 'triplets',\n",
       "  'instance_id_type': 'int',\n",
       "  'target_id_type': 'int',\n",
       "  'missing_values': True},\n",
       " 'X_instance': None,\n",
       " 'X_target': None}"
      ]
     },
     "execution_count": 3,
     "metadata": {},
     "output_type": "execute_result"
    }
   ],
   "source": [
    "train"
   ]
  },
  {
   "cell_type": "code",
   "execution_count": 4,
   "metadata": {},
   "outputs": [
    {
     "data": {
      "text/plain": [
       "{'y': {'data':        instance_id  target_id  value\n",
       "  58866          718       1076      4\n",
       "  55412          379        249      3\n",
       "  93518          434        347      3\n",
       "  88720          739       1079      4\n",
       "  58369          794        357      5\n",
       "  ...            ...        ...    ...\n",
       "  23233          234        157      4\n",
       "  55365          579        172      3\n",
       "  24702          409       1028      4\n",
       "  43678          498        251      2\n",
       "  65247          335        229      5\n",
       "  \n",
       "  [8000 rows x 3 columns]},\n",
       " 'X_instance': None,\n",
       " 'X_target': None}"
      ]
     },
     "execution_count": 4,
     "metadata": {},
     "output_type": "execute_result"
    }
   ],
   "source": [
    "val"
   ]
  },
  {
   "cell_type": "code",
   "execution_count": 5,
   "metadata": {},
   "outputs": [
    {
     "data": {
      "text/plain": [
       "{'y': {'data':        instance_id  target_id  value\n",
       "  75721          873        377      4\n",
       "  80184          808        601      3\n",
       "  19864           90        354      4\n",
       "  76699          409        570      2\n",
       "  92991          496        356      2\n",
       "  ...            ...        ...    ...\n",
       "  32595           53        204      5\n",
       "  29313          511        528      5\n",
       "  37862          602        487      4\n",
       "  53421          646        300      4\n",
       "  42410           15        549      3\n",
       "  \n",
       "  [20000 rows x 3 columns]},\n",
       " 'X_instance': None,\n",
       " 'X_target': None}"
      ]
     },
     "execution_count": 5,
     "metadata": {},
     "output_type": "execute_result"
    }
   ],
   "source": [
    "test"
   ]
  },
  {
   "cell_type": "code",
   "execution_count": 6,
   "metadata": {},
   "outputs": [
    {
     "data": {
      "text/plain": [
       "{'detected_validation_setting': 'A',\n",
       " 'detected_problem_mode': 'regression',\n",
       " 'instance_branch_input_dim': 943,\n",
       " 'target_branch_input_dim': 1682}"
      ]
     },
     "execution_count": 6,
     "metadata": {},
     "output_type": "execute_result"
    }
   ],
   "source": [
    "data_info"
   ]
  },
  {
   "cell_type": "markdown",
   "metadata": {},
   "source": [
    "# Configure and train network"
   ]
  },
  {
   "cell_type": "code",
   "execution_count": 7,
   "metadata": {},
   "outputs": [],
   "source": [
    "config = generate_config(    \n",
    "    instance_branch_input_dim = data_info['instance_branch_input_dim'],\n",
    "    target_branch_input_dim = data_info['target_branch_input_dim'],\n",
    "    validation_setting = data_info['detected_validation_setting'],\n",
    "    general_architecture_version = 'dot_product',\n",
    "    problem_mode = data_info['detected_problem_mode'],\n",
    "    learning_rate = 0.001,\n",
    "    decay = 0,\n",
    "    batch_norm = False,\n",
    "    dropout_rate = 0,\n",
    "    momentum = 0.9,\n",
    "    weighted_loss = False,\n",
    "    compute_mode = 'cuda:1',\n",
    "    train_batchsize = 1024,\n",
    "    val_batchsize = 1024,\n",
    "    num_epochs = 50,\n",
    "    num_workers = 8,\n",
    "    metrics = ['RMSE', 'MSE'],\n",
    "    metrics_average = ['micro'],\n",
    "    patience = 10,\n",
    "\n",
    "    evaluate_train = True,\n",
    "    evaluate_val = True,\n",
    "\n",
    "    verbose = True,\n",
    "    results_verbose = False,\n",
    "    use_early_stopping = True,\n",
    "    use_tensorboard_logger = True,\n",
    "    wandb_project_name = 'DeepMTP_v2',\n",
    "    wandb_project_entity = 'diliadis',\n",
    "    metric_to_optimize_early_stopping = 'loss',\n",
    "    metric_to_optimize_best_epoch_selection = 'loss',\n",
    "\n",
    "    instance_branch_architecture = 'MLP',\n",
    "    use_instance_features = False,\n",
    "    instance_branch_params = {\n",
    "        'instance_branch_nodes_reducing_factor': 2,\n",
    "        'instance_branch_nodes_per_layer': [512, 256],\n",
    "        'instance_branch_layers': None,\n",
    "        # 'instance_branch_conv_architecture': 'resnet',\n",
    "        # 'instance_branch_conv_architecture_version': 'resnet101',\n",
    "        # 'instance_branch_conv_architecture_dense_layers': 1,\n",
    "        # 'instance_branch_conv_architecture_last_layer_trained': 'last',\n",
    "    },\n",
    "\n",
    "    target_branch_architecture = 'MLP',\n",
    "    use_target_features = False,\n",
    "    target_branch_params = {\n",
    "        'target_branch_nodes_reducing_factor': 2,\n",
    "        'target_branch_nodes_per_layer': [512, 256],\n",
    "        'target_branch_layers': None,\n",
    "        # 'target_branch_conv_architecture': 'resnet',\n",
    "        # 'target_branch_conv_architecture_version': 'resnet101',\n",
    "        # 'target_branch_conv_architecture_dense_layers': 1,\n",
    "        # 'target_branch_conv_architecture_last_layer_trained': 'last',\n",
    "    },\n",
    "\n",
    "    embedding_size = 100,\n",
    "    comb_mlp_nodes_reducing_factor = 2,\n",
    "    comb_mlp_nodes_per_layer = [2048, 2048, 2048],\n",
    "    comb_mlp_layers = None, \n",
    "\n",
    "    save_model = True,\n",
    "\n",
    "    eval_every_n_epochs = 10,\n",
    "\n",
    "    additional_info = {})"
   ]
  },
  {
   "cell_type": "code",
   "execution_count": 8,
   "metadata": {},
   "outputs": [
    {
     "name": "stdout",
     "output_type": "stream",
     "text": [
      "Selected device: cuda:1\n"
     ]
    },
    {
     "name": "stderr",
     "output_type": "stream",
     "text": [
      "Failed to detect the name of this notebook, you can set it manually with the WANDB_NOTEBOOK_NAME environment variable to enable code saving.\n"
     ]
    },
    {
     "name": "stdout",
     "output_type": "stream",
     "text": [
      "TwoBranchDotProductModel(\n",
      "  (instance_branch_model): MLP(\n",
      "    (predictor): ModuleList(\n",
      "      (0): Linear(in_features=943, out_features=512, bias=True)\n",
      "      (1): LeakyReLU(negative_slope=0.01)\n",
      "      (2): Linear(in_features=512, out_features=256, bias=True)\n",
      "      (3): LeakyReLU(negative_slope=0.01)\n",
      "      (4): Linear(in_features=256, out_features=100, bias=True)\n",
      "      (5): LeakyReLU(negative_slope=0.01)\n",
      "    )\n",
      "  )\n",
      "  (target_branch_model): MLP(\n",
      "    (predictor): ModuleList(\n",
      "      (0): Linear(in_features=1682, out_features=512, bias=True)\n",
      "      (1): LeakyReLU(negative_slope=0.01)\n",
      "      (2): Linear(in_features=512, out_features=256, bias=True)\n",
      "      (3): LeakyReLU(negative_slope=0.01)\n",
      "      (4): Linear(in_features=256, out_features=100, bias=True)\n",
      "      (5): LeakyReLU(negative_slope=0.01)\n",
      "    )\n",
      "  )\n",
      ")\n",
      "Starting training...\n"
     ]
    },
    {
     "name": "stderr",
     "output_type": "stream",
     "text": [
      "\u001b[34m\u001b[1mwandb\u001b[0m: Currently logged in as: \u001b[33mdiliadis\u001b[0m. Use \u001b[1m`wandb login --relogin`\u001b[0m to force relogin\n"
     ]
    },
    {
     "data": {
      "text/html": [
       "Tracking run with wandb version 0.12.17"
      ],
      "text/plain": [
       "<IPython.core.display.HTML object>"
      ]
     },
     "metadata": {},
     "output_type": "display_data"
    },
    {
     "data": {
      "text/html": [
       "Run data is saved locally in <code>/data/dimitriosi_datasets/DeepMTP_v2/wandb/run-20220530_064615-2iud70h8</code>"
      ],
      "text/plain": [
       "<IPython.core.display.HTML object>"
      ]
     },
     "metadata": {},
     "output_type": "display_data"
    },
    {
     "data": {
      "text/html": [
       "Syncing run <strong><a href=\"https://wandb.ai/diliadis/DeepMTP_v2/runs/2iud70h8\" target=\"_blank\">lemon-sun-109</a></strong> to <a href=\"https://wandb.ai/diliadis/DeepMTP_v2\" target=\"_blank\">Weights & Biases</a> (<a href=\"https://wandb.me/run\" target=\"_blank\">docs</a>)<br/>"
      ],
      "text/plain": [
       "<IPython.core.display.HTML object>"
      ]
     },
     "metadata": {},
     "output_type": "display_data"
    },
    {
     "name": "stdout",
     "output_type": "stream",
     "text": [
      "Epoch:0... Done\n",
      "  Validating... Calculating val performance... Done\n",
      "Done\n",
      "Epoch:1... Done\n",
      "  Validating... Done\n",
      "Epoch:2... Done\n",
      "  Validating... Done\n",
      "Epoch:3... Done\n",
      "  Validating... Done\n",
      "-----------------------------EarlyStopping counter: 1 out of 10---------------------- best epoch currently 2\n",
      "Epoch:4... Done\n",
      "  Validating... Done\n",
      "Epoch:5... Done\n",
      "  Validating... Done\n",
      "-----------------------------EarlyStopping counter: 1 out of 10---------------------- best epoch currently 4\n",
      "Epoch:6... Done\n",
      "  Validating... Done\n",
      "Epoch:7... Done\n",
      "  Validating... Done\n",
      "Epoch:8... Done\n",
      "  Validating... Done\n",
      "Epoch:9... Done\n",
      "  Validating... Done\n",
      "Epoch:10... Done\n",
      "  Validating... Calculating val performance... Done\n",
      "Done\n",
      "-----------------------------EarlyStopping counter: 1 out of 10---------------------- best epoch currently 9\n",
      "Epoch:11... Done\n",
      "  Validating... Done\n",
      "-----------------------------EarlyStopping counter: 2 out of 10---------------------- best epoch currently 9\n",
      "Epoch:12... Done\n",
      "  Validating... Done\n",
      "-----------------------------EarlyStopping counter: 3 out of 10---------------------- best epoch currently 9\n",
      "Epoch:13... Done\n",
      "  Validating... Done\n",
      "Epoch:14... Done\n",
      "  Validating... Done\n",
      "Epoch:15... Done\n",
      "  Validating... Done\n",
      "-----------------------------EarlyStopping counter: 1 out of 10---------------------- best epoch currently 14\n",
      "Epoch:16... Done\n",
      "  Validating... Done\n",
      "-----------------------------EarlyStopping counter: 2 out of 10---------------------- best epoch currently 14\n",
      "Epoch:17... Done\n",
      "  Validating... Done\n",
      "Epoch:18... Done\n",
      "  Validating... Done\n",
      "-----------------------------EarlyStopping counter: 1 out of 10---------------------- best epoch currently 17\n",
      "Epoch:19... Done\n",
      "  Validating... Done\n",
      "Epoch:20... Done\n",
      "  Validating... Calculating val performance... Done\n",
      "Done\n",
      "-----------------------------EarlyStopping counter: 1 out of 10---------------------- best epoch currently 19\n",
      "Epoch:21... Done\n",
      "  Validating... Done\n",
      "-----------------------------EarlyStopping counter: 2 out of 10---------------------- best epoch currently 19\n",
      "Epoch:22... Done\n",
      "  Validating... Done\n",
      "-----------------------------EarlyStopping counter: 3 out of 10---------------------- best epoch currently 19\n",
      "Epoch:23... Done\n",
      "  Validating... Done\n",
      "-----------------------------EarlyStopping counter: 4 out of 10---------------------- best epoch currently 19\n",
      "Epoch:24... Done\n",
      "  Validating... Done\n",
      "-----------------------------EarlyStopping counter: 5 out of 10---------------------- best epoch currently 19\n",
      "Epoch:25... Done\n",
      "  Validating... Done\n",
      "-----------------------------EarlyStopping counter: 6 out of 10---------------------- best epoch currently 19\n",
      "Epoch:26... Done\n",
      "  Validating... Done\n",
      "Epoch:27... Done\n",
      "  Validating... Done\n",
      "-----------------------------EarlyStopping counter: 1 out of 10---------------------- best epoch currently 26\n",
      "Epoch:28... Done\n",
      "  Validating... Done\n",
      "-----------------------------EarlyStopping counter: 2 out of 10---------------------- best epoch currently 26\n",
      "Epoch:29... Done\n",
      "  Validating... Done\n",
      "-----------------------------EarlyStopping counter: 3 out of 10---------------------- best epoch currently 26\n",
      "Epoch:30... Done\n",
      "  Validating... Calculating val performance... Done\n",
      "Done\n",
      "-----------------------------EarlyStopping counter: 4 out of 10---------------------- best epoch currently 26\n",
      "Epoch:31... Done\n",
      "  Validating... Done\n",
      "-----------------------------EarlyStopping counter: 5 out of 10---------------------- best epoch currently 26\n",
      "Epoch:32... Done\n",
      "  Validating... Done\n",
      "Epoch:33... Done\n",
      "  Validating... Done\n",
      "-----------------------------EarlyStopping counter: 1 out of 10---------------------- best epoch currently 32\n",
      "Epoch:34... Done\n",
      "  Validating... Done\n",
      "-----------------------------EarlyStopping counter: 2 out of 10---------------------- best epoch currently 32\n",
      "Epoch:35... Done\n",
      "  Validating... Done\n",
      "-----------------------------EarlyStopping counter: 3 out of 10---------------------- best epoch currently 32\n",
      "Epoch:36... Done\n",
      "  Validating... Done\n",
      "-----------------------------EarlyStopping counter: 4 out of 10---------------------- best epoch currently 32\n",
      "Epoch:37... Done\n",
      "  Validating... Done\n",
      "-----------------------------EarlyStopping counter: 5 out of 10---------------------- best epoch currently 32\n",
      "Epoch:38... Done\n",
      "  Validating... Done\n",
      "-----------------------------EarlyStopping counter: 6 out of 10---------------------- best epoch currently 32\n",
      "Epoch:39... Done\n",
      "  Validating... Done\n",
      "-----------------------------EarlyStopping counter: 7 out of 10---------------------- best epoch currently 32\n",
      "Epoch:40... Done\n",
      "  Validating... Calculating val performance... Done\n",
      "Done\n",
      "-----------------------------EarlyStopping counter: 8 out of 10---------------------- best epoch currently 32\n",
      "Epoch:41... Done\n",
      "  Validating... Done\n",
      "-----------------------------EarlyStopping counter: 9 out of 10---------------------- best epoch currently 32\n",
      "Epoch:42... Done\n",
      "  Validating... Done\n",
      "-----------------------------EarlyStopping counter: 10 out of 10---------------------- best epoch currently 32\n",
      "Early stopping criterion met. Training stopped!!!\n",
      "Starting testing... Calculating test performance... Done\n",
      "Done\n"
     ]
    },
    {
     "data": {
      "text/html": [
       "Waiting for W&B process to finish... <strong style=\"color:green\">(success).</strong>"
      ],
      "text/plain": [
       "<IPython.core.display.HTML object>"
      ]
     },
     "metadata": {},
     "output_type": "display_data"
    },
    {
     "data": {
      "text/html": [
       "<style>\n",
       "    table.wandb td:nth-child(1) { padding: 0 10px; text-align: left ; width: auto;} td:nth-child(2) {text-align: left ; width: 100%}\n",
       "    .wandb-row { display: flex; flex-direction: row; flex-wrap: wrap; justify-content: flex-start; width: 100% }\n",
       "    .wandb-col { display: flex; flex-direction: column; flex-basis: 100%; flex: 1; padding: 10px; }\n",
       "    </style>\n",
       "<div class=\"wandb-row\"><div class=\"wandb-col\"><h3>Run history:</h3><br/><table class=\"wandb\"><tr><td>test_MSE_micro</td><td>▁</td></tr><tr><td>test_RMSE_micro</td><td>▁</td></tr><tr><td>train_MSE_micro</td><td>█▁▁▁▁</td></tr><tr><td>train_RMSE_micro</td><td>█▂▁▁▁</td></tr><tr><td>train_loss</td><td>█▂▂▂▂▂▂▂▂▂▂▁▁▁▁▁▁▁▁▁▁▁▁▁▁▁▁▁▁▁▁▁▁▁▁▁▁▁▁▁</td></tr><tr><td>val_MSE_micro</td><td>█▇▃▁▁</td></tr><tr><td>val_RMSE_micro</td><td>█▇▃▁▁</td></tr><tr><td>val_loss</td><td>█▇▇▇▆▆▆▅▅▅▇▅▆▂▃▆▂▆▂▅▂▂▂▂▂▁▂▃▃▂▁▁▁▁▁▂▂▂▃▄</td></tr></table><br/></div><div class=\"wandb-col\"><h3>Run summary:</h3><br/><table class=\"wandb\"><tr><td>test_MSE_micro</td><td>0.85876</td></tr><tr><td>test_RMSE_micro</td><td>0.92669</td></tr><tr><td>train_MSE_micro</td><td>0.71136</td></tr><tr><td>train_RMSE_micro</td><td>0.84342</td></tr><tr><td>train_loss</td><td>0.70434</td></tr><tr><td>val_MSE_micro</td><td>0.89182</td></tr><tr><td>val_RMSE_micro</td><td>0.94436</td></tr><tr><td>val_loss</td><td>0.89748</td></tr></table><br/></div></div>"
      ],
      "text/plain": [
       "<IPython.core.display.HTML object>"
      ]
     },
     "metadata": {},
     "output_type": "display_data"
    },
    {
     "data": {
      "text/html": [
       "Synced <strong style=\"color:#cdcd00\">lemon-sun-109</strong>: <a href=\"https://wandb.ai/diliadis/DeepMTP_v2/runs/2iud70h8\" target=\"_blank\">https://wandb.ai/diliadis/DeepMTP_v2/runs/2iud70h8</a><br/>Synced 6 W&B file(s), 0 media file(s), 0 artifact file(s) and 0 other file(s)"
      ],
      "text/plain": [
       "<IPython.core.display.HTML object>"
      ]
     },
     "metadata": {},
     "output_type": "display_data"
    },
    {
     "data": {
      "text/html": [
       "Find logs at: <code>./wandb/run-20220530_064615-2iud70h8/logs</code>"
      ],
      "text/plain": [
       "<IPython.core.display.HTML object>"
      ]
     },
     "metadata": {},
     "output_type": "display_data"
    },
    {
     "name": "stdout",
     "output_type": "stream",
     "text": [
      "+-------+--------+--------+------------+-----------+\n",
      "|  mode | #epoch |  loss  | RMSE_micro | MSE_micro |\n",
      "+-------+--------+--------+------------+-----------+\n",
      "| train |   0    | 2.943  |   1.7209   |   2.9616  |\n",
      "| train |   1    | 0.9021 |     -      |     -     |\n",
      "| train |   2    | 0.896  |     -      |     -     |\n",
      "| train |   3    | 0.8884 |     -      |     -     |\n",
      "| train |   4    | 0.8829 |     -      |     -     |\n",
      "| train |   5    | 0.8801 |     -      |     -     |\n",
      "| train |   6    | 0.8762 |     -      |     -     |\n",
      "| train |   7    | 0.869  |     -      |     -     |\n",
      "| train |   8    | 0.8698 |     -      |     -     |\n",
      "| train |   9    | 0.8656 |     -      |     -     |\n",
      "| train |   10   | 0.8646 |   0.9297   |   0.8644  |\n",
      "| train |   11   | 0.8609 |     -      |     -     |\n",
      "| train |   12   | 0.8546 |     -      |     -     |\n",
      "| train |   13   | 0.837  |     -      |     -     |\n",
      "| train |   14   | 0.8213 |     -      |     -     |\n",
      "| train |   15   | 0.8072 |     -      |     -     |\n",
      "| train |   16   | 0.8058 |     -      |     -     |\n",
      "| train |   17   | 0.7942 |     -      |     -     |\n",
      "| train |   18   | 0.7847 |     -      |     -     |\n",
      "| train |   19   | 0.7838 |     -      |     -     |\n",
      "| train |   20   | 0.7761 |   0.881    |   0.7761  |\n",
      "| train |   21   | 0.7765 |     -      |     -     |\n",
      "| train |   22   | 0.7778 |     -      |     -     |\n",
      "| train |   23   | 0.7706 |     -      |     -     |\n",
      "| train |   24   | 0.7726 |     -      |     -     |\n",
      "| train |   25   | 0.7711 |     -      |     -     |\n",
      "| train |   26   | 0.7705 |     -      |     -     |\n",
      "| train |   27   | 0.7653 |     -      |     -     |\n",
      "| train |   28   | 0.7705 |     -      |     -     |\n",
      "| train |   29   | 0.7622 |     -      |     -     |\n",
      "| train |   30   | 0.7624 |   0.8735   |   0.763   |\n",
      "| train |   31   | 0.7617 |     -      |     -     |\n",
      "| train |   32   | 0.7591 |     -      |     -     |\n",
      "| train |   33   | 0.7498 |     -      |     -     |\n",
      "| train |   34   | 0.7404 |     -      |     -     |\n",
      "| train |   35   | 0.737  |     -      |     -     |\n",
      "| train |   36   | 0.7289 |     -      |     -     |\n",
      "| train |   37   | 0.7229 |     -      |     -     |\n",
      "| train |   38   | 0.7285 |     -      |     -     |\n",
      "| train |   39   | 0.7153 |     -      |     -     |\n",
      "| train |   40   | 0.7122 |   0.8434   |   0.7114  |\n",
      "| train |   41   | 0.7043 |     -      |     -     |\n",
      "+-------+--------+--------+------------+-----------+\n",
      "====================\n",
      "+------+--------+--------+------------+-----------+----------------+\n",
      "| mode | #epoch |  loss  | RMSE_micro | MSE_micro | early_stopping |\n",
      "+------+--------+--------+------------+-----------+----------------+\n",
      "| val  |   0    | 0.9376 |   0.9678   |   0.9367  |      0/10      |\n",
      "| val  |   1    |  0.93  |     -      |     -     |      0/10      |\n",
      "| val  |   2    | 0.924  |     -      |     -     |      0/10      |\n",
      "| val  |   3    | 0.9243 |     -      |     -     |      1/10      |\n",
      "| val  |   4    | 0.9165 |     -      |     -     |      0/10      |\n",
      "| val  |   5    | 0.9216 |     -      |     -     |      1/10      |\n",
      "| val  |   6    | 0.9152 |     -      |     -     |      0/10      |\n",
      "| val  |   7    | 0.9109 |     -      |     -     |      0/10      |\n",
      "| val  |   8    | 0.9109 |     -      |     -     |      0/10      |\n",
      "| val  |   9    | 0.9069 |     -      |     -     |      0/10      |\n",
      "| val  |   10   | 0.9326 |   0.9653   |   0.9318  |      1/10      |\n",
      "| val  |   11   | 0.9102 |     -      |     -     |      2/10      |\n",
      "| val  |   12   | 0.9202 |     -      |     -     |      3/10      |\n",
      "| val  |   13   | 0.9018 |     -      |     -     |      0/10      |\n",
      "| val  |   14   | 0.8811 |     -      |     -     |      0/10      |\n",
      "| val  |   15   | 0.8856 |     -      |     -     |      1/10      |\n",
      "| val  |   16   | 0.9153 |     -      |     -     |      2/10      |\n",
      "| val  |   17   | 0.8768 |     -      |     -     |      0/10      |\n",
      "| val  |   18   | 0.9184 |     -      |     -     |      1/10      |\n",
      "| val  |   19   | 0.8764 |     -      |     -     |      0/10      |\n",
      "| val  |   20   | 0.9061 |   0.9517   |   0.9057  |      1/10      |\n",
      "| val  |   21   | 0.8789 |     -      |     -     |      2/10      |\n",
      "| val  |   22   | 0.8833 |     -      |     -     |      3/10      |\n",
      "| val  |   23   | 0.8781 |     -      |     -     |      4/10      |\n",
      "| val  |   24   | 0.8774 |     -      |     -     |      5/10      |\n",
      "| val  |   25   | 0.8828 |     -      |     -     |      6/10      |\n",
      "| val  |   26   | 0.8747 |     -      |     -     |      0/10      |\n",
      "| val  |   27   | 0.883  |     -      |     -     |      1/10      |\n",
      "| val  |   28   | 0.8803 |     -      |     -     |      2/10      |\n",
      "| val  |   29   | 0.8932 |     -      |     -     |      3/10      |\n",
      "| val  |   30   | 0.8899 |   0.943    |   0.8893  |      4/10      |\n",
      "| val  |   31   | 0.877  |     -      |     -     |      5/10      |\n",
      "| val  |   32   | 0.8702 |     -      |     -     |      0/10      |\n",
      "| val  |   33   | 0.8739 |     -      |     -     |      1/10      |\n",
      "| val  |   34   | 0.8719 |     -      |     -     |      2/10      |\n",
      "| val  |   35   | 0.8738 |     -      |     -     |      3/10      |\n",
      "| val  |   36   | 0.8712 |     -      |     -     |      4/10      |\n",
      "| val  |   37   | 0.8784 |     -      |     -     |      5/10      |\n",
      "| val  |   38   | 0.883  |     -      |     -     |      6/10      |\n",
      "| val  |   39   | 0.8796 |     -      |     -     |      7/10      |\n",
      "| val  |   40   | 0.8922 |   0.9444   |   0.8918  |      8/10      |\n",
      "| val  |   41   | 0.8852 |     -      |     -     |      9/10      |\n",
      "+------+--------+--------+------------+-----------+----------------+\n",
      "====================\n",
      "+------+--------+------+------------+-----------+\n",
      "| mode | #epoch | loss | RMSE_micro | MSE_micro |\n",
      "+------+--------+------+------------+-----------+\n",
      "| test |   32   |  -   |   0.9267   |   0.8588  |\n",
      "+------+--------+------+------------+-----------+\n",
      "Saving the best model... Done\n"
     ]
    }
   ],
   "source": [
    "# initialize model\n",
    "model = DeepMTP(config)\n",
    "print(str(model.deepMTP_model))\n",
    "# train, validate, test\n",
    "validation_results = model.train(train, val, test)"
   ]
  },
  {
   "cell_type": "markdown",
   "metadata": {},
   "source": [
    "# Inference"
   ]
  },
  {
   "cell_type": "code",
   "execution_count": null,
   "metadata": {},
   "outputs": [],
   "source": [
    "# generate predictions from the trained model\n",
    "results, preds = model.predict(train, return_predictions=True ,verbose=True)"
   ]
  },
  {
   "cell_type": "markdown",
   "metadata": {},
   "source": [
    "# Continue training model"
   ]
  },
  {
   "cell_type": "code",
   "execution_count": null,
   "metadata": {},
   "outputs": [],
   "source": [
    "# this is a minimal configuration needed for HPO methods like Hyperband\n",
    "config = {\n",
    "    'verbose': True,\n",
    "    'num_epochs': 20,\n",
    "    'num_workers': 8,\n",
    "    # 'wandb_project_name': None,\n",
    "    # 'wandb_project_entity': None,\n",
    "    # 'use_tensorboard_logger': False\n",
    "}\n",
    "# initialize the model and load the pretrained weights etc.\n",
    "new_model = DeepMTP(config, 'add path to model.pt')\n",
    "\n",
    "new_model.train(train, val, test)"
   ]
  },
  {
   "cell_type": "code",
   "execution_count": null,
   "metadata": {},
   "outputs": [],
   "source": []
  }
 ],
 "metadata": {
  "kernelspec": {
   "display_name": "Python 3.8.13 ('deepMTP_env_source': conda)",
   "language": "python",
   "name": "python3"
  },
  "language_info": {
   "codemirror_mode": {
    "name": "ipython",
    "version": 3
   },
   "file_extension": ".py",
   "mimetype": "text/x-python",
   "name": "python",
   "nbconvert_exporter": "python",
   "pygments_lexer": "ipython3",
   "version": "3.8.13"
  },
  "orig_nbformat": 4,
  "vscode": {
   "interpreter": {
    "hash": "c0bffa426c47be87a03a22c79420a878934c6514bf0edb62313e132440f2a8f4"
   }
  }
 },
 "nbformat": 4,
 "nbformat_minor": 2
}
