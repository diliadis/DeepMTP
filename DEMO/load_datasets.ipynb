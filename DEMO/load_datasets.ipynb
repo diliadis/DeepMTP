{
 "cells": [
  {
   "cell_type": "code",
   "execution_count": 1,
   "metadata": {},
   "outputs": [],
   "source": [
    "import os\n",
    "os.chdir('../')\n",
    "\n",
    "import numpy as np\n",
    "from DeepMTP.dataset import load_process_MLC, load_process_MTR, load_process_DP, process_dummy_MLC, process_dummy_MTR, process_dummy_DP, load_process_MC, load_process_MTL\n",
    "from DeepMTP.utils.data_utils import data_process\n",
    "from DeepMTP.utils.tests import check_mlc_results, check_mtr_results, check_dp_results, check_mc_results, check_mtl_results"
   ]
  },
  {
   "cell_type": "markdown",
   "metadata": {},
   "source": [
    "# Multi-label classification (MLC)"
   ]
  },
  {
   "cell_type": "code",
   "execution_count": 2,
   "metadata": {},
   "outputs": [
    {
     "name": "stdout",
     "output_type": "stream",
     "text": [
      "Processing...\n",
      "bibtex:undivided - exists, not redownloading\n",
      "Done\n",
      "Interaction file: 2d numpy array format detected\n",
      "Interaction file: checking format consistency... Passed\n",
      "Interaction file: checking instance id format consistency... Passed\n",
      "Interaction file: checking target id type consistency... Passed\n",
      "\n",
      "Interaction file: checking target variable type consistency... Passed\n",
      "Automatically detected type of target variable type: binary\n",
      "\n",
      "-- Test set was not provided, could not detect if novel instances exist or not \n",
      "-- Test set was not provided, could not detect if novel targets exist or not \n",
      "\n",
      "Instance features file: processing features... Done\n",
      "\n",
      "Cross input consistency for (numpy) interaction data and instance features checks out\n",
      "-- Same instance ids in the interaction and features files for the train set\n",
      "\n",
      "Splitting train to train-test according to validation setting B... Done\n",
      "Splitting train to train-val according to validation setting B... Done\n",
      "Checking if MLC splitting results are valid... Done\n"
     ]
    }
   ],
   "source": [
    "# dummy_mlc_data = process_dummy_MLC()\n",
    "data_mlc = load_process_MLC(dataset_name='bibtex', variant='undivided', features_type='dataframe')\n",
    "\n",
    "train_mlc, val_mlc, test_mlc, data_info_mlc = data_process(data_mlc, validation_setting='B', verbose=True)\n",
    "check_mlc_results(train_mlc, val_mlc, test_mlc)"
   ]
  },
  {
   "cell_type": "markdown",
   "metadata": {},
   "source": [
    "# Multivariate regression (MTR)"
   ]
  },
  {
   "cell_type": "code",
   "execution_count": 10,
   "metadata": {},
   "outputs": [
    {
     "name": "stdout",
     "output_type": "stream",
     "text": [
      "Processing...\n",
      "Done\n",
      "Interaction file: 2d numpy array format detected\n",
      "Interaction file: checking format consistency... Passed\n",
      "Interaction file: checking instance id format consistency... Passed\n",
      "Interaction file: checking target id type consistency... Passed\n",
      "\n",
      "Interaction file: checking target variable type consistency... Passed\n",
      "Automatically detected type of target variable type: real-valued\n",
      "\n",
      "-- Test set was not provided, could not detect if novel instances exist or not \n",
      "-- Test set was not provided, could not detect if novel targets exist or not \n",
      "\n",
      "Instance features file: processing features... Done\n",
      "\n",
      "Cross input consistency for (numpy) interaction data and instance features checks out\n",
      "-- Same instance ids in the interaction and features files for the train set\n",
      "\n",
      "Splitting train to train-test according to validation setting B... Done\n",
      "Splitting train to train-val according to validation setting B... Done\n",
      "Checking if MTR splitting results are valid... Done\n"
     ]
    }
   ],
   "source": [
    "# dummy_mtr_data = process_dummy_MTR()\n",
    "mtr_data = load_process_MTR(dataset_name='enb', features_type='dataframe')\n",
    "train_mtr, val_mtr, test_mtr, data_info_mtr = data_process(mtr_data, validation_setting='B', verbose=True)\n",
    "\n",
    "check_mtr_results(train_mtr, val_mtr, test_mtr)"
   ]
  },
  {
   "cell_type": "markdown",
   "metadata": {},
   "source": [
    "# Multi-task learning (MTL)"
   ]
  },
  {
   "cell_type": "code",
   "execution_count": 4,
   "metadata": {},
   "outputs": [
    {
     "name": "stdout",
     "output_type": "stream",
     "text": [
      "base_dir: ./data/multi-task_learning-datasets\n",
      "data_dir: ./data/multi-task_learning-datasets/dog\n",
      "Downloading dataset dog from scratch... Done\n",
      "Interaction file: triplet format detected\n",
      "Interaction file: triplet format detected\n",
      "Interaction file: checking format consistency... Passed\n",
      "Interaction file: checking instance id format consistency... Passed\n",
      "Interaction file: checking target id type consistency... Passed\n",
      "\n",
      "Interaction file: checking target variable type consistency... Passed\n",
      "Automatically detected type of target variable type: binary\n",
      "\n",
      "Interaction file: Checking for novel instances... Done\n",
      "-- Novel instances detected in the test set\n",
      "Interaction file: Checking for novel targets... Done\n",
      "-- no Novel targets detected in the test set\n",
      "Estimating validation setting... Done-- Detected as setting :B\n",
      "\n",
      "Instance features file: processing features... Done\n",
      "Instance features file: processing features... Done\n",
      "\n",
      "-- Same instance ids in the interaction and features files for the train set\n",
      "-- Same instance ids in the interaction and features files for the test set\n",
      "\n",
      "Splitting train to train-val according to validation setting B... Done\n",
      "Checking if MTR splitting results are valid... Done\n"
     ]
    }
   ],
   "source": [
    "mtl_data = load_process_MTL(dataset_name='dog')\n",
    "train_mtl, val_mtl, test_mtl, data_info_mtl = data_process(mtl_data, validation_setting='B', verbose=True)\n",
    "check_mtl_results(train_mtl, val_mtl, test_mtl)"
   ]
  },
  {
   "cell_type": "markdown",
   "metadata": {},
   "source": [
    "# Dyadic Prediction (DP)"
   ]
  },
  {
   "cell_type": "code",
   "execution_count": 8,
   "metadata": {},
   "outputs": [
    {
     "name": "stdout",
     "output_type": "stream",
     "text": [
      "Processing...\n",
      "Downloading dataset from scratch... Done\n",
      "Done\n",
      "Interaction file: 2d numpy array format detected\n",
      "Interaction file: checking format consistency... Passed\n",
      "Interaction file: checking instance id format consistency... Passed\n",
      "Interaction file: checking target id type consistency... Passed\n",
      "\n",
      "Interaction file: checking target variable type consistency... Passed\n",
      "Automatically detected type of target variable type: binary\n",
      "\n",
      "-- Test set was not provided, could not detect if novel instances exist or not \n",
      "-- Test set was not provided, could not detect if novel targets exist or not \n",
      "\n",
      "Instance features file: processing features... Done\n",
      "Instance features file: processing features... Done\n",
      "\n",
      "Cross input consistency for (numpy) interaction data and instance features checks out\n",
      "Cross input consistency for (numpy) interaction data and target features checks out\n",
      "\n",
      "Splitting train to train-test according to validation setting D... Done\n",
      "Splitting train to train-val according to validation setting D... Done\n",
      "Checking if DP splitting results are valid... Done\n"
     ]
    }
   ],
   "source": [
    "# dummy_dp_data = process_dummy_DP()\n",
    "dp_data = load_process_DP(dataset_name='ern')\n",
    "\n",
    "train_dp, val_dp, test_dp, data_info_dp = data_process(dp_data, validation_setting='D', verbose=True)\n",
    "check_dp_results(train_dp, val_dp, test_dp)"
   ]
  },
  {
   "cell_type": "markdown",
   "metadata": {},
   "source": [
    "# Matrix Completion"
   ]
  },
  {
   "cell_type": "code",
   "execution_count": 2,
   "metadata": {},
   "outputs": [
    {
     "name": "stdout",
     "output_type": "stream",
     "text": [
      "Interaction file: triplet format detected\n",
      "Interaction file: checking format consistency... Passed\n",
      "Interaction file: checking instance id format consistency... Passed\n",
      "Interaction file: checking target id type consistency... Passed\n",
      "\n",
      "Interaction file: checking target variable type consistency... Passed\n",
      "Automatically detected type of target variable type: real-valued\n",
      "\n",
      "-- Test set was not provided, could not detect if novel instances exist or not \n",
      "-- Test set was not provided, could not detect if novel targets exist or not \n",
      "\n",
      "\n",
      "\n",
      "Splitting train to train-test according to validation setting A... Done\n",
      "Splitting train to train-val according to validation setting A... Done\n",
      "Checking if MC splitting results are valid... "
     ]
    }
   ],
   "source": [
    "mc_data = load_process_MC(dataset_name='ml-100k')\n",
    "\n",
    "train_mc, val_mc, test_mc, data_info_mc = data_process(mc_data, validation_setting='A', verbose=True)\n",
    "check_mc_results(train_mc, val_mc, test_mc)"
   ]
  },
  {
   "cell_type": "code",
   "execution_count": null,
   "metadata": {},
   "outputs": [],
   "source": []
  }
 ],
 "metadata": {
  "kernelspec": {
   "display_name": "Python 3.8.13 64-bit ('predmod')",
   "language": "python",
   "name": "python3"
  },
  "language_info": {
   "codemirror_mode": {
    "name": "ipython",
    "version": 3
   },
   "file_extension": ".py",
   "mimetype": "text/x-python",
   "name": "python",
   "nbconvert_exporter": "python",
   "pygments_lexer": "ipython3",
   "version": "3.8.13"
  },
  "orig_nbformat": 4,
  "vscode": {
   "interpreter": {
    "hash": "05d108033517af38dac400e531b3a1cb8d3cc329805cb3cdfc17596661f3783b"
   }
  }
 },
 "nbformat": 4,
 "nbformat_minor": 2
}
