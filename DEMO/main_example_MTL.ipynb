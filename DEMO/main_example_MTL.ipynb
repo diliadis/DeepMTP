{
 "cells": [
  {
   "cell_type": "code",
   "execution_count": 1,
   "metadata": {},
   "outputs": [
    {
     "name": "stderr",
     "output_type": "stream",
     "text": [
      "/home/dimitriosi/.local/lib/python3.8/site-packages/tqdm/auto.py:22: TqdmWarning: IProgress not found. Please update jupyter and ipywidgets. See https://ipywidgets.readthedocs.io/en/stable/user_install.html\n",
      "  from .autonotebook import tqdm as notebook_tqdm\n"
     ]
    }
   ],
   "source": [
    "import os\n",
    "# os.chdir('../')\n",
    "import pandas as pd\n",
    "import numpy as np\n",
    "from DeepMTP.dataset import load_process_MLC, load_process_MTR, load_process_DP, process_dummy_MLC, process_dummy_MTR, process_dummy_DP, load_process_MC, load_process_MTL\n",
    "from DeepMTP.utils.data_utils import data_process, BaseDataset\n",
    "from DeepMTP.utils.tests import check_mlc_results, check_mtr_results, check_dp_results, check_mtl_results\n",
    "from DeepMTP.main import DeepMTP\n",
    "from DeepMTP.utils.utils import generate_config\n",
    "from tqdm import tqdm\n",
    "from PIL import Image"
   ]
  },
  {
   "cell_type": "markdown",
   "metadata": {},
   "source": [
    "# Multi-task learning\n",
    "<img src=\"../images/mtl_example.png\"/>"
   ]
  },
  {
   "cell_type": "markdown",
   "metadata": {},
   "source": [
    "# load-process-split"
   ]
  },
  {
   "cell_type": "code",
   "execution_count": 2,
   "metadata": {},
   "outputs": [
    {
     "name": "stdout",
     "output_type": "stream",
     "text": [
      "base_dir: data/multi-task_learning-datasets\n",
      "data_dir: data/multi-task_learning-datasets/dog\n",
      "Interaction file: triplet format detected\n",
      "Interaction file: triplet format detected\n",
      "Interaction file: checking format consistency... Passed\n",
      "Interaction file: checking instance id format consistency... Passed\n",
      "Interaction file: checking target id type consistency... Passed\n",
      "\n",
      "Interaction file: checking target variable type consistency... Passed\n",
      "Automatically detected type of target variable type: binary\n",
      "\n",
      "Interaction file: Checking for novel instances... Done\n",
      "-- Novel instances detected in the test set\n",
      "Interaction file: Checking for novel targets... Done\n",
      "-- no Novel targets detected in the test set\n",
      "Estimating validation setting... Done-- Detected as setting :B\n",
      "\n",
      "Instance features file: processing features... Done\n",
      "Instance features file: processing features... Done\n",
      "\n",
      "-- Same instance ids in the interaction and features files for the train set\n",
      "-- Same instance ids in the interaction and features files for the test set\n",
      "\n",
      "Splitting train to train-val according to validation setting B... Done\n",
      "Checking if MTR splitting results are valid... Done\n"
     ]
    }
   ],
   "source": [
    "# load dataset\n",
    "data = load_process_MTL('data')\n",
    "# process and split\n",
    "train, val, test, data_info = data_process(data, validation_setting='B', verbose=True)\n",
    "# sanity check\n",
    "check_mtl_results(train, val, test)"
   ]
  },
  {
   "cell_type": "code",
   "execution_count": 3,
   "metadata": {},
   "outputs": [
    {
     "data": {
      "text/plain": [
       "{'detected_validation_setting': 'B',\n",
       " 'detected_problem_mode': 'classification',\n",
       " 'instance_branch_input_dim': None,\n",
       " 'target_branch_input_dim': 52}"
      ]
     },
     "execution_count": 3,
     "metadata": {},
     "output_type": "execute_result"
    }
   ],
   "source": [
    "data_info"
   ]
  },
  {
   "cell_type": "code",
   "execution_count": 4,
   "metadata": {},
   "outputs": [
    {
     "data": {
      "text/plain": [
       "{'y': {'data':       instance_id  target_id  value\n",
       "  0             290          2    1.0\n",
       "  1             290          3    0.0\n",
       "  2             290         14    1.0\n",
       "  3             290         17    1.0\n",
       "  4             290         21    1.0\n",
       "  ...           ...        ...    ...\n",
       "  5441          102         26    0.0\n",
       "  5442          102         32    1.0\n",
       "  5443          102         43    1.0\n",
       "  5444          102         47    1.0\n",
       "  5445          102         48    1.0\n",
       "  \n",
       "  [4916 rows x 3 columns],\n",
       "  'original_format': 'triplets',\n",
       "  'instance_id_type': 'int',\n",
       "  'target_id_type': 'int',\n",
       "  'missing_values': True},\n",
       " 'X_instance': {'data':       id                                                dir\n",
       "  id                                                         \n",
       "  290  290  data/multi-task_learning-datasets/dog/image/29...\n",
       "  158  158  data/multi-task_learning-datasets/dog/image/15...\n",
       "  517  517  data/multi-task_learning-datasets/dog/image/51...\n",
       "  131  131  data/multi-task_learning-datasets/dog/image/13...\n",
       "  44    44  data/multi-task_learning-datasets/dog/image/45...\n",
       "  ..   ...                                                ...\n",
       "  20    20  data/multi-task_learning-datasets/dog/image/21...\n",
       "  700  700  data/multi-task_learning-datasets/dog/image/70...\n",
       "  270  270  data/multi-task_learning-datasets/dog/image/27...\n",
       "  435  435  data/multi-task_learning-datasets/dog/image/43...\n",
       "  102  102  data/multi-task_learning-datasets/dog/image/10...\n",
       "  \n",
       "  [540 rows x 2 columns],\n",
       "  'num_features': None,\n",
       "  'info': 'images'},\n",
       " 'X_target': None}"
      ]
     },
     "execution_count": 4,
     "metadata": {},
     "output_type": "execute_result"
    }
   ],
   "source": [
    "train"
   ]
  },
  {
   "cell_type": "markdown",
   "metadata": {},
   "source": [
    "# Configure and train network"
   ]
  },
  {
   "cell_type": "code",
   "execution_count": 5,
   "metadata": {},
   "outputs": [],
   "source": [
    "config = generate_config(    \n",
    "    instance_branch_input_dim = data_info['instance_branch_input_dim'],\n",
    "    target_branch_input_dim = data_info['target_branch_input_dim'],\n",
    "    validation_setting = data_info['detected_validation_setting'],\n",
    "    general_architecture_version = 'dot_product',\n",
    "    problem_mode = data_info['detected_problem_mode'],\n",
    "    learning_rate = 0.0001,\n",
    "    decay = 0,\n",
    "    batch_norm = False,\n",
    "    dropout_rate = 0,\n",
    "    momentum = 0.9,\n",
    "    weighted_loss = False,\n",
    "    compute_mode = 'cuda:1',\n",
    "    train_batchsize = 512,\n",
    "    val_batchsize = 512,\n",
    "    num_epochs = 50,\n",
    "    num_workers = 8,\n",
    "    metrics = ['aupr', 'auroc'],\n",
    "    metrics_average = ['macro'],\n",
    "    patience = 10,\n",
    "\n",
    "    evaluate_train = True,\n",
    "    evaluate_val = True,\n",
    "\n",
    "    verbose = True,\n",
    "    results_verbose = False,\n",
    "    use_early_stopping = True,\n",
    "    use_tensorboard_logger = True,\n",
    "    wandb_project_name = 'DeepMTP_v2',\n",
    "    wandb_project_entity = 'diliadis',\n",
    "    metric_to_optimize_early_stopping = 'loss',\n",
    "    metric_to_optimize_best_epoch_selection = 'loss',\n",
    "\n",
    "    instance_branch_architecture = 'CONV',\n",
    "    use_instance_features = False,\n",
    "    instance_branch_params = {\n",
    "        # 'instance_branch_nodes_reducing_factor': 2,\n",
    "        # 'instance_branch_nodes_per_layer': [123, 100],\n",
    "        # 'instance_branch_layers': None,\n",
    "        'instance_branch_conv_architecture': 'resnet',\n",
    "        'instance_branch_conv_architecture_version': 'resnet101',\n",
    "        'instance_branch_conv_architecture_dense_layers': 1,\n",
    "        'instance_branch_conv_architecture_last_layer_trained': 'last',\n",
    "    },\n",
    "\n",
    "\n",
    "    target_branch_architecture = 'MLP',\n",
    "    use_target_features = False,\n",
    "    target_branch_params = {\n",
    "        'target_branch_nodes_reducing_factor': 2,\n",
    "        'target_branch_nodes_per_layer': [512, 256],\n",
    "        'target_branch_layers': None,\n",
    "        # 'target_branch_conv_architecture': 'resnet',\n",
    "        # 'target_branch_conv_architecture_version': 'resnet101',\n",
    "        # 'target_branch_conv_architecture_dense_layers': 1,\n",
    "        # 'target_branch_conv_architecture_last_layer_trained': 'last',\n",
    "    },\n",
    "\n",
    "    embedding_size = 30,\n",
    "    comb_mlp_nodes_reducing_factor = 2,\n",
    "    comb_mlp_nodes_per_layer = [2048, 2048, 2048],\n",
    "    comb_mlp_layers = None, \n",
    "\n",
    "    save_model = True,\n",
    "\n",
    "    eval_every_n_epochs = 10,\n",
    "    \n",
    "\n",
    "    additional_info = {})"
   ]
  },
  {
   "cell_type": "code",
   "execution_count": 6,
   "metadata": {},
   "outputs": [
    {
     "data": {
      "text/plain": [
       "{'validation_setting': 'B',\n",
       " 'enable_dot_product_version': True,\n",
       " 'problem_mode': 'classification',\n",
       " 'learning_rate': 0.0001,\n",
       " 'decay': 0,\n",
       " 'batch_norm': False,\n",
       " 'dropout_rate': 0,\n",
       " 'momentum': 0.9,\n",
       " 'weighted_loss': False,\n",
       " 'compute_mode': 'cuda:1',\n",
       " 'num_workers': 8,\n",
       " 'train_batchsize': 512,\n",
       " 'val_batchsize': 512,\n",
       " 'num_epochs': 50,\n",
       " 'use_early_stopping': True,\n",
       " 'patience': 10,\n",
       " 'evaluate_train': True,\n",
       " 'evaluate_val': True,\n",
       " 'verbose': True,\n",
       " 'results_verbose': False,\n",
       " 'return_results_per_target': False,\n",
       " 'metric_to_optimize_early_stopping': 'loss',\n",
       " 'metric_to_optimize_best_epoch_selection': 'loss',\n",
       " 'instance_branch_architecture': 'CONV',\n",
       " 'target_branch_architecture': 'MLP',\n",
       " 'use_instance_features': False,\n",
       " 'use_target_features': False,\n",
       " 'use_tensorboard_logger': True,\n",
       " 'wandb_project_name': 'DeepMTP_v2',\n",
       " 'wandb_project_entity': 'diliadis',\n",
       " 'results_path': './results/',\n",
       " 'experiment_name': None,\n",
       " 'save_model': True,\n",
       " 'instance_branch_input_dim': None,\n",
       " 'target_branch_input_dim': 52,\n",
       " 'eval_every_n_epochs': 10,\n",
       " 'load_pretrained_model': False,\n",
       " 'pretrained_model_path': '',\n",
       " 'instance_train_transforms': Compose(\n",
       "     Resize(size=(224, 224), interpolation=bilinear, max_size=None, antialias=None)\n",
       "     RandomRotation(degrees=[-5.0, 5.0], interpolation=nearest, expand=False, fill=0)\n",
       "     RandomHorizontalFlip(p=0.5)\n",
       "     RandomCrop(size=(224, 224), padding=10)\n",
       "     ToTensor()\n",
       "     Normalize(mean=[0.485, 0.456, 0.406], std=[0.229, 0.224, 0.225])\n",
       " ),\n",
       " 'instance_inference_transforms': Compose(\n",
       "     Resize(size=(224, 224), interpolation=bilinear, max_size=None, antialias=None)\n",
       "     ToTensor()\n",
       "     Normalize(mean=[0.485, 0.456, 0.406], std=[0.229, 0.224, 0.225])\n",
       " ),\n",
       " 'target_train_transforms': None,\n",
       " 'target_inference_transforms': None,\n",
       " 'metrics': ['aupr', 'auroc'],\n",
       " 'metrics_average': ['macro'],\n",
       " 'embedding_size': 30,\n",
       " 'instance_branch_conv_architecture': 'resnet',\n",
       " 'instance_branch_conv_architecture_version': 'resnet101',\n",
       " 'instance_branch_conv_architecture_dense_layers': 1,\n",
       " 'instance_branch_conv_architecture_last_layer_trained': 'last',\n",
       " 'target_branch_nodes_per_layer': [512, 256],\n",
       " 'target_branch_layers': None,\n",
       " 'target_branch_nodes_reducing_factor': 2}"
      ]
     },
     "execution_count": 6,
     "metadata": {},
     "output_type": "execute_result"
    }
   ],
   "source": [
    "config"
   ]
  },
  {
   "cell_type": "code",
   "execution_count": 7,
   "metadata": {},
   "outputs": [
    {
     "name": "stdout",
     "output_type": "stream",
     "text": [
      "CURRENT DIR: /data/dimitriosi_datasets/DeepMTP_v2\n",
      "Selected device: cuda:1\n"
     ]
    },
    {
     "name": "stderr",
     "output_type": "stream",
     "text": [
      "Failed to detect the name of this notebook, you can set it manually with the WANDB_NOTEBOOK_NAME environment variable to enable code saving.\n"
     ]
    },
    {
     "name": "stdout",
     "output_type": "stream",
     "text": [
      "current_path: b'/data/dimitriosi_datasets/DeepMTP_v2'\n",
      "current_path: b'/data/dimitriosi_datasets/DeepMTP_v2'\n",
      "current_path: b'/data/dimitriosi_datasets/DeepMTP_v2'\n",
      "Starting training...\n"
     ]
    },
    {
     "name": "stderr",
     "output_type": "stream",
     "text": [
      "\u001b[34m\u001b[1mwandb\u001b[0m: Currently logged in as: \u001b[33mdiliadis\u001b[0m. Use \u001b[1m`wandb login --relogin`\u001b[0m to force relogin\n"
     ]
    },
    {
     "data": {
      "text/html": [
       "Tracking run with wandb version 0.12.17"
      ],
      "text/plain": [
       "<IPython.core.display.HTML object>"
      ]
     },
     "metadata": {},
     "output_type": "display_data"
    },
    {
     "data": {
      "text/html": [
       "Run data is saved locally in <code>/data/dimitriosi_datasets/DeepMTP_v2/wandb/run-20220530_202338-3poevx81</code>"
      ],
      "text/plain": [
       "<IPython.core.display.HTML object>"
      ]
     },
     "metadata": {},
     "output_type": "display_data"
    },
    {
     "data": {
      "text/html": [
       "Syncing run <strong><a href=\"https://wandb.ai/diliadis/DeepMTP_v2/runs/3poevx81\" target=\"_blank\">hardy-frost-116</a></strong> to <a href=\"https://wandb.ai/diliadis/DeepMTP_v2\" target=\"_blank\">Weights & Biases</a> (<a href=\"https://wandb.me/run\" target=\"_blank\">docs</a>)<br/>"
      ],
      "text/plain": [
       "<IPython.core.display.HTML object>"
      ]
     },
     "metadata": {},
     "output_type": "display_data"
    },
    {
     "name": "stdout",
     "output_type": "stream",
     "text": [
      "Epoch:0... Done\n",
      "  Validating... Calculating val performance... Warning: instance3 has 1 unique true values\n",
      "Warning: instance6 has 1 unique true values\n",
      "Warning: instance13 has 1 unique true values\n",
      "Warning: instance22 has 1 unique true values\n",
      "Warning: instance25 has 1 unique true values\n",
      "Warning: instance34 has 1 unique true values\n",
      "Warning: instance46 has 1 unique true values\n",
      "Warning: instance50 has 1 unique true values\n",
      "Done\n",
      "Done\n",
      "Epoch:1... Done\n",
      "  Validating... Done\n",
      "-----------------------------EarlyStopping counter: 1 out of 10---------------------- best epoch currently 0\n",
      "Epoch:2... Done\n",
      "  Validating... Done\n",
      "-----------------------------EarlyStopping counter: 2 out of 10---------------------- best epoch currently 0\n",
      "Epoch:3... Done\n",
      "  Validating... Done\n",
      "-----------------------------EarlyStopping counter: 3 out of 10---------------------- best epoch currently 0\n",
      "Epoch:4... Done\n",
      "  Validating... Done\n",
      "-----------------------------EarlyStopping counter: 4 out of 10---------------------- best epoch currently 0\n",
      "Epoch:5... Done\n",
      "  Validating... Done\n",
      "-----------------------------EarlyStopping counter: 5 out of 10---------------------- best epoch currently 0\n",
      "Epoch:6... Done\n",
      "  Validating... Done\n",
      "-----------------------------EarlyStopping counter: 6 out of 10---------------------- best epoch currently 0\n",
      "Epoch:7... Done\n",
      "  Validating... Done\n",
      "-----------------------------EarlyStopping counter: 7 out of 10---------------------- best epoch currently 0\n",
      "Epoch:8... Done\n",
      "  Validating... Done\n",
      "-----------------------------EarlyStopping counter: 8 out of 10---------------------- best epoch currently 0\n",
      "Epoch:9... Done\n",
      "  Validating... Done\n",
      "-----------------------------EarlyStopping counter: 9 out of 10---------------------- best epoch currently 0\n",
      "Epoch:10... Done\n",
      "  Validating... Calculating val performance... Warning: instance3 has 1 unique true values\n",
      "Warning: instance6 has 1 unique true values\n",
      "Warning: instance13 has 1 unique true values\n",
      "Warning: instance22 has 1 unique true values\n",
      "Warning: instance25 has 1 unique true values\n",
      "Warning: instance34 has 1 unique true values\n",
      "Warning: instance46 has 1 unique true values\n",
      "Warning: instance50 has 1 unique true values\n",
      "Done\n",
      "Done\n",
      "-----------------------------EarlyStopping counter: 10 out of 10---------------------- best epoch currently 0\n",
      "Early stopping criterion met. Training stopped!!!\n",
      "Starting testing... Calculating test performance... Warning: instance5 has 1 unique true values\n",
      "Warning: instance49 has 1 unique true values\n",
      "Done\n",
      "Done\n"
     ]
    },
    {
     "data": {
      "text/html": [
       "Waiting for W&B process to finish... <strong style=\"color:green\">(success).</strong>"
      ],
      "text/plain": [
       "<IPython.core.display.HTML object>"
      ]
     },
     "metadata": {},
     "output_type": "display_data"
    },
    {
     "data": {
      "text/html": [
       "<style>\n",
       "    table.wandb td:nth-child(1) { padding: 0 10px; text-align: left ; width: auto;} td:nth-child(2) {text-align: left ; width: 100%}\n",
       "    .wandb-row { display: flex; flex-direction: row; flex-wrap: wrap; justify-content: flex-start; width: 100% }\n",
       "    .wandb-col { display: flex; flex-direction: column; flex-basis: 100%; flex: 1; padding: 10px; }\n",
       "    </style>\n",
       "<div class=\"wandb-row\"><div class=\"wandb-col\"><h3>Run history:</h3><br/><table class=\"wandb\"><tr><td>test_aupr_macro</td><td>▁</td></tr><tr><td>test_auroc_macro</td><td>▁</td></tr><tr><td>train_aupr_macro</td><td>▁█</td></tr><tr><td>train_auroc_macro</td><td>▁█</td></tr><tr><td>train_loss</td><td>█▄▃▃▃▂▂▁▁▁▁</td></tr><tr><td>val_aupr_macro</td><td>█▁</td></tr><tr><td>val_auroc_macro</td><td>█▁</td></tr><tr><td>val_loss</td><td>▁█▁▃▂▃▃▂▅▃▄</td></tr></table><br/></div><div class=\"wandb-col\"><h3>Run summary:</h3><br/><table class=\"wandb\"><tr><td>test_aupr_macro</td><td>0.70953</td></tr><tr><td>test_auroc_macro</td><td>0.42363</td></tr><tr><td>train_aupr_macro</td><td>0.77514</td></tr><tr><td>train_auroc_macro</td><td>0.5854</td></tr><tr><td>train_loss</td><td>0.56035</td></tr><tr><td>val_aupr_macro</td><td>0.69939</td></tr><tr><td>val_auroc_macro</td><td>0.39539</td></tr><tr><td>val_loss</td><td>0.72754</td></tr></table><br/></div></div>"
      ],
      "text/plain": [
       "<IPython.core.display.HTML object>"
      ]
     },
     "metadata": {},
     "output_type": "display_data"
    },
    {
     "data": {
      "text/html": [
       "Synced <strong style=\"color:#cdcd00\">hardy-frost-116</strong>: <a href=\"https://wandb.ai/diliadis/DeepMTP_v2/runs/3poevx81\" target=\"_blank\">https://wandb.ai/diliadis/DeepMTP_v2/runs/3poevx81</a><br/>Synced 6 W&B file(s), 0 media file(s), 0 artifact file(s) and 0 other file(s)"
      ],
      "text/plain": [
       "<IPython.core.display.HTML object>"
      ]
     },
     "metadata": {},
     "output_type": "display_data"
    },
    {
     "data": {
      "text/html": [
       "Find logs at: <code>./wandb/run-20220530_202338-3poevx81/logs</code>"
      ],
      "text/plain": [
       "<IPython.core.display.HTML object>"
      ]
     },
     "metadata": {},
     "output_type": "display_data"
    },
    {
     "name": "stdout",
     "output_type": "stream",
     "text": [
      "+-------+--------+--------+------------+-------------+\n",
      "|  mode | #epoch |  loss  | aupr_macro | auroc_macro |\n",
      "+-------+--------+--------+------------+-------------+\n",
      "| train |   0    | 0.6494 |   0.731    |    0.4844   |\n",
      "| train |   1    | 0.5989 |     -      |      -      |\n",
      "| train |   2    | 0.591  |     -      |      -      |\n",
      "| train |   3    | 0.5876 |     -      |      -      |\n",
      "| train |   4    | 0.581  |     -      |      -      |\n",
      "| train |   5    | 0.5769 |     -      |      -      |\n",
      "| train |   6    | 0.5726 |     -      |      -      |\n",
      "| train |   7    | 0.5666 |     -      |      -      |\n",
      "| train |   8    | 0.5646 |     -      |      -      |\n",
      "| train |   9    | 0.5625 |     -      |      -      |\n",
      "+-------+--------+--------+------------+-------------+\n",
      "====================\n",
      "+------+--------+--------+------------+-------------+----------------+\n",
      "| mode | #epoch |  loss  | aupr_macro | auroc_macro | early_stopping |\n",
      "+------+--------+--------+------------+-------------+----------------+\n",
      "| val  |   0    | 0.7021 |   0.7048   |    0.4009   |      0/10      |\n",
      "| val  |   1    | 0.7579 |     -      |      -      |      1/10      |\n",
      "| val  |   2    | 0.7035 |     -      |      -      |      2/10      |\n",
      "| val  |   3    | 0.7192 |     -      |      -      |      3/10      |\n",
      "| val  |   4    | 0.7124 |     -      |      -      |      4/10      |\n",
      "| val  |   5    | 0.7173 |     -      |      -      |      5/10      |\n",
      "| val  |   6    | 0.7217 |     -      |      -      |      6/10      |\n",
      "| val  |   7    | 0.7129 |     -      |      -      |      7/10      |\n",
      "| val  |   8    | 0.7363 |     -      |      -      |      8/10      |\n",
      "| val  |   9    | 0.7213 |     -      |      -      |      9/10      |\n",
      "+------+--------+--------+------------+-------------+----------------+\n",
      "====================\n",
      "+------+--------+------+------------+-------------+\n",
      "| mode | #epoch | loss | aupr_macro | auroc_macro |\n",
      "+------+--------+------+------------+-------------+\n",
      "| test |   0    |  -   |   0.7095   |    0.4236   |\n",
      "+------+--------+------+------------+-------------+\n",
      "Saving the best model... Done\n"
     ]
    }
   ],
   "source": [
    "# initialize model\n",
    "model = DeepMTP(config)\n",
    "# print(str(model.deepMTP_model))\n",
    "\n",
    "# train, validate, test\n",
    "validation_results = model.train(train, val, test)"
   ]
  },
  {
   "cell_type": "code",
   "execution_count": null,
   "metadata": {},
   "outputs": [],
   "source": []
  },
  {
   "cell_type": "markdown",
   "metadata": {},
   "source": [
    "# Inference"
   ]
  },
  {
   "cell_type": "code",
   "execution_count": null,
   "metadata": {},
   "outputs": [],
   "source": [
    "# generate predictions from the trained model\n",
    "results, preds = model.predict(train, return_predictions=True ,verbose=True)"
   ]
  },
  {
   "cell_type": "markdown",
   "metadata": {},
   "source": [
    "# Continue training model"
   ]
  },
  {
   "cell_type": "code",
   "execution_count": null,
   "metadata": {},
   "outputs": [],
   "source": [
    "# this is a minimal configuration needed for HPO methods like Hyperband\n",
    "config = {\n",
    "    'verbose': True,\n",
    "    'num_epochs': 20,\n",
    "    'num_workers': 8,\n",
    "    # 'wandb_project_name': None,\n",
    "    # 'wandb_project_entity': None,\n",
    "    # 'use_tensorboard_logger': False\n",
    "}\n",
    "# initialize the model and load the pretrained weights etc.\n",
    "new_model = DeepMTP(config, 'add path to model.pt')\n",
    "\n",
    "new_model.train(train, val, test)"
   ]
  },
  {
   "cell_type": "code",
   "execution_count": null,
   "metadata": {},
   "outputs": [],
   "source": []
  },
  {
   "cell_type": "code",
   "execution_count": null,
   "metadata": {},
   "outputs": [],
   "source": []
  },
  {
   "cell_type": "code",
   "execution_count": null,
   "metadata": {},
   "outputs": [],
   "source": []
  },
  {
   "cell_type": "code",
   "execution_count": null,
   "metadata": {},
   "outputs": [],
   "source": []
  }
 ],
 "metadata": {
  "kernelspec": {
   "display_name": "Python 3.8.13 ('deepMTP_env_source': conda)",
   "language": "python",
   "name": "python3"
  },
  "language_info": {
   "codemirror_mode": {
    "name": "ipython",
    "version": 3
   },
   "file_extension": ".py",
   "mimetype": "text/x-python",
   "name": "python",
   "nbconvert_exporter": "python",
   "pygments_lexer": "ipython3",
   "version": "3.8.13"
  },
  "orig_nbformat": 4,
  "vscode": {
   "interpreter": {
    "hash": "c0bffa426c47be87a03a22c79420a878934c6514bf0edb62313e132440f2a8f4"
   }
  }
 },
 "nbformat": 4,
 "nbformat_minor": 2
}
