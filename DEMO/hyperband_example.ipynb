{
 "cells": [
  {
   "cell_type": "code",
   "execution_count": 1,
   "metadata": {},
   "outputs": [],
   "source": [
    "import os\n",
    "os.chdir('../')\n",
    "\n",
    "from ast import arg\n",
    "from DeepMTP.main import DeepMTP\n",
    "from DeepMTP.hpo_worker import BaseWorker\n",
    "from DeepMTP.simple_hyperband import HyperBand\n",
    "from DeepMTP.dataset import load_process_MLC, load_process_MTR, load_process_DP, process_dummy_MLC, process_dummy_MTR, process_dummy_DP, load_process_MC\n",
    "from DeepMTP.utils.data_utils import data_process, BaseDataset\n",
    "from DeepMTP.utils.utils import generate_config\n",
    "import ConfigSpace as CS\n",
    "import ConfigSpace.hyperparameters as CSH"
   ]
  },
  {
   "cell_type": "code",
   "execution_count": 2,
   "metadata": {},
   "outputs": [
    {
     "data": {
      "text/plain": [
       "(batch_norm | instance_branch_layers > 1 || batch_norm | target_branch_layers > 1)"
      ]
     },
     "execution_count": 2,
     "metadata": {},
     "output_type": "execute_result"
    }
   ],
   "source": [
    "# define the configuration space\n",
    "cs= CS.ConfigurationSpace()\n",
    "\n",
    "lr= CSH.UniformFloatHyperparameter(\n",
    "    \"learning_rate\", lower=1e-6, upper=1e-3, default_value=\"1e-3\", log=True\n",
    ")\n",
    "cs.add_hyperparameters([lr])\n",
    "\n",
    "embedding_size= CSH.UniformIntegerHyperparameter(\n",
    "    \"embedding_size\", lower=8, upper=2048, default_value=64, log=False\n",
    ")\n",
    "\n",
    "instance_branch_layers= CSH.UniformIntegerHyperparameter(\n",
    "    \"instance_branch_layers\", lower=1, upper=2, default_value=1, log=False\n",
    ")\n",
    "\n",
    "instance_branch_nodes_per_layer= CSH.UniformIntegerHyperparameter(\n",
    "    \"instance_branch_nodes_per_layer\", lower=8, upper=2048, default_value=64, log=False\n",
    ")\n",
    "\n",
    "target_branch_layers = CSH.UniformIntegerHyperparameter(\n",
    "    \"target_branch_layers\", lower=1, upper=2, default_value=1, log=False\n",
    ")\n",
    "\n",
    "target_branch_nodes_per_layer = CSH.UniformIntegerHyperparameter(\n",
    "    \"target_branch_nodes_per_layer\", lower=8, upper=2048, default_value=64, log=False\n",
    ")\n",
    "\n",
    "dropout_rate = CSH.UniformFloatHyperparameter(\n",
    "    \"dropout_rate\", lower=0.0, upper=0.9, default_value=0.4, log=False\n",
    ")\n",
    "\n",
    "batch_norm = CSH.CategoricalHyperparameter(\"batch_norm\", [True, False])\n",
    "\n",
    "cs.add_hyperparameters(\n",
    "    [\n",
    "        embedding_size,\n",
    "        instance_branch_layers,\n",
    "        instance_branch_nodes_per_layer,\n",
    "        target_branch_layers,\n",
    "        target_branch_nodes_per_layer,\n",
    "        dropout_rate,\n",
    "        batch_norm,\n",
    "    ]\n",
    ")\n",
    "\n",
    "cond = CS.GreaterThanCondition(dropout_rate, instance_branch_layers, 1)\n",
    "cond2 = CS.GreaterThanCondition(batch_norm, instance_branch_layers, 1)\n",
    "cond3 = CS.GreaterThanCondition(dropout_rate, target_branch_layers, 1)\n",
    "cond4 = CS.GreaterThanCondition(batch_norm, target_branch_layers, 1)\n",
    "\n",
    "cs.add_condition(CS.OrConjunction(cond, cond3))\n",
    "cs.add_condition(CS.OrConjunction(cond2, cond4))"
   ]
  },
  {
   "cell_type": "code",
   "execution_count": 3,
   "metadata": {},
   "outputs": [
    {
     "name": "stdout",
     "output_type": "stream",
     "text": [
      "Processing...\n",
      "yeast:undivided - exists, not redownloading\n",
      "Done\n",
      "Interaction file: 2d numpy array format detected\n",
      "Interaction file: checking format consistency... Passed\n",
      "Interaction file: checking instance id format consistency... Passed\n",
      "Interaction file: checking target id type consistency... Passed\n",
      "\n",
      "Interaction file: checking target variable type consistency... Passed\n",
      "Automatically detected type of target variable type: binary\n",
      "\n",
      "-- Test set was not provided, could not detect if novel instances exist or not \n",
      "-- Test set was not provided, could not detect if novel targets exist or not \n",
      "\n",
      "Instance features file: processing features... Done\n",
      "\n",
      "Cross input consistency for (numpy) interaction data and instance features checks out\n",
      "-- Same instance ids in the interaction and features files for the train set\n",
      "\n",
      "Splitting train to train-test according to validation setting B... Done\n",
      "Splitting train to train-val according to validation setting B... Done\n"
     ]
    }
   ],
   "source": [
    "data = load_process_MLC(dataset_name='yeast', variant='undivided')\n",
    "train, val, test, data_info = data_process(data, validation_setting='B', verbose=True)"
   ]
  },
  {
   "cell_type": "code",
   "execution_count": 4,
   "metadata": {},
   "outputs": [
    {
     "data": {
      "text/plain": [
       "{'detected_validation_setting': 'B',\n",
       " 'detected_problem_mode': 'classification',\n",
       " 'instance_branch_input_dim': 103,\n",
       " 'target_branch_input_dim': 14}"
      ]
     },
     "execution_count": 4,
     "metadata": {},
     "output_type": "execute_result"
    }
   ],
   "source": [
    "data_info"
   ]
  },
  {
   "cell_type": "code",
   "execution_count": 5,
   "metadata": {},
   "outputs": [],
   "source": [
    "config = {    \n",
    "\n",
    "    'hpo_results_path': './hyperband/',\n",
    "\n",
    "    'instance_branch_input_dim': data_info['instance_branch_input_dim'],\n",
    "    'target_branch_input_dim': data_info['target_branch_input_dim'],\n",
    "    'validation_setting': data_info['detected_validation_setting'],\n",
    "    'enable_dot_product_version': True,\n",
    "    'problem_mode': data_info['detected_problem_mode'],\n",
    "\n",
    "    'compute_mode': 'cuda:1',\n",
    "    'train_batchsize': 512,\n",
    "    'val_batchsize': 512,\n",
    "    'num_epochs': 6,\n",
    "    'num_workers': 8,\n",
    "\n",
    "    'metrics': ['hamming_loss', 'auroc'],\n",
    "    'metrics_average': ['macro'],\n",
    "    'patience': 10,\n",
    "\n",
    "    'evaluate_train': True,\n",
    "    'evaluate_val': True,\n",
    "\n",
    "    'verbose': True,\n",
    "    'results_verbose': False,\n",
    "    'use_early_stopping': True,\n",
    "    'use_tensorboard_logger': True,\n",
    "    'wandb_project_name': 'DeepMTP_v2',\n",
    "    'wandb_project_entity': 'diliadis',\n",
    "    'metric_to_optimize_early_stopping': 'loss',\n",
    "    'metric_to_optimize_best_epoch_selection': 'loss',\n",
    "\n",
    "    'instance_branch_architecture': 'MLP',\n",
    "\n",
    "    'target_branch_architecture': 'MLP',\n",
    "\n",
    "    'save_model': True,\n",
    "\n",
    "    'eval_every_n_epochs': 10,\n",
    "\n",
    "    'running_hpo': True,\n",
    "\n",
    "    'additional_info': {'eta': 3, 'max_budget': 9}\n",
    "    }"
   ]
  },
  {
   "cell_type": "code",
   "execution_count": 6,
   "metadata": {},
   "outputs": [],
   "source": [
    "worker = BaseWorker(\n",
    "    train, val, test, data_info, config, 'loss'\n",
    ")"
   ]
  },
  {
   "cell_type": "code",
   "execution_count": 7,
   "metadata": {},
   "outputs": [
    {
     "data": {
      "text/plain": [
       "{'hpo_results_path': './hyperband/',\n",
       " 'instance_branch_input_dim': 103,\n",
       " 'target_branch_input_dim': 14,\n",
       " 'validation_setting': 'B',\n",
       " 'enable_dot_product_version': True,\n",
       " 'problem_mode': 'classification',\n",
       " 'compute_mode': 'cuda:1',\n",
       " 'train_batchsize': 512,\n",
       " 'val_batchsize': 512,\n",
       " 'num_epochs': 6,\n",
       " 'num_workers': 8,\n",
       " 'metrics': ['hamming_loss', 'auroc'],\n",
       " 'metrics_average': ['macro'],\n",
       " 'patience': 10,\n",
       " 'evaluate_train': True,\n",
       " 'evaluate_val': True,\n",
       " 'verbose': True,\n",
       " 'results_verbose': False,\n",
       " 'use_early_stopping': True,\n",
       " 'use_tensorboard_logger': True,\n",
       " 'wandb_project_name': 'DeepMTP_v2',\n",
       " 'wandb_project_entity': 'diliadis',\n",
       " 'metric_to_optimize_early_stopping': 'loss',\n",
       " 'metric_to_optimize_best_epoch_selection': 'loss',\n",
       " 'instance_branch_architecture': 'MLP',\n",
       " 'target_branch_architecture': 'MLP',\n",
       " 'save_model': True,\n",
       " 'eval_every_n_epochs': 10,\n",
       " 'running_hyperband': True,\n",
       " 'additional_info': {'eta': 3, 'max_budget': 9}}"
      ]
     },
     "execution_count": 7,
     "metadata": {},
     "output_type": "execute_result"
    }
   ],
   "source": [
    "worker.base_config"
   ]
  },
  {
   "cell_type": "code",
   "execution_count": 8,
   "metadata": {},
   "outputs": [
    {
     "name": "stdout",
     "output_type": "stream",
     "text": [
      "These are the pre-calculate brackets and successive halving runs:\n",
      "{9: {'n_i': [9, 3, 1], 'r_i': [1, 3, 9], 'num_iters': 3}, 3: {'n_i': [3], 'r_i': [9], 'num_iters': 1}}\n"
     ]
    }
   ],
   "source": [
    "hb = HyperBand(\n",
    "    base_worker=worker,\n",
    "    configspace=cs,\n",
    "    eta=config['additional_info']['eta'],\n",
    "    max_budget=config['additional_info']['max_budget'],\n",
    "    direction=\"min\",\n",
    "    verbose=True\n",
    ")"
   ]
  },
  {
   "cell_type": "code",
   "execution_count": 9,
   "metadata": {},
   "outputs": [
    {
     "name": "stdout",
     "output_type": "stream",
     "text": [
      "-- Running bracket with starting budget: 9\n",
      "---- Evaluating configuration... \n",
      "Selected device: cuda:1\n",
      "Starting training...\n"
     ]
    },
    {
     "name": "stderr",
     "output_type": "stream",
     "text": [
      "2022-06-20 12:53:46.501 ERROR   wandb.jupyter: Failed to detect the name of this notebook, you can set it manually with the WANDB_NOTEBOOK_NAME environment variable to enable code saving.\n",
      "\u001b[34m\u001b[1mwandb\u001b[0m: Currently logged in as: \u001b[33mdiliadis\u001b[0m. Use \u001b[1m`wandb login --relogin`\u001b[0m to force relogin\n"
     ]
    },
    {
     "data": {
      "text/html": [
       "wandb version 0.12.18 is available!  To upgrade, please run:\n",
       " $ pip install wandb --upgrade"
      ],
      "text/plain": [
       "<IPython.core.display.HTML object>"
      ]
     },
     "metadata": {},
     "output_type": "display_data"
    },
    {
     "data": {
      "text/html": [
       "Tracking run with wandb version 0.12.17"
      ],
      "text/plain": [
       "<IPython.core.display.HTML object>"
      ]
     },
     "metadata": {},
     "output_type": "display_data"
    },
    {
     "data": {
      "text/html": [
       "Run data is saved locally in <code>/data/dimitriosi_datasets/DeepMTP/wandb/run-20220620_125347-1v7spfe8</code>"
      ],
      "text/plain": [
       "<IPython.core.display.HTML object>"
      ]
     },
     "metadata": {},
     "output_type": "display_data"
    },
    {
     "data": {
      "text/html": [
       "Syncing run <strong><a href=\"https://wandb.ai/diliadis/DeepMTP_v2/runs/1v7spfe8\" target=\"_blank\">dry-frost-362</a></strong> to <a href=\"https://wandb.ai/diliadis/DeepMTP_v2\" target=\"_blank\">Weights & Biases</a> (<a href=\"https://wandb.me/run\" target=\"_blank\">docs</a>)<br/>"
      ],
      "text/plain": [
       "<IPython.core.display.HTML object>"
      ]
     },
     "metadata": {},
     "output_type": "display_data"
    },
    {
     "name": "stdout",
     "output_type": "stream",
     "text": [
      "Epoch:0... Done\n",
      "  Validating... Calculating val performance... Done\n",
      "Done\n",
      "Starting testing... Calculating test performance... Done\n",
      "Done\n"
     ]
    },
    {
     "data": {
      "text/html": [
       "Waiting for W&B process to finish... <strong style=\"color:green\">(success).</strong>"
      ],
      "text/plain": [
       "<IPython.core.display.HTML object>"
      ]
     },
     "metadata": {},
     "output_type": "display_data"
    },
    {
     "data": {
      "application/vnd.jupyter.widget-view+json": {
       "model_id": "6db360b941d84f35af0f5ea269176563",
       "version_major": 2,
       "version_minor": 0
      },
      "text/plain": [
       "VBox(children=(Label(value='0.001 MB of 0.001 MB uploaded (0.000 MB deduped)\\r'), FloatProgress(value=1.0, max…"
      ]
     },
     "metadata": {},
     "output_type": "display_data"
    },
    {
     "data": {
      "text/html": [
       "<style>\n",
       "    table.wandb td:nth-child(1) { padding: 0 10px; text-align: left ; width: auto;} td:nth-child(2) {text-align: left ; width: 100%}\n",
       "    .wandb-row { display: flex; flex-direction: row; flex-wrap: wrap; justify-content: flex-start; width: 100% }\n",
       "    .wandb-col { display: flex; flex-direction: column; flex-basis: 100%; flex: 1; padding: 10px; }\n",
       "    </style>\n",
       "<div class=\"wandb-row\"><div class=\"wandb-col\"><h3>Run history:</h3><br/><table class=\"wandb\"><tr><td>test_auroc_macro</td><td>▁</td></tr><tr><td>test_hamming_loss_macro</td><td>▁</td></tr><tr><td>train_auroc_macro</td><td>▁</td></tr><tr><td>train_hamming_loss_macro</td><td>▁</td></tr><tr><td>train_loss</td><td>▁</td></tr><tr><td>val_auroc_macro</td><td>▁</td></tr><tr><td>val_hamming_loss_macro</td><td>▁</td></tr><tr><td>val_loss</td><td>▁</td></tr></table><br/></div><div class=\"wandb-col\"><h3>Run summary:</h3><br/><table class=\"wandb\"><tr><td>test_auroc_macro</td><td>0.51415</td></tr><tr><td>test_hamming_loss_macro</td><td>0.69599</td></tr><tr><td>train_auroc_macro</td><td>0.49956</td></tr><tr><td>train_hamming_loss_macro</td><td>0.30284</td></tr><tr><td>train_loss</td><td>0.74881</td></tr><tr><td>val_auroc_macro</td><td>0.50185</td></tr><tr><td>val_hamming_loss_macro</td><td>0.7025</td></tr><tr><td>val_loss</td><td>0.73079</td></tr></table><br/></div></div>"
      ],
      "text/plain": [
       "<IPython.core.display.HTML object>"
      ]
     },
     "metadata": {},
     "output_type": "display_data"
    },
    {
     "data": {
      "text/html": [
       "Synced <strong style=\"color:#cdcd00\">dry-frost-362</strong>: <a href=\"https://wandb.ai/diliadis/DeepMTP_v2/runs/1v7spfe8\" target=\"_blank\">https://wandb.ai/diliadis/DeepMTP_v2/runs/1v7spfe8</a><br/>Synced 6 W&B file(s), 0 media file(s), 0 artifact file(s) and 0 other file(s)"
      ],
      "text/plain": [
       "<IPython.core.display.HTML object>"
      ]
     },
     "metadata": {},
     "output_type": "display_data"
    },
    {
     "data": {
      "text/html": [
       "Find logs at: <code>./wandb/run-20220620_125347-1v7spfe8/logs</code>"
      ],
      "text/plain": [
       "<IPython.core.display.HTML object>"
      ]
     },
     "metadata": {},
     "output_type": "display_data"
    },
    {
     "name": "stdout",
     "output_type": "stream",
     "text": [
      "+-------+--------+--------+--------------------+-------------+\n",
      "|  mode | #epoch |  loss  | hamming_loss_macro | auroc_macro |\n",
      "+-------+--------+--------+--------------------+-------------+\n",
      "| train |   0    | 0.7488 |       0.3028       |    0.4996   |\n",
      "+-------+--------+--------+--------------------+-------------+\n",
      "====================\n",
      "+------+--------+--------+--------------------+-------------+----------------+\n",
      "| mode | #epoch |  loss  | hamming_loss_macro | auroc_macro | early_stopping |\n",
      "+------+--------+--------+--------------------+-------------+----------------+\n",
      "| val  |   0    | 0.7308 |       0.7025       |    0.5019   |      0/10      |\n",
      "+------+--------+--------+--------------------+-------------+----------------+\n",
      "====================\n",
      "+------+--------+------+--------------------+-------------+\n",
      "| mode | #epoch | loss | hamming_loss_macro | auroc_macro |\n",
      "+------+--------+------+--------------------+-------------+\n",
      "| test |   0    |  -   |       0.696        |    0.5142   |\n",
      "+------+--------+------+--------------------+-------------+\n",
      "Saving the best model... Done\n",
      "---- Finished evaluating configuration with score: 0.7307929992675781\n",
      "---- Evaluating configuration... \n",
      "Selected device: cuda:1\n",
      "Starting training...\n"
     ]
    },
    {
     "data": {
      "text/html": [
       "wandb version 0.12.18 is available!  To upgrade, please run:\n",
       " $ pip install wandb --upgrade"
      ],
      "text/plain": [
       "<IPython.core.display.HTML object>"
      ]
     },
     "metadata": {},
     "output_type": "display_data"
    },
    {
     "data": {
      "text/html": [
       "Tracking run with wandb version 0.12.17"
      ],
      "text/plain": [
       "<IPython.core.display.HTML object>"
      ]
     },
     "metadata": {},
     "output_type": "display_data"
    },
    {
     "data": {
      "text/html": [
       "Run data is saved locally in <code>/data/dimitriosi_datasets/DeepMTP/wandb/run-20220620_125406-29ne5evq</code>"
      ],
      "text/plain": [
       "<IPython.core.display.HTML object>"
      ]
     },
     "metadata": {},
     "output_type": "display_data"
    },
    {
     "data": {
      "text/html": [
       "Syncing run <strong><a href=\"https://wandb.ai/diliadis/DeepMTP_v2/runs/29ne5evq\" target=\"_blank\">glad-cloud-363</a></strong> to <a href=\"https://wandb.ai/diliadis/DeepMTP_v2\" target=\"_blank\">Weights & Biases</a> (<a href=\"https://wandb.me/run\" target=\"_blank\">docs</a>)<br/>"
      ],
      "text/plain": [
       "<IPython.core.display.HTML object>"
      ]
     },
     "metadata": {},
     "output_type": "display_data"
    },
    {
     "name": "stdout",
     "output_type": "stream",
     "text": [
      "Epoch:0... Done\n",
      "  Validating... Calculating val performance... Done\n",
      "Done\n",
      "Starting testing... Calculating test performance... Done\n",
      "Done\n"
     ]
    },
    {
     "data": {
      "text/html": [
       "Waiting for W&B process to finish... <strong style=\"color:green\">(success).</strong>"
      ],
      "text/plain": [
       "<IPython.core.display.HTML object>"
      ]
     },
     "metadata": {},
     "output_type": "display_data"
    },
    {
     "data": {
      "application/vnd.jupyter.widget-view+json": {
       "model_id": "c3e2e7225d1b40099a9b8d7f4836ca3e",
       "version_major": 2,
       "version_minor": 0
      },
      "text/plain": [
       "VBox(children=(Label(value='0.001 MB of 0.001 MB uploaded (0.000 MB deduped)\\r'), FloatProgress(value=1.0, max…"
      ]
     },
     "metadata": {},
     "output_type": "display_data"
    },
    {
     "data": {
      "text/html": [
       "<style>\n",
       "    table.wandb td:nth-child(1) { padding: 0 10px; text-align: left ; width: auto;} td:nth-child(2) {text-align: left ; width: 100%}\n",
       "    .wandb-row { display: flex; flex-direction: row; flex-wrap: wrap; justify-content: flex-start; width: 100% }\n",
       "    .wandb-col { display: flex; flex-direction: column; flex-basis: 100%; flex: 1; padding: 10px; }\n",
       "    </style>\n",
       "<div class=\"wandb-row\"><div class=\"wandb-col\"><h3>Run history:</h3><br/><table class=\"wandb\"><tr><td>test_auroc_macro</td><td>▁</td></tr><tr><td>test_hamming_loss_macro</td><td>▁</td></tr><tr><td>train_auroc_macro</td><td>▁</td></tr><tr><td>train_hamming_loss_macro</td><td>▁</td></tr><tr><td>train_loss</td><td>▁</td></tr><tr><td>val_auroc_macro</td><td>▁</td></tr><tr><td>val_hamming_loss_macro</td><td>▁</td></tr><tr><td>val_loss</td><td>▁</td></tr></table><br/></div><div class=\"wandb-col\"><h3>Run summary:</h3><br/><table class=\"wandb\"><tr><td>test_auroc_macro</td><td>0.48487</td></tr><tr><td>test_hamming_loss_macro</td><td>0.69599</td></tr><tr><td>train_auroc_macro</td><td>0.50897</td></tr><tr><td>train_hamming_loss_macro</td><td>0.3058</td></tr><tr><td>train_loss</td><td>0.78421</td></tr><tr><td>val_auroc_macro</td><td>0.49391</td></tr><tr><td>val_hamming_loss_macro</td><td>0.7025</td></tr><tr><td>val_loss</td><td>0.7657</td></tr></table><br/></div></div>"
      ],
      "text/plain": [
       "<IPython.core.display.HTML object>"
      ]
     },
     "metadata": {},
     "output_type": "display_data"
    },
    {
     "data": {
      "text/html": [
       "Synced <strong style=\"color:#cdcd00\">glad-cloud-363</strong>: <a href=\"https://wandb.ai/diliadis/DeepMTP_v2/runs/29ne5evq\" target=\"_blank\">https://wandb.ai/diliadis/DeepMTP_v2/runs/29ne5evq</a><br/>Synced 6 W&B file(s), 0 media file(s), 0 artifact file(s) and 0 other file(s)"
      ],
      "text/plain": [
       "<IPython.core.display.HTML object>"
      ]
     },
     "metadata": {},
     "output_type": "display_data"
    },
    {
     "data": {
      "text/html": [
       "Find logs at: <code>./wandb/run-20220620_125406-29ne5evq/logs</code>"
      ],
      "text/plain": [
       "<IPython.core.display.HTML object>"
      ]
     },
     "metadata": {},
     "output_type": "display_data"
    },
    {
     "name": "stdout",
     "output_type": "stream",
     "text": [
      "+-------+--------+--------+--------------------+-------------+\n",
      "|  mode | #epoch |  loss  | hamming_loss_macro | auroc_macro |\n",
      "+-------+--------+--------+--------------------+-------------+\n",
      "| train |   0    | 0.7842 |       0.3058       |    0.509    |\n",
      "+-------+--------+--------+--------------------+-------------+\n",
      "====================\n",
      "+------+--------+--------+--------------------+-------------+----------------+\n",
      "| mode | #epoch |  loss  | hamming_loss_macro | auroc_macro | early_stopping |\n",
      "+------+--------+--------+--------------------+-------------+----------------+\n",
      "| val  |   0    | 0.7657 |       0.7025       |    0.4939   |      0/10      |\n",
      "+------+--------+--------+--------------------+-------------+----------------+\n",
      "====================\n",
      "+------+--------+------+--------------------+-------------+\n",
      "| mode | #epoch | loss | hamming_loss_macro | auroc_macro |\n",
      "+------+--------+------+--------------------+-------------+\n",
      "| test |   0    |  -   |       0.696        |    0.4849   |\n",
      "+------+--------+------+--------------------+-------------+\n",
      "Saving the best model... Done\n",
      "---- Finished evaluating configuration with score: 0.7657009462515513\n",
      "---- Evaluating configuration... \n",
      "Selected device: cuda:1\n",
      "Starting training...\n"
     ]
    },
    {
     "data": {
      "text/html": [
       "wandb version 0.12.18 is available!  To upgrade, please run:\n",
       " $ pip install wandb --upgrade"
      ],
      "text/plain": [
       "<IPython.core.display.HTML object>"
      ]
     },
     "metadata": {},
     "output_type": "display_data"
    },
    {
     "data": {
      "text/html": [
       "Tracking run with wandb version 0.12.17"
      ],
      "text/plain": [
       "<IPython.core.display.HTML object>"
      ]
     },
     "metadata": {},
     "output_type": "display_data"
    },
    {
     "data": {
      "text/html": [
       "Run data is saved locally in <code>/data/dimitriosi_datasets/DeepMTP/wandb/run-20220620_125426-3u7a7lny</code>"
      ],
      "text/plain": [
       "<IPython.core.display.HTML object>"
      ]
     },
     "metadata": {},
     "output_type": "display_data"
    },
    {
     "data": {
      "text/html": [
       "Syncing run <strong><a href=\"https://wandb.ai/diliadis/DeepMTP_v2/runs/3u7a7lny\" target=\"_blank\">cosmic-dragon-364</a></strong> to <a href=\"https://wandb.ai/diliadis/DeepMTP_v2\" target=\"_blank\">Weights & Biases</a> (<a href=\"https://wandb.me/run\" target=\"_blank\">docs</a>)<br/>"
      ],
      "text/plain": [
       "<IPython.core.display.HTML object>"
      ]
     },
     "metadata": {},
     "output_type": "display_data"
    },
    {
     "name": "stdout",
     "output_type": "stream",
     "text": [
      "Epoch:0... Done\n",
      "  Validating... Calculating val performance... Done\n",
      "Done\n",
      "Starting testing... Calculating test performance... Done\n",
      "Done\n"
     ]
    },
    {
     "data": {
      "text/html": [
       "Waiting for W&B process to finish... <strong style=\"color:green\">(success).</strong>"
      ],
      "text/plain": [
       "<IPython.core.display.HTML object>"
      ]
     },
     "metadata": {},
     "output_type": "display_data"
    },
    {
     "data": {
      "application/vnd.jupyter.widget-view+json": {
       "model_id": "15dcd6a8cb3645cd85c188bc749d9e27",
       "version_major": 2,
       "version_minor": 0
      },
      "text/plain": [
       "VBox(children=(Label(value='0.001 MB of 0.001 MB uploaded (0.000 MB deduped)\\r'), FloatProgress(value=1.0, max…"
      ]
     },
     "metadata": {},
     "output_type": "display_data"
    },
    {
     "data": {
      "text/html": [
       "<style>\n",
       "    table.wandb td:nth-child(1) { padding: 0 10px; text-align: left ; width: auto;} td:nth-child(2) {text-align: left ; width: 100%}\n",
       "    .wandb-row { display: flex; flex-direction: row; flex-wrap: wrap; justify-content: flex-start; width: 100% }\n",
       "    .wandb-col { display: flex; flex-direction: column; flex-basis: 100%; flex: 1; padding: 10px; }\n",
       "    </style>\n",
       "<div class=\"wandb-row\"><div class=\"wandb-col\"><h3>Run history:</h3><br/><table class=\"wandb\"><tr><td>test_auroc_macro</td><td>▁</td></tr><tr><td>test_hamming_loss_macro</td><td>▁</td></tr><tr><td>train_auroc_macro</td><td>▁</td></tr><tr><td>train_hamming_loss_macro</td><td>▁</td></tr><tr><td>train_loss</td><td>▁</td></tr><tr><td>val_auroc_macro</td><td>▁</td></tr><tr><td>val_hamming_loss_macro</td><td>▁</td></tr><tr><td>val_loss</td><td>▁</td></tr></table><br/></div><div class=\"wandb-col\"><h3>Run summary:</h3><br/><table class=\"wandb\"><tr><td>test_auroc_macro</td><td>0.46963</td></tr><tr><td>test_hamming_loss_macro</td><td>0.69599</td></tr><tr><td>train_auroc_macro</td><td>0.49914</td></tr><tr><td>train_hamming_loss_macro</td><td>0.69716</td></tr><tr><td>train_loss</td><td>69.72705</td></tr><tr><td>val_auroc_macro</td><td>0.48659</td></tr><tr><td>val_hamming_loss_macro</td><td>0.7025</td></tr><tr><td>val_loss</td><td>6.97476</td></tr></table><br/></div></div>"
      ],
      "text/plain": [
       "<IPython.core.display.HTML object>"
      ]
     },
     "metadata": {},
     "output_type": "display_data"
    },
    {
     "data": {
      "text/html": [
       "Synced <strong style=\"color:#cdcd00\">cosmic-dragon-364</strong>: <a href=\"https://wandb.ai/diliadis/DeepMTP_v2/runs/3u7a7lny\" target=\"_blank\">https://wandb.ai/diliadis/DeepMTP_v2/runs/3u7a7lny</a><br/>Synced 6 W&B file(s), 0 media file(s), 0 artifact file(s) and 0 other file(s)"
      ],
      "text/plain": [
       "<IPython.core.display.HTML object>"
      ]
     },
     "metadata": {},
     "output_type": "display_data"
    },
    {
     "data": {
      "text/html": [
       "Find logs at: <code>./wandb/run-20220620_125426-3u7a7lny/logs</code>"
      ],
      "text/plain": [
       "<IPython.core.display.HTML object>"
      ]
     },
     "metadata": {},
     "output_type": "display_data"
    },
    {
     "name": "stdout",
     "output_type": "stream",
     "text": [
      "+-------+--------+---------+--------------------+-------------+\n",
      "|  mode | #epoch |   loss  | hamming_loss_macro | auroc_macro |\n",
      "+-------+--------+---------+--------------------+-------------+\n",
      "| train |   0    | 69.7271 |       0.6972       |    0.4991   |\n",
      "+-------+--------+---------+--------------------+-------------+\n",
      "====================\n",
      "+------+--------+--------+--------------------+-------------+----------------+\n",
      "| mode | #epoch |  loss  | hamming_loss_macro | auroc_macro | early_stopping |\n",
      "+------+--------+--------+--------------------+-------------+----------------+\n",
      "| val  |   0    | 6.9748 |       0.7025       |    0.4866   |      0/10      |\n",
      "+------+--------+--------+--------------------+-------------+----------------+\n",
      "====================\n",
      "+------+--------+------+--------------------+-------------+\n",
      "| mode | #epoch | loss | hamming_loss_macro | auroc_macro |\n",
      "+------+--------+------+--------------------+-------------+\n",
      "| test |   0    |  -   |       0.696        |    0.4696   |\n",
      "+------+--------+------+--------------------+-------------+\n",
      "Saving the best model... Done\n",
      "---- Finished evaluating configuration with score: 6.974764585494995\n",
      "---- Evaluating configuration... \n",
      "Selected device: cuda:1\n",
      "Starting training...\n"
     ]
    },
    {
     "data": {
      "text/html": [
       "wandb version 0.12.18 is available!  To upgrade, please run:\n",
       " $ pip install wandb --upgrade"
      ],
      "text/plain": [
       "<IPython.core.display.HTML object>"
      ]
     },
     "metadata": {},
     "output_type": "display_data"
    },
    {
     "data": {
      "text/html": [
       "Tracking run with wandb version 0.12.17"
      ],
      "text/plain": [
       "<IPython.core.display.HTML object>"
      ]
     },
     "metadata": {},
     "output_type": "display_data"
    },
    {
     "data": {
      "text/html": [
       "Run data is saved locally in <code>/data/dimitriosi_datasets/DeepMTP/wandb/run-20220620_125444-2j32txmz</code>"
      ],
      "text/plain": [
       "<IPython.core.display.HTML object>"
      ]
     },
     "metadata": {},
     "output_type": "display_data"
    },
    {
     "data": {
      "text/html": [
       "Syncing run <strong><a href=\"https://wandb.ai/diliadis/DeepMTP_v2/runs/2j32txmz\" target=\"_blank\">graceful-spaceship-365</a></strong> to <a href=\"https://wandb.ai/diliadis/DeepMTP_v2\" target=\"_blank\">Weights & Biases</a> (<a href=\"https://wandb.me/run\" target=\"_blank\">docs</a>)<br/>"
      ],
      "text/plain": [
       "<IPython.core.display.HTML object>"
      ]
     },
     "metadata": {},
     "output_type": "display_data"
    },
    {
     "name": "stdout",
     "output_type": "stream",
     "text": [
      "Epoch:0... Done\n",
      "  Validating... Calculating val performance... Done\n",
      "Done\n",
      "Starting testing... Calculating test performance... Done\n",
      "Done\n"
     ]
    },
    {
     "data": {
      "text/html": [
       "Waiting for W&B process to finish... <strong style=\"color:green\">(success).</strong>"
      ],
      "text/plain": [
       "<IPython.core.display.HTML object>"
      ]
     },
     "metadata": {},
     "output_type": "display_data"
    },
    {
     "data": {
      "application/vnd.jupyter.widget-view+json": {
       "model_id": "3551e4f9fc24499fb41c5f6ffbf3b906",
       "version_major": 2,
       "version_minor": 0
      },
      "text/plain": [
       "VBox(children=(Label(value='0.001 MB of 0.001 MB uploaded (0.000 MB deduped)\\r'), FloatProgress(value=1.0, max…"
      ]
     },
     "metadata": {},
     "output_type": "display_data"
    },
    {
     "data": {
      "text/html": [
       "<style>\n",
       "    table.wandb td:nth-child(1) { padding: 0 10px; text-align: left ; width: auto;} td:nth-child(2) {text-align: left ; width: 100%}\n",
       "    .wandb-row { display: flex; flex-direction: row; flex-wrap: wrap; justify-content: flex-start; width: 100% }\n",
       "    .wandb-col { display: flex; flex-direction: column; flex-basis: 100%; flex: 1; padding: 10px; }\n",
       "    </style>\n",
       "<div class=\"wandb-row\"><div class=\"wandb-col\"><h3>Run history:</h3><br/><table class=\"wandb\"><tr><td>test_auroc_macro</td><td>▁</td></tr><tr><td>test_hamming_loss_macro</td><td>▁</td></tr><tr><td>train_auroc_macro</td><td>▁</td></tr><tr><td>train_hamming_loss_macro</td><td>▁</td></tr><tr><td>train_loss</td><td>▁</td></tr><tr><td>val_auroc_macro</td><td>▁</td></tr><tr><td>val_hamming_loss_macro</td><td>▁</td></tr><tr><td>val_loss</td><td>▁</td></tr></table><br/></div><div class=\"wandb-col\"><h3>Run summary:</h3><br/><table class=\"wandb\"><tr><td>test_auroc_macro</td><td>0.5664</td></tr><tr><td>test_hamming_loss_macro</td><td>0.24587</td></tr><tr><td>train_auroc_macro</td><td>0.50023</td></tr><tr><td>train_hamming_loss_macro</td><td>0.29664</td></tr><tr><td>train_loss</td><td>0.60112</td></tr><tr><td>val_auroc_macro</td><td>0.56051</td></tr><tr><td>val_hamming_loss_macro</td><td>0.243</td></tr><tr><td>val_loss</td><td>0.51533</td></tr></table><br/></div></div>"
      ],
      "text/plain": [
       "<IPython.core.display.HTML object>"
      ]
     },
     "metadata": {},
     "output_type": "display_data"
    },
    {
     "data": {
      "text/html": [
       "Synced <strong style=\"color:#cdcd00\">graceful-spaceship-365</strong>: <a href=\"https://wandb.ai/diliadis/DeepMTP_v2/runs/2j32txmz\" target=\"_blank\">https://wandb.ai/diliadis/DeepMTP_v2/runs/2j32txmz</a><br/>Synced 6 W&B file(s), 0 media file(s), 0 artifact file(s) and 0 other file(s)"
      ],
      "text/plain": [
       "<IPython.core.display.HTML object>"
      ]
     },
     "metadata": {},
     "output_type": "display_data"
    },
    {
     "data": {
      "text/html": [
       "Find logs at: <code>./wandb/run-20220620_125444-2j32txmz/logs</code>"
      ],
      "text/plain": [
       "<IPython.core.display.HTML object>"
      ]
     },
     "metadata": {},
     "output_type": "display_data"
    },
    {
     "name": "stdout",
     "output_type": "stream",
     "text": [
      "+-------+--------+--------+--------------------+-------------+\n",
      "|  mode | #epoch |  loss  | hamming_loss_macro | auroc_macro |\n",
      "+-------+--------+--------+--------------------+-------------+\n",
      "| train |   0    | 0.6011 |       0.2966       |    0.5002   |\n",
      "+-------+--------+--------+--------------------+-------------+\n",
      "====================\n",
      "+------+--------+--------+--------------------+-------------+----------------+\n",
      "| mode | #epoch |  loss  | hamming_loss_macro | auroc_macro | early_stopping |\n",
      "+------+--------+--------+--------------------+-------------+----------------+\n",
      "| val  |   0    | 0.5153 |       0.243        |    0.5605   |      0/10      |\n",
      "+------+--------+--------+--------------------+-------------+----------------+\n",
      "====================\n",
      "+------+--------+------+--------------------+-------------+\n",
      "| mode | #epoch | loss | hamming_loss_macro | auroc_macro |\n",
      "+------+--------+------+--------------------+-------------+\n",
      "| test |   0    |  -   |       0.2459       |    0.5664   |\n",
      "+------+--------+------+--------------------+-------------+\n",
      "Saving the best model... Done\n",
      "---- Finished evaluating configuration with score: 0.5153336574633917\n",
      "---- Evaluating configuration... \n",
      "Selected device: cuda:1\n",
      "Starting training...\n"
     ]
    },
    {
     "data": {
      "text/html": [
       "wandb version 0.12.18 is available!  To upgrade, please run:\n",
       " $ pip install wandb --upgrade"
      ],
      "text/plain": [
       "<IPython.core.display.HTML object>"
      ]
     },
     "metadata": {},
     "output_type": "display_data"
    },
    {
     "data": {
      "text/html": [
       "Tracking run with wandb version 0.12.17"
      ],
      "text/plain": [
       "<IPython.core.display.HTML object>"
      ]
     },
     "metadata": {},
     "output_type": "display_data"
    },
    {
     "data": {
      "text/html": [
       "Run data is saved locally in <code>/data/dimitriosi_datasets/DeepMTP/wandb/run-20220620_125502-1ptdysw4</code>"
      ],
      "text/plain": [
       "<IPython.core.display.HTML object>"
      ]
     },
     "metadata": {},
     "output_type": "display_data"
    },
    {
     "data": {
      "text/html": [
       "Syncing run <strong><a href=\"https://wandb.ai/diliadis/DeepMTP_v2/runs/1ptdysw4\" target=\"_blank\">clear-night-366</a></strong> to <a href=\"https://wandb.ai/diliadis/DeepMTP_v2\" target=\"_blank\">Weights & Biases</a> (<a href=\"https://wandb.me/run\" target=\"_blank\">docs</a>)<br/>"
      ],
      "text/plain": [
       "<IPython.core.display.HTML object>"
      ]
     },
     "metadata": {},
     "output_type": "display_data"
    },
    {
     "name": "stdout",
     "output_type": "stream",
     "text": [
      "Epoch:0... Done\n",
      "  Validating... Calculating val performance... Done\n",
      "Done\n",
      "Starting testing... Calculating test performance... Done\n",
      "Done\n"
     ]
    },
    {
     "data": {
      "text/html": [
       "Waiting for W&B process to finish... <strong style=\"color:green\">(success).</strong>"
      ],
      "text/plain": [
       "<IPython.core.display.HTML object>"
      ]
     },
     "metadata": {},
     "output_type": "display_data"
    },
    {
     "data": {
      "application/vnd.jupyter.widget-view+json": {
       "model_id": "fb2c5723b2fc410791ca25df2faa5de4",
       "version_major": 2,
       "version_minor": 0
      },
      "text/plain": [
       "VBox(children=(Label(value='0.001 MB of 0.001 MB uploaded (0.000 MB deduped)\\r'), FloatProgress(value=1.0, max…"
      ]
     },
     "metadata": {},
     "output_type": "display_data"
    },
    {
     "data": {
      "text/html": [
       "<style>\n",
       "    table.wandb td:nth-child(1) { padding: 0 10px; text-align: left ; width: auto;} td:nth-child(2) {text-align: left ; width: 100%}\n",
       "    .wandb-row { display: flex; flex-direction: row; flex-wrap: wrap; justify-content: flex-start; width: 100% }\n",
       "    .wandb-col { display: flex; flex-direction: column; flex-basis: 100%; flex: 1; padding: 10px; }\n",
       "    </style>\n",
       "<div class=\"wandb-row\"><div class=\"wandb-col\"><h3>Run history:</h3><br/><table class=\"wandb\"><tr><td>test_auroc_macro</td><td>▁</td></tr><tr><td>test_hamming_loss_macro</td><td>▁</td></tr><tr><td>train_auroc_macro</td><td>▁</td></tr><tr><td>train_hamming_loss_macro</td><td>▁</td></tr><tr><td>train_loss</td><td>▁</td></tr><tr><td>val_auroc_macro</td><td>▁</td></tr><tr><td>val_hamming_loss_macro</td><td>▁</td></tr><tr><td>val_loss</td><td>▁</td></tr></table><br/></div><div class=\"wandb-col\"><h3>Run summary:</h3><br/><table class=\"wandb\"><tr><td>test_auroc_macro</td><td>0.48899</td></tr><tr><td>test_hamming_loss_macro</td><td>0.31818</td></tr><tr><td>train_auroc_macro</td><td>0.50744</td></tr><tr><td>train_hamming_loss_macro</td><td>0.32921</td></tr><tr><td>train_loss</td><td>0.78496</td></tr><tr><td>val_auroc_macro</td><td>0.5146</td></tr><tr><td>val_hamming_loss_macro</td><td>0.31112</td></tr><tr><td>val_loss</td><td>0.69311</td></tr></table><br/></div></div>"
      ],
      "text/plain": [
       "<IPython.core.display.HTML object>"
      ]
     },
     "metadata": {},
     "output_type": "display_data"
    },
    {
     "data": {
      "text/html": [
       "Synced <strong style=\"color:#cdcd00\">clear-night-366</strong>: <a href=\"https://wandb.ai/diliadis/DeepMTP_v2/runs/1ptdysw4\" target=\"_blank\">https://wandb.ai/diliadis/DeepMTP_v2/runs/1ptdysw4</a><br/>Synced 6 W&B file(s), 0 media file(s), 0 artifact file(s) and 0 other file(s)"
      ],
      "text/plain": [
       "<IPython.core.display.HTML object>"
      ]
     },
     "metadata": {},
     "output_type": "display_data"
    },
    {
     "data": {
      "text/html": [
       "Find logs at: <code>./wandb/run-20220620_125502-1ptdysw4/logs</code>"
      ],
      "text/plain": [
       "<IPython.core.display.HTML object>"
      ]
     },
     "metadata": {},
     "output_type": "display_data"
    },
    {
     "name": "stdout",
     "output_type": "stream",
     "text": [
      "+-------+--------+-------+--------------------+-------------+\n",
      "|  mode | #epoch |  loss | hamming_loss_macro | auroc_macro |\n",
      "+-------+--------+-------+--------------------+-------------+\n",
      "| train |   0    | 0.785 |       0.3292       |    0.5074   |\n",
      "+-------+--------+-------+--------------------+-------------+\n",
      "====================\n",
      "+------+--------+--------+--------------------+-------------+----------------+\n",
      "| mode | #epoch |  loss  | hamming_loss_macro | auroc_macro | early_stopping |\n",
      "+------+--------+--------+--------------------+-------------+----------------+\n",
      "| val  |   0    | 0.6931 |       0.3111       |    0.5146   |      0/10      |\n",
      "+------+--------+--------+--------------------+-------------+----------------+\n",
      "====================\n",
      "+------+--------+------+--------------------+-------------+\n",
      "| mode | #epoch | loss | hamming_loss_macro | auroc_macro |\n",
      "+------+--------+------+--------------------+-------------+\n",
      "| test |   0    |  -   |       0.3182       |    0.489    |\n",
      "+------+--------+------+--------------------+-------------+\n",
      "Saving the best model... Done\n",
      "---- Finished evaluating configuration with score: 0.6931058863798777\n",
      "---- Evaluating configuration... \n",
      "Selected device: cuda:1\n",
      "Starting training...\n"
     ]
    },
    {
     "data": {
      "text/html": [
       "wandb version 0.12.18 is available!  To upgrade, please run:\n",
       " $ pip install wandb --upgrade"
      ],
      "text/plain": [
       "<IPython.core.display.HTML object>"
      ]
     },
     "metadata": {},
     "output_type": "display_data"
    },
    {
     "data": {
      "text/html": [
       "Tracking run with wandb version 0.12.17"
      ],
      "text/plain": [
       "<IPython.core.display.HTML object>"
      ]
     },
     "metadata": {},
     "output_type": "display_data"
    },
    {
     "data": {
      "text/html": [
       "Run data is saved locally in <code>/data/dimitriosi_datasets/DeepMTP/wandb/run-20220620_125520-3p32vwjh</code>"
      ],
      "text/plain": [
       "<IPython.core.display.HTML object>"
      ]
     },
     "metadata": {},
     "output_type": "display_data"
    },
    {
     "data": {
      "text/html": [
       "Syncing run <strong><a href=\"https://wandb.ai/diliadis/DeepMTP_v2/runs/3p32vwjh\" target=\"_blank\">graceful-wind-367</a></strong> to <a href=\"https://wandb.ai/diliadis/DeepMTP_v2\" target=\"_blank\">Weights & Biases</a> (<a href=\"https://wandb.me/run\" target=\"_blank\">docs</a>)<br/>"
      ],
      "text/plain": [
       "<IPython.core.display.HTML object>"
      ]
     },
     "metadata": {},
     "output_type": "display_data"
    },
    {
     "name": "stdout",
     "output_type": "stream",
     "text": [
      "Epoch:0... Done\n",
      "  Validating... Calculating val performance... Done\n",
      "Done\n",
      "Starting testing... Calculating test performance... Done\n",
      "Done\n"
     ]
    },
    {
     "data": {
      "text/html": [
       "Waiting for W&B process to finish... <strong style=\"color:green\">(success).</strong>"
      ],
      "text/plain": [
       "<IPython.core.display.HTML object>"
      ]
     },
     "metadata": {},
     "output_type": "display_data"
    },
    {
     "data": {
      "application/vnd.jupyter.widget-view+json": {
       "model_id": "2e7ccf2af27b49bc8564aa64b2e7d547",
       "version_major": 2,
       "version_minor": 0
      },
      "text/plain": [
       "VBox(children=(Label(value='0.001 MB of 0.001 MB uploaded (0.000 MB deduped)\\r'), FloatProgress(value=1.0, max…"
      ]
     },
     "metadata": {},
     "output_type": "display_data"
    },
    {
     "data": {
      "text/html": [
       "<style>\n",
       "    table.wandb td:nth-child(1) { padding: 0 10px; text-align: left ; width: auto;} td:nth-child(2) {text-align: left ; width: 100%}\n",
       "    .wandb-row { display: flex; flex-direction: row; flex-wrap: wrap; justify-content: flex-start; width: 100% }\n",
       "    .wandb-col { display: flex; flex-direction: column; flex-basis: 100%; flex: 1; padding: 10px; }\n",
       "    </style>\n",
       "<div class=\"wandb-row\"><div class=\"wandb-col\"><h3>Run history:</h3><br/><table class=\"wandb\"><tr><td>test_auroc_macro</td><td>▁</td></tr><tr><td>test_hamming_loss_macro</td><td>▁</td></tr><tr><td>train_auroc_macro</td><td>▁</td></tr><tr><td>train_hamming_loss_macro</td><td>▁</td></tr><tr><td>train_loss</td><td>▁</td></tr><tr><td>val_auroc_macro</td><td>▁</td></tr><tr><td>val_hamming_loss_macro</td><td>▁</td></tr><tr><td>val_loss</td><td>▁</td></tr></table><br/></div><div class=\"wandb-col\"><h3>Run summary:</h3><br/><table class=\"wandb\"><tr><td>test_auroc_macro</td><td>0.50713</td></tr><tr><td>test_hamming_loss_macro</td><td>0.69599</td></tr><tr><td>train_auroc_macro</td><td>0.50741</td></tr><tr><td>train_hamming_loss_macro</td><td>0.69716</td></tr><tr><td>train_loss</td><td>69.68029</td></tr><tr><td>val_auroc_macro</td><td>0.48891</td></tr><tr><td>val_hamming_loss_macro</td><td>0.7025</td></tr><tr><td>val_loss</td><td>2.18687</td></tr></table><br/></div></div>"
      ],
      "text/plain": [
       "<IPython.core.display.HTML object>"
      ]
     },
     "metadata": {},
     "output_type": "display_data"
    },
    {
     "data": {
      "text/html": [
       "Synced <strong style=\"color:#cdcd00\">graceful-wind-367</strong>: <a href=\"https://wandb.ai/diliadis/DeepMTP_v2/runs/3p32vwjh\" target=\"_blank\">https://wandb.ai/diliadis/DeepMTP_v2/runs/3p32vwjh</a><br/>Synced 6 W&B file(s), 0 media file(s), 0 artifact file(s) and 0 other file(s)"
      ],
      "text/plain": [
       "<IPython.core.display.HTML object>"
      ]
     },
     "metadata": {},
     "output_type": "display_data"
    },
    {
     "data": {
      "text/html": [
       "Find logs at: <code>./wandb/run-20220620_125520-3p32vwjh/logs</code>"
      ],
      "text/plain": [
       "<IPython.core.display.HTML object>"
      ]
     },
     "metadata": {},
     "output_type": "display_data"
    },
    {
     "name": "stdout",
     "output_type": "stream",
     "text": [
      "+-------+--------+---------+--------------------+-------------+\n",
      "|  mode | #epoch |   loss  | hamming_loss_macro | auroc_macro |\n",
      "+-------+--------+---------+--------------------+-------------+\n",
      "| train |   0    | 69.6803 |       0.6972       |    0.5074   |\n",
      "+-------+--------+---------+--------------------+-------------+\n",
      "====================\n",
      "+------+--------+--------+--------------------+-------------+----------------+\n",
      "| mode | #epoch |  loss  | hamming_loss_macro | auroc_macro | early_stopping |\n",
      "+------+--------+--------+--------------------+-------------+----------------+\n",
      "| val  |   0    | 2.1869 |       0.7025       |    0.4889   |      0/10      |\n",
      "+------+--------+--------+--------------------+-------------+----------------+\n",
      "====================\n",
      "+------+--------+------+--------------------+-------------+\n",
      "| mode | #epoch | loss | hamming_loss_macro | auroc_macro |\n",
      "+------+--------+------+--------------------+-------------+\n",
      "| test |   0    |  -   |       0.696        |    0.5071   |\n",
      "+------+--------+------+--------------------+-------------+\n",
      "Saving the best model... Done\n",
      "---- Finished evaluating configuration with score: 2.186874190966288\n",
      "---- Evaluating configuration... \n",
      "Selected device: cuda:1\n",
      "Starting training...\n"
     ]
    },
    {
     "data": {
      "text/html": [
       "wandb version 0.12.18 is available!  To upgrade, please run:\n",
       " $ pip install wandb --upgrade"
      ],
      "text/plain": [
       "<IPython.core.display.HTML object>"
      ]
     },
     "metadata": {},
     "output_type": "display_data"
    },
    {
     "data": {
      "text/html": [
       "Tracking run with wandb version 0.12.17"
      ],
      "text/plain": [
       "<IPython.core.display.HTML object>"
      ]
     },
     "metadata": {},
     "output_type": "display_data"
    },
    {
     "data": {
      "text/html": [
       "Run data is saved locally in <code>/data/dimitriosi_datasets/DeepMTP/wandb/run-20220620_125539-2c6jo9iy</code>"
      ],
      "text/plain": [
       "<IPython.core.display.HTML object>"
      ]
     },
     "metadata": {},
     "output_type": "display_data"
    },
    {
     "data": {
      "text/html": [
       "Syncing run <strong><a href=\"https://wandb.ai/diliadis/DeepMTP_v2/runs/2c6jo9iy\" target=\"_blank\">mild-paper-368</a></strong> to <a href=\"https://wandb.ai/diliadis/DeepMTP_v2\" target=\"_blank\">Weights & Biases</a> (<a href=\"https://wandb.me/run\" target=\"_blank\">docs</a>)<br/>"
      ],
      "text/plain": [
       "<IPython.core.display.HTML object>"
      ]
     },
     "metadata": {},
     "output_type": "display_data"
    },
    {
     "name": "stdout",
     "output_type": "stream",
     "text": [
      "Epoch:0... Done\n",
      "  Validating... Calculating val performance... Done\n",
      "Done\n",
      "Starting testing... Calculating test performance... Done\n",
      "Done\n"
     ]
    },
    {
     "data": {
      "text/html": [
       "Waiting for W&B process to finish... <strong style=\"color:green\">(success).</strong>"
      ],
      "text/plain": [
       "<IPython.core.display.HTML object>"
      ]
     },
     "metadata": {},
     "output_type": "display_data"
    },
    {
     "data": {
      "application/vnd.jupyter.widget-view+json": {
       "model_id": "927dbc87ad1146eba5cd685503da181a",
       "version_major": 2,
       "version_minor": 0
      },
      "text/plain": [
       "VBox(children=(Label(value='0.001 MB of 0.001 MB uploaded (0.000 MB deduped)\\r'), FloatProgress(value=1.0, max…"
      ]
     },
     "metadata": {},
     "output_type": "display_data"
    },
    {
     "data": {
      "text/html": [
       "<style>\n",
       "    table.wandb td:nth-child(1) { padding: 0 10px; text-align: left ; width: auto;} td:nth-child(2) {text-align: left ; width: 100%}\n",
       "    .wandb-row { display: flex; flex-direction: row; flex-wrap: wrap; justify-content: flex-start; width: 100% }\n",
       "    .wandb-col { display: flex; flex-direction: column; flex-basis: 100%; flex: 1; padding: 10px; }\n",
       "    </style>\n",
       "<div class=\"wandb-row\"><div class=\"wandb-col\"><h3>Run history:</h3><br/><table class=\"wandb\"><tr><td>test_auroc_macro</td><td>▁</td></tr><tr><td>test_hamming_loss_macro</td><td>▁</td></tr><tr><td>train_auroc_macro</td><td>▁</td></tr><tr><td>train_hamming_loss_macro</td><td>▁</td></tr><tr><td>train_loss</td><td>▁</td></tr><tr><td>val_auroc_macro</td><td>▁</td></tr><tr><td>val_hamming_loss_macro</td><td>▁</td></tr><tr><td>val_loss</td><td>▁</td></tr></table><br/></div><div class=\"wandb-col\"><h3>Run summary:</h3><br/><table class=\"wandb\"><tr><td>test_auroc_macro</td><td>0.60051</td></tr><tr><td>test_hamming_loss_macro</td><td>0.23096</td></tr><tr><td>train_auroc_macro</td><td>0.50978</td></tr><tr><td>train_hamming_loss_macro</td><td>0.24784</td></tr><tr><td>train_loss</td><td>0.54845</td></tr><tr><td>val_auroc_macro</td><td>0.61008</td></tr><tr><td>val_hamming_loss_macro</td><td>0.23012</td></tr><tr><td>val_loss</td><td>0.49217</td></tr></table><br/></div></div>"
      ],
      "text/plain": [
       "<IPython.core.display.HTML object>"
      ]
     },
     "metadata": {},
     "output_type": "display_data"
    },
    {
     "data": {
      "text/html": [
       "Synced <strong style=\"color:#cdcd00\">mild-paper-368</strong>: <a href=\"https://wandb.ai/diliadis/DeepMTP_v2/runs/2c6jo9iy\" target=\"_blank\">https://wandb.ai/diliadis/DeepMTP_v2/runs/2c6jo9iy</a><br/>Synced 6 W&B file(s), 0 media file(s), 0 artifact file(s) and 0 other file(s)"
      ],
      "text/plain": [
       "<IPython.core.display.HTML object>"
      ]
     },
     "metadata": {},
     "output_type": "display_data"
    },
    {
     "data": {
      "text/html": [
       "Find logs at: <code>./wandb/run-20220620_125539-2c6jo9iy/logs</code>"
      ],
      "text/plain": [
       "<IPython.core.display.HTML object>"
      ]
     },
     "metadata": {},
     "output_type": "display_data"
    },
    {
     "name": "stdout",
     "output_type": "stream",
     "text": [
      "+-------+--------+--------+--------------------+-------------+\n",
      "|  mode | #epoch |  loss  | hamming_loss_macro | auroc_macro |\n",
      "+-------+--------+--------+--------------------+-------------+\n",
      "| train |   0    | 0.5484 |       0.2478       |    0.5098   |\n",
      "+-------+--------+--------+--------------------+-------------+\n",
      "====================\n",
      "+------+--------+--------+--------------------+-------------+----------------+\n",
      "| mode | #epoch |  loss  | hamming_loss_macro | auroc_macro | early_stopping |\n",
      "+------+--------+--------+--------------------+-------------+----------------+\n",
      "| val  |   0    | 0.4922 |       0.2301       |    0.6101   |      0/10      |\n",
      "+------+--------+--------+--------------------+-------------+----------------+\n",
      "====================\n",
      "+------+--------+------+--------------------+-------------+\n",
      "| mode | #epoch | loss | hamming_loss_macro | auroc_macro |\n",
      "+------+--------+------+--------------------+-------------+\n",
      "| test |   0    |  -   |       0.231        |    0.6005   |\n",
      "+------+--------+------+--------------------+-------------+\n",
      "Saving the best model... Done\n",
      "---- Finished evaluating configuration with score: 0.49216873943805695\n",
      "---- Evaluating configuration... \n",
      "Selected device: cuda:1\n",
      "Starting training...\n"
     ]
    },
    {
     "data": {
      "text/html": [
       "wandb version 0.12.18 is available!  To upgrade, please run:\n",
       " $ pip install wandb --upgrade"
      ],
      "text/plain": [
       "<IPython.core.display.HTML object>"
      ]
     },
     "metadata": {},
     "output_type": "display_data"
    },
    {
     "data": {
      "text/html": [
       "Tracking run with wandb version 0.12.17"
      ],
      "text/plain": [
       "<IPython.core.display.HTML object>"
      ]
     },
     "metadata": {},
     "output_type": "display_data"
    },
    {
     "data": {
      "text/html": [
       "Run data is saved locally in <code>/data/dimitriosi_datasets/DeepMTP/wandb/run-20220620_125557-1u8mb35c</code>"
      ],
      "text/plain": [
       "<IPython.core.display.HTML object>"
      ]
     },
     "metadata": {},
     "output_type": "display_data"
    },
    {
     "data": {
      "text/html": [
       "Syncing run <strong><a href=\"https://wandb.ai/diliadis/DeepMTP_v2/runs/1u8mb35c\" target=\"_blank\">frosty-blaze-369</a></strong> to <a href=\"https://wandb.ai/diliadis/DeepMTP_v2\" target=\"_blank\">Weights & Biases</a> (<a href=\"https://wandb.me/run\" target=\"_blank\">docs</a>)<br/>"
      ],
      "text/plain": [
       "<IPython.core.display.HTML object>"
      ]
     },
     "metadata": {},
     "output_type": "display_data"
    },
    {
     "name": "stdout",
     "output_type": "stream",
     "text": [
      "Epoch:0... Done\n",
      "  Validating... Calculating val performance... Done\n",
      "Done\n",
      "Starting testing... Calculating test performance... Done\n",
      "Done\n"
     ]
    },
    {
     "data": {
      "text/html": [
       "Waiting for W&B process to finish... <strong style=\"color:green\">(success).</strong>"
      ],
      "text/plain": [
       "<IPython.core.display.HTML object>"
      ]
     },
     "metadata": {},
     "output_type": "display_data"
    },
    {
     "data": {
      "application/vnd.jupyter.widget-view+json": {
       "model_id": "3555c2e93a174d1eaab07fe39b7fb8ce",
       "version_major": 2,
       "version_minor": 0
      },
      "text/plain": [
       "VBox(children=(Label(value='0.001 MB of 0.001 MB uploaded (0.000 MB deduped)\\r'), FloatProgress(value=1.0, max…"
      ]
     },
     "metadata": {},
     "output_type": "display_data"
    },
    {
     "data": {
      "text/html": [
       "<style>\n",
       "    table.wandb td:nth-child(1) { padding: 0 10px; text-align: left ; width: auto;} td:nth-child(2) {text-align: left ; width: 100%}\n",
       "    .wandb-row { display: flex; flex-direction: row; flex-wrap: wrap; justify-content: flex-start; width: 100% }\n",
       "    .wandb-col { display: flex; flex-direction: column; flex-basis: 100%; flex: 1; padding: 10px; }\n",
       "    </style>\n",
       "<div class=\"wandb-row\"><div class=\"wandb-col\"><h3>Run history:</h3><br/><table class=\"wandb\"><tr><td>test_auroc_macro</td><td>▁</td></tr><tr><td>test_hamming_loss_macro</td><td>▁</td></tr><tr><td>train_auroc_macro</td><td>▁</td></tr><tr><td>train_hamming_loss_macro</td><td>▁</td></tr><tr><td>train_loss</td><td>▁</td></tr><tr><td>val_auroc_macro</td><td>▁</td></tr><tr><td>val_hamming_loss_macro</td><td>▁</td></tr><tr><td>val_loss</td><td>▁</td></tr></table><br/></div><div class=\"wandb-col\"><h3>Run summary:</h3><br/><table class=\"wandb\"><tr><td>test_auroc_macro</td><td>0.50231</td></tr><tr><td>test_hamming_loss_macro</td><td>0.69599</td></tr><tr><td>train_auroc_macro</td><td>0.50942</td></tr><tr><td>train_hamming_loss_macro</td><td>0.69716</td></tr><tr><td>train_loss</td><td>69.71046</td></tr><tr><td>val_auroc_macro</td><td>0.53202</td></tr><tr><td>val_hamming_loss_macro</td><td>0.7025</td></tr><tr><td>val_loss</td><td>5.42939</td></tr></table><br/></div></div>"
      ],
      "text/plain": [
       "<IPython.core.display.HTML object>"
      ]
     },
     "metadata": {},
     "output_type": "display_data"
    },
    {
     "data": {
      "text/html": [
       "Synced <strong style=\"color:#cdcd00\">frosty-blaze-369</strong>: <a href=\"https://wandb.ai/diliadis/DeepMTP_v2/runs/1u8mb35c\" target=\"_blank\">https://wandb.ai/diliadis/DeepMTP_v2/runs/1u8mb35c</a><br/>Synced 6 W&B file(s), 0 media file(s), 0 artifact file(s) and 0 other file(s)"
      ],
      "text/plain": [
       "<IPython.core.display.HTML object>"
      ]
     },
     "metadata": {},
     "output_type": "display_data"
    },
    {
     "data": {
      "text/html": [
       "Find logs at: <code>./wandb/run-20220620_125557-1u8mb35c/logs</code>"
      ],
      "text/plain": [
       "<IPython.core.display.HTML object>"
      ]
     },
     "metadata": {},
     "output_type": "display_data"
    },
    {
     "name": "stdout",
     "output_type": "stream",
     "text": [
      "+-------+--------+---------+--------------------+-------------+\n",
      "|  mode | #epoch |   loss  | hamming_loss_macro | auroc_macro |\n",
      "+-------+--------+---------+--------------------+-------------+\n",
      "| train |   0    | 69.7105 |       0.6972       |    0.5094   |\n",
      "+-------+--------+---------+--------------------+-------------+\n",
      "====================\n",
      "+------+--------+--------+--------------------+-------------+----------------+\n",
      "| mode | #epoch |  loss  | hamming_loss_macro | auroc_macro | early_stopping |\n",
      "+------+--------+--------+--------------------+-------------+----------------+\n",
      "| val  |   0    | 5.4294 |       0.7025       |    0.532    |      0/10      |\n",
      "+------+--------+--------+--------------------+-------------+----------------+\n",
      "====================\n",
      "+------+--------+------+--------------------+-------------+\n",
      "| mode | #epoch | loss | hamming_loss_macro | auroc_macro |\n",
      "+------+--------+------+--------------------+-------------+\n",
      "| test |   0    |  -   |       0.696        |    0.5023   |\n",
      "+------+--------+------+--------------------+-------------+\n",
      "Saving the best model... Done\n",
      "---- Finished evaluating configuration with score: 5.429393370946248\n",
      "---- Evaluating configuration... \n",
      "Selected device: cuda:1\n",
      "Starting training...\n"
     ]
    },
    {
     "data": {
      "text/html": [
       "wandb version 0.12.18 is available!  To upgrade, please run:\n",
       " $ pip install wandb --upgrade"
      ],
      "text/plain": [
       "<IPython.core.display.HTML object>"
      ]
     },
     "metadata": {},
     "output_type": "display_data"
    },
    {
     "data": {
      "text/html": [
       "Tracking run with wandb version 0.12.17"
      ],
      "text/plain": [
       "<IPython.core.display.HTML object>"
      ]
     },
     "metadata": {},
     "output_type": "display_data"
    },
    {
     "data": {
      "text/html": [
       "Run data is saved locally in <code>/data/dimitriosi_datasets/DeepMTP/wandb/run-20220620_125615-3buq3wv1</code>"
      ],
      "text/plain": [
       "<IPython.core.display.HTML object>"
      ]
     },
     "metadata": {},
     "output_type": "display_data"
    },
    {
     "data": {
      "text/html": [
       "Syncing run <strong><a href=\"https://wandb.ai/diliadis/DeepMTP_v2/runs/3buq3wv1\" target=\"_blank\">wandering-thunder-370</a></strong> to <a href=\"https://wandb.ai/diliadis/DeepMTP_v2\" target=\"_blank\">Weights & Biases</a> (<a href=\"https://wandb.me/run\" target=\"_blank\">docs</a>)<br/>"
      ],
      "text/plain": [
       "<IPython.core.display.HTML object>"
      ]
     },
     "metadata": {},
     "output_type": "display_data"
    },
    {
     "name": "stdout",
     "output_type": "stream",
     "text": [
      "Epoch:0... Done\n",
      "  Validating... Calculating val performance... Done\n",
      "Done\n",
      "Starting testing... Calculating test performance... Done\n",
      "Done\n"
     ]
    },
    {
     "data": {
      "text/html": [
       "Waiting for W&B process to finish... <strong style=\"color:green\">(success).</strong>"
      ],
      "text/plain": [
       "<IPython.core.display.HTML object>"
      ]
     },
     "metadata": {},
     "output_type": "display_data"
    },
    {
     "data": {
      "application/vnd.jupyter.widget-view+json": {
       "model_id": "c5c61a4aca524be288c08d83c83e5508",
       "version_major": 2,
       "version_minor": 0
      },
      "text/plain": [
       "VBox(children=(Label(value='0.001 MB of 0.001 MB uploaded (0.000 MB deduped)\\r'), FloatProgress(value=1.0, max…"
      ]
     },
     "metadata": {},
     "output_type": "display_data"
    },
    {
     "data": {
      "text/html": [
       "<style>\n",
       "    table.wandb td:nth-child(1) { padding: 0 10px; text-align: left ; width: auto;} td:nth-child(2) {text-align: left ; width: 100%}\n",
       "    .wandb-row { display: flex; flex-direction: row; flex-wrap: wrap; justify-content: flex-start; width: 100% }\n",
       "    .wandb-col { display: flex; flex-direction: column; flex-basis: 100%; flex: 1; padding: 10px; }\n",
       "    </style>\n",
       "<div class=\"wandb-row\"><div class=\"wandb-col\"><h3>Run history:</h3><br/><table class=\"wandb\"><tr><td>test_auroc_macro</td><td>▁</td></tr><tr><td>test_hamming_loss_macro</td><td>▁</td></tr><tr><td>train_auroc_macro</td><td>▁</td></tr><tr><td>train_hamming_loss_macro</td><td>▁</td></tr><tr><td>train_loss</td><td>▁</td></tr><tr><td>val_auroc_macro</td><td>▁</td></tr><tr><td>val_hamming_loss_macro</td><td>▁</td></tr><tr><td>val_loss</td><td>▁</td></tr></table><br/></div><div class=\"wandb-col\"><h3>Run summary:</h3><br/><table class=\"wandb\"><tr><td>test_auroc_macro</td><td>0.49676</td></tr><tr><td>test_hamming_loss_macro</td><td>0.69599</td></tr><tr><td>train_auroc_macro</td><td>0.49811</td></tr><tr><td>train_hamming_loss_macro</td><td>0.69716</td></tr><tr><td>train_loss</td><td>69.69387</td></tr><tr><td>val_auroc_macro</td><td>0.50002</td></tr><tr><td>val_hamming_loss_macro</td><td>0.7025</td></tr><tr><td>val_loss</td><td>3.3221</td></tr></table><br/></div></div>"
      ],
      "text/plain": [
       "<IPython.core.display.HTML object>"
      ]
     },
     "metadata": {},
     "output_type": "display_data"
    },
    {
     "data": {
      "text/html": [
       "Synced <strong style=\"color:#cdcd00\">wandering-thunder-370</strong>: <a href=\"https://wandb.ai/diliadis/DeepMTP_v2/runs/3buq3wv1\" target=\"_blank\">https://wandb.ai/diliadis/DeepMTP_v2/runs/3buq3wv1</a><br/>Synced 6 W&B file(s), 0 media file(s), 0 artifact file(s) and 0 other file(s)"
      ],
      "text/plain": [
       "<IPython.core.display.HTML object>"
      ]
     },
     "metadata": {},
     "output_type": "display_data"
    },
    {
     "data": {
      "text/html": [
       "Find logs at: <code>./wandb/run-20220620_125615-3buq3wv1/logs</code>"
      ],
      "text/plain": [
       "<IPython.core.display.HTML object>"
      ]
     },
     "metadata": {},
     "output_type": "display_data"
    },
    {
     "name": "stdout",
     "output_type": "stream",
     "text": [
      "+-------+--------+---------+--------------------+-------------+\n",
      "|  mode | #epoch |   loss  | hamming_loss_macro | auroc_macro |\n",
      "+-------+--------+---------+--------------------+-------------+\n",
      "| train |   0    | 69.6939 |       0.6972       |    0.4981   |\n",
      "+-------+--------+---------+--------------------+-------------+\n",
      "====================\n",
      "+------+--------+--------+--------------------+-------------+----------------+\n",
      "| mode | #epoch |  loss  | hamming_loss_macro | auroc_macro | early_stopping |\n",
      "+------+--------+--------+--------------------+-------------+----------------+\n",
      "| val  |   0    | 3.3221 |       0.7025       |     0.5     |      0/10      |\n",
      "+------+--------+--------+--------------------+-------------+----------------+\n",
      "====================\n",
      "+------+--------+------+--------------------+-------------+\n",
      "| mode | #epoch | loss | hamming_loss_macro | auroc_macro |\n",
      "+------+--------+------+--------------------+-------------+\n",
      "| test |   0    |  -   |       0.696        |    0.4968   |\n",
      "+------+--------+------+--------------------+-------------+\n",
      "Saving the best model... Done\n",
      "---- Finished evaluating configuration with score: 3.322098175684611\n",
      "---- Evaluating configuration... \n",
      "Loading checkpoint from ./hyperband/20_06_2022__12_53_33//20_06_2022__12_55_39/model.pt...  \n",
      "Done\n",
      "Selected device: cuda:1\n",
      "Applying saved weights... Done\n",
      "Starting training...\n"
     ]
    },
    {
     "data": {
      "text/html": [
       "wandb version 0.12.18 is available!  To upgrade, please run:\n",
       " $ pip install wandb --upgrade"
      ],
      "text/plain": [
       "<IPython.core.display.HTML object>"
      ]
     },
     "metadata": {},
     "output_type": "display_data"
    },
    {
     "data": {
      "text/html": [
       "Tracking run with wandb version 0.12.17"
      ],
      "text/plain": [
       "<IPython.core.display.HTML object>"
      ]
     },
     "metadata": {},
     "output_type": "display_data"
    },
    {
     "data": {
      "text/html": [
       "Run data is saved locally in <code>/data/dimitriosi_datasets/DeepMTP/wandb/run-20220620_125634-25ns0d4t</code>"
      ],
      "text/plain": [
       "<IPython.core.display.HTML object>"
      ]
     },
     "metadata": {},
     "output_type": "display_data"
    },
    {
     "data": {
      "text/html": [
       "Syncing run <strong><a href=\"https://wandb.ai/diliadis/DeepMTP_v2/runs/25ns0d4t\" target=\"_blank\">crimson-oath-371</a></strong> to <a href=\"https://wandb.ai/diliadis/DeepMTP_v2\" target=\"_blank\">Weights & Biases</a> (<a href=\"https://wandb.me/run\" target=\"_blank\">docs</a>)<br/>"
      ],
      "text/plain": [
       "<IPython.core.display.HTML object>"
      ]
     },
     "metadata": {},
     "output_type": "display_data"
    },
    {
     "name": "stdout",
     "output_type": "stream",
     "text": [
      "Epoch:0... Done\n",
      "  Validating... Calculating val performance... Done\n",
      "Done\n",
      "Epoch:1... Done\n",
      "  Validating... Calculating val performance... Done\n",
      "Done\n",
      "Starting testing... Calculating test performance... Done\n",
      "Done\n"
     ]
    },
    {
     "data": {
      "text/html": [
       "Waiting for W&B process to finish... <strong style=\"color:green\">(success).</strong>"
      ],
      "text/plain": [
       "<IPython.core.display.HTML object>"
      ]
     },
     "metadata": {},
     "output_type": "display_data"
    },
    {
     "data": {
      "application/vnd.jupyter.widget-view+json": {
       "model_id": "4fe0d7c34f26485a972ea6892d410fb6",
       "version_major": 2,
       "version_minor": 0
      },
      "text/plain": [
       "VBox(children=(Label(value='0.001 MB of 0.001 MB uploaded (0.000 MB deduped)\\r'), FloatProgress(value=1.0, max…"
      ]
     },
     "metadata": {},
     "output_type": "display_data"
    },
    {
     "data": {
      "text/html": [
       "<style>\n",
       "    table.wandb td:nth-child(1) { padding: 0 10px; text-align: left ; width: auto;} td:nth-child(2) {text-align: left ; width: 100%}\n",
       "    .wandb-row { display: flex; flex-direction: row; flex-wrap: wrap; justify-content: flex-start; width: 100% }\n",
       "    .wandb-col { display: flex; flex-direction: column; flex-basis: 100%; flex: 1; padding: 10px; }\n",
       "    </style>\n",
       "<div class=\"wandb-row\"><div class=\"wandb-col\"><h3>Run history:</h3><br/><table class=\"wandb\"><tr><td>test_auroc_macro</td><td>▁</td></tr><tr><td>test_hamming_loss_macro</td><td>▁</td></tr><tr><td>train_auroc_macro</td><td>▁█</td></tr><tr><td>train_hamming_loss_macro</td><td>█▁</td></tr><tr><td>train_loss</td><td>█▁</td></tr><tr><td>val_auroc_macro</td><td>▁█</td></tr><tr><td>val_hamming_loss_macro</td><td>█▁</td></tr><tr><td>val_loss</td><td>█▁</td></tr></table><br/></div><div class=\"wandb-col\"><h3>Run summary:</h3><br/><table class=\"wandb\"><tr><td>test_auroc_macro</td><td>0.66915</td></tr><tr><td>test_hamming_loss_macro</td><td>0.20838</td></tr><tr><td>train_auroc_macro</td><td>0.69942</td></tr><tr><td>train_hamming_loss_macro</td><td>0.20944</td></tr><tr><td>train_loss</td><td>0.43916</td></tr><tr><td>val_auroc_macro</td><td>0.66894</td></tr><tr><td>val_hamming_loss_macro</td><td>0.20729</td></tr><tr><td>val_loss</td><td>0.46259</td></tr></table><br/></div></div>"
      ],
      "text/plain": [
       "<IPython.core.display.HTML object>"
      ]
     },
     "metadata": {},
     "output_type": "display_data"
    },
    {
     "data": {
      "text/html": [
       "Synced <strong style=\"color:#cdcd00\">crimson-oath-371</strong>: <a href=\"https://wandb.ai/diliadis/DeepMTP_v2/runs/25ns0d4t\" target=\"_blank\">https://wandb.ai/diliadis/DeepMTP_v2/runs/25ns0d4t</a><br/>Synced 6 W&B file(s), 0 media file(s), 0 artifact file(s) and 0 other file(s)"
      ],
      "text/plain": [
       "<IPython.core.display.HTML object>"
      ]
     },
     "metadata": {},
     "output_type": "display_data"
    },
    {
     "data": {
      "text/html": [
       "Find logs at: <code>./wandb/run-20220620_125634-25ns0d4t/logs</code>"
      ],
      "text/plain": [
       "<IPython.core.display.HTML object>"
      ]
     },
     "metadata": {},
     "output_type": "display_data"
    },
    {
     "name": "stdout",
     "output_type": "stream",
     "text": [
      "+-------+--------+--------+--------------------+-------------+\n",
      "|  mode | #epoch |  loss  | hamming_loss_macro | auroc_macro |\n",
      "+-------+--------+--------+--------------------+-------------+\n",
      "| train |   0    | 0.4715 |       0.2285       |    0.6304   |\n",
      "| train |   1    | 0.4392 |       0.2094       |    0.6994   |\n",
      "+-------+--------+--------+--------------------+-------------+\n",
      "====================\n",
      "+------+--------+--------+--------------------+-------------+----------------+\n",
      "| mode | #epoch |  loss  | hamming_loss_macro | auroc_macro | early_stopping |\n",
      "+------+--------+--------+--------------------+-------------+----------------+\n",
      "| val  |   0    | 0.4709 |       0.2165       |    0.6416   |      0/10      |\n",
      "| val  |   1    | 0.4626 |       0.2073       |    0.6689   |      0/10      |\n",
      "+------+--------+--------+--------------------+-------------+----------------+\n",
      "====================\n",
      "+------+--------+------+--------------------+-------------+\n",
      "| mode | #epoch | loss | hamming_loss_macro | auroc_macro |\n",
      "+------+--------+------+--------------------+-------------+\n",
      "| test |   1    |  -   |       0.2084       |    0.6691   |\n",
      "+------+--------+------+--------------------+-------------+\n",
      "Saving the best model... Done\n",
      "---- Finished evaluating configuration with score: 0.4625854392846425\n",
      "---- Evaluating configuration... \n",
      "Loading checkpoint from ./hyperband/20_06_2022__12_53_33//20_06_2022__12_54_44/model.pt...  \n",
      "Done\n",
      "Selected device: cuda:1\n",
      "Applying saved weights... Done\n",
      "Starting training...\n"
     ]
    },
    {
     "data": {
      "text/html": [
       "wandb version 0.12.18 is available!  To upgrade, please run:\n",
       " $ pip install wandb --upgrade"
      ],
      "text/plain": [
       "<IPython.core.display.HTML object>"
      ]
     },
     "metadata": {},
     "output_type": "display_data"
    },
    {
     "data": {
      "text/html": [
       "Tracking run with wandb version 0.12.17"
      ],
      "text/plain": [
       "<IPython.core.display.HTML object>"
      ]
     },
     "metadata": {},
     "output_type": "display_data"
    },
    {
     "data": {
      "text/html": [
       "Run data is saved locally in <code>/data/dimitriosi_datasets/DeepMTP/wandb/run-20220620_125657-2anokfai</code>"
      ],
      "text/plain": [
       "<IPython.core.display.HTML object>"
      ]
     },
     "metadata": {},
     "output_type": "display_data"
    },
    {
     "data": {
      "text/html": [
       "Syncing run <strong><a href=\"https://wandb.ai/diliadis/DeepMTP_v2/runs/2anokfai\" target=\"_blank\">smart-breeze-372</a></strong> to <a href=\"https://wandb.ai/diliadis/DeepMTP_v2\" target=\"_blank\">Weights & Biases</a> (<a href=\"https://wandb.me/run\" target=\"_blank\">docs</a>)<br/>"
      ],
      "text/plain": [
       "<IPython.core.display.HTML object>"
      ]
     },
     "metadata": {},
     "output_type": "display_data"
    },
    {
     "name": "stdout",
     "output_type": "stream",
     "text": [
      "Epoch:0... Done\n",
      "  Validating... Calculating val performance... Done\n",
      "Done\n",
      "Epoch:1... Done\n",
      "  Validating... Calculating val performance... Done\n",
      "Done\n",
      "Starting testing... Calculating test performance... Done\n",
      "Done\n"
     ]
    },
    {
     "data": {
      "text/html": [
       "Waiting for W&B process to finish... <strong style=\"color:green\">(success).</strong>"
      ],
      "text/plain": [
       "<IPython.core.display.HTML object>"
      ]
     },
     "metadata": {},
     "output_type": "display_data"
    },
    {
     "data": {
      "application/vnd.jupyter.widget-view+json": {
       "model_id": "3b7e93fb64a04833b2e4d9e28e224b08",
       "version_major": 2,
       "version_minor": 0
      },
      "text/plain": [
       "VBox(children=(Label(value='0.001 MB of 0.001 MB uploaded (0.000 MB deduped)\\r'), FloatProgress(value=1.0, max…"
      ]
     },
     "metadata": {},
     "output_type": "display_data"
    },
    {
     "data": {
      "text/html": [
       "<style>\n",
       "    table.wandb td:nth-child(1) { padding: 0 10px; text-align: left ; width: auto;} td:nth-child(2) {text-align: left ; width: 100%}\n",
       "    .wandb-row { display: flex; flex-direction: row; flex-wrap: wrap; justify-content: flex-start; width: 100% }\n",
       "    .wandb-col { display: flex; flex-direction: column; flex-basis: 100%; flex: 1; padding: 10px; }\n",
       "    </style>\n",
       "<div class=\"wandb-row\"><div class=\"wandb-col\"><h3>Run history:</h3><br/><table class=\"wandb\"><tr><td>test_auroc_macro</td><td>▁</td></tr><tr><td>test_hamming_loss_macro</td><td>▁</td></tr><tr><td>train_auroc_macro</td><td>▁█</td></tr><tr><td>train_hamming_loss_macro</td><td>█▁</td></tr><tr><td>train_loss</td><td>█▁</td></tr><tr><td>val_auroc_macro</td><td>▁█</td></tr><tr><td>val_hamming_loss_macro</td><td>█▁</td></tr><tr><td>val_loss</td><td>█▁</td></tr></table><br/></div><div class=\"wandb-col\"><h3>Run summary:</h3><br/><table class=\"wandb\"><tr><td>test_auroc_macro</td><td>0.61384</td></tr><tr><td>test_hamming_loss_macro</td><td>0.22255</td></tr><tr><td>train_auroc_macro</td><td>0.60101</td></tr><tr><td>train_hamming_loss_macro</td><td>0.23195</td></tr><tr><td>train_loss</td><td>0.48263</td></tr><tr><td>val_auroc_macro</td><td>0.61617</td></tr><tr><td>val_hamming_loss_macro</td><td>0.22239</td></tr><tr><td>val_loss</td><td>0.48353</td></tr></table><br/></div></div>"
      ],
      "text/plain": [
       "<IPython.core.display.HTML object>"
      ]
     },
     "metadata": {},
     "output_type": "display_data"
    },
    {
     "data": {
      "text/html": [
       "Synced <strong style=\"color:#cdcd00\">smart-breeze-372</strong>: <a href=\"https://wandb.ai/diliadis/DeepMTP_v2/runs/2anokfai\" target=\"_blank\">https://wandb.ai/diliadis/DeepMTP_v2/runs/2anokfai</a><br/>Synced 6 W&B file(s), 0 media file(s), 0 artifact file(s) and 0 other file(s)"
      ],
      "text/plain": [
       "<IPython.core.display.HTML object>"
      ]
     },
     "metadata": {},
     "output_type": "display_data"
    },
    {
     "data": {
      "text/html": [
       "Find logs at: <code>./wandb/run-20220620_125657-2anokfai/logs</code>"
      ],
      "text/plain": [
       "<IPython.core.display.HTML object>"
      ]
     },
     "metadata": {},
     "output_type": "display_data"
    },
    {
     "name": "stdout",
     "output_type": "stream",
     "text": [
      "+-------+--------+--------+--------------------+-------------+\n",
      "|  mode | #epoch |  loss  | hamming_loss_macro | auroc_macro |\n",
      "+-------+--------+--------+--------------------+-------------+\n",
      "| train |   0    | 0.4956 |       0.2329       |    0.5541   |\n",
      "| train |   1    | 0.4826 |       0.2319       |    0.601    |\n",
      "+-------+--------+--------+--------------------+-------------+\n",
      "====================\n",
      "+------+--------+--------+--------------------+-------------+----------------+\n",
      "| mode | #epoch |  loss  | hamming_loss_macro | auroc_macro | early_stopping |\n",
      "+------+--------+--------+--------------------+-------------+----------------+\n",
      "| val  |   0    | 0.4944 |       0.2334       |    0.5824   |      0/10      |\n",
      "| val  |   1    | 0.4835 |       0.2224       |    0.6162   |      0/10      |\n",
      "+------+--------+--------+--------------------+-------------+----------------+\n",
      "====================\n",
      "+------+--------+------+--------------------+-------------+\n",
      "| mode | #epoch | loss | hamming_loss_macro | auroc_macro |\n",
      "+------+--------+------+--------------------+-------------+\n",
      "| test |   1    |  -   |       0.2226       |    0.6138   |\n",
      "+------+--------+------+--------------------+-------------+\n",
      "Saving the best model... Done\n",
      "---- Finished evaluating configuration with score: 0.4835256338119507\n",
      "---- Evaluating configuration... \n",
      "Loading checkpoint from ./hyperband/20_06_2022__12_53_33//20_06_2022__12_55_02/model.pt...  \n",
      "Done\n",
      "Selected device: cuda:1\n",
      "Applying saved weights... Done\n",
      "Starting training...\n"
     ]
    },
    {
     "data": {
      "text/html": [
       "wandb version 0.12.18 is available!  To upgrade, please run:\n",
       " $ pip install wandb --upgrade"
      ],
      "text/plain": [
       "<IPython.core.display.HTML object>"
      ]
     },
     "metadata": {},
     "output_type": "display_data"
    },
    {
     "data": {
      "text/html": [
       "Tracking run with wandb version 0.12.17"
      ],
      "text/plain": [
       "<IPython.core.display.HTML object>"
      ]
     },
     "metadata": {},
     "output_type": "display_data"
    },
    {
     "data": {
      "text/html": [
       "Run data is saved locally in <code>/data/dimitriosi_datasets/DeepMTP/wandb/run-20220620_125721-hh6islj2</code>"
      ],
      "text/plain": [
       "<IPython.core.display.HTML object>"
      ]
     },
     "metadata": {},
     "output_type": "display_data"
    },
    {
     "data": {
      "text/html": [
       "Syncing run <strong><a href=\"https://wandb.ai/diliadis/DeepMTP_v2/runs/hh6islj2\" target=\"_blank\">daily-gorge-373</a></strong> to <a href=\"https://wandb.ai/diliadis/DeepMTP_v2\" target=\"_blank\">Weights & Biases</a> (<a href=\"https://wandb.me/run\" target=\"_blank\">docs</a>)<br/>"
      ],
      "text/plain": [
       "<IPython.core.display.HTML object>"
      ]
     },
     "metadata": {},
     "output_type": "display_data"
    },
    {
     "name": "stdout",
     "output_type": "stream",
     "text": [
      "Epoch:0... Done\n",
      "  Validating... Calculating val performance... Done\n",
      "Done\n",
      "Epoch:1... Done\n",
      "  Validating... Calculating val performance... Done\n",
      "Done\n",
      "Starting testing... Calculating test performance... Done\n",
      "Done\n"
     ]
    },
    {
     "data": {
      "text/html": [
       "Waiting for W&B process to finish... <strong style=\"color:green\">(success).</strong>"
      ],
      "text/plain": [
       "<IPython.core.display.HTML object>"
      ]
     },
     "metadata": {},
     "output_type": "display_data"
    },
    {
     "data": {
      "application/vnd.jupyter.widget-view+json": {
       "model_id": "389a80986c104293a7ee1c6b0b9b9c61",
       "version_major": 2,
       "version_minor": 0
      },
      "text/plain": [
       "VBox(children=(Label(value='0.001 MB of 0.001 MB uploaded (0.000 MB deduped)\\r'), FloatProgress(value=1.0, max…"
      ]
     },
     "metadata": {},
     "output_type": "display_data"
    },
    {
     "data": {
      "text/html": [
       "<style>\n",
       "    table.wandb td:nth-child(1) { padding: 0 10px; text-align: left ; width: auto;} td:nth-child(2) {text-align: left ; width: 100%}\n",
       "    .wandb-row { display: flex; flex-direction: row; flex-wrap: wrap; justify-content: flex-start; width: 100% }\n",
       "    .wandb-col { display: flex; flex-direction: column; flex-basis: 100%; flex: 1; padding: 10px; }\n",
       "    </style>\n",
       "<div class=\"wandb-row\"><div class=\"wandb-col\"><h3>Run history:</h3><br/><table class=\"wandb\"><tr><td>test_auroc_macro</td><td>▁</td></tr><tr><td>test_hamming_loss_macro</td><td>▁</td></tr><tr><td>train_auroc_macro</td><td>▁█</td></tr><tr><td>train_hamming_loss_macro</td><td>█▁</td></tr><tr><td>train_loss</td><td>█▁</td></tr><tr><td>val_auroc_macro</td><td>▁█</td></tr><tr><td>val_hamming_loss_macro</td><td>█▁</td></tr><tr><td>val_loss</td><td>█▁</td></tr></table><br/></div><div class=\"wandb-col\"><h3>Run summary:</h3><br/><table class=\"wandb\"><tr><td>test_auroc_macro</td><td>0.54987</td></tr><tr><td>test_hamming_loss_macro</td><td>0.23111</td></tr><tr><td>train_auroc_macro</td><td>0.50016</td></tr><tr><td>train_hamming_loss_macro</td><td>0.27968</td></tr><tr><td>train_loss</td><td>0.54337</td></tr><tr><td>val_auroc_macro</td><td>0.54085</td></tr><tr><td>val_hamming_loss_macro</td><td>0.22975</td></tr><tr><td>val_loss</td><td>0.50035</td></tr></table><br/></div></div>"
      ],
      "text/plain": [
       "<IPython.core.display.HTML object>"
      ]
     },
     "metadata": {},
     "output_type": "display_data"
    },
    {
     "data": {
      "text/html": [
       "Synced <strong style=\"color:#cdcd00\">daily-gorge-373</strong>: <a href=\"https://wandb.ai/diliadis/DeepMTP_v2/runs/hh6islj2\" target=\"_blank\">https://wandb.ai/diliadis/DeepMTP_v2/runs/hh6islj2</a><br/>Synced 6 W&B file(s), 0 media file(s), 0 artifact file(s) and 0 other file(s)"
      ],
      "text/plain": [
       "<IPython.core.display.HTML object>"
      ]
     },
     "metadata": {},
     "output_type": "display_data"
    },
    {
     "data": {
      "text/html": [
       "Find logs at: <code>./wandb/run-20220620_125721-hh6islj2/logs</code>"
      ],
      "text/plain": [
       "<IPython.core.display.HTML object>"
      ]
     },
     "metadata": {},
     "output_type": "display_data"
    },
    {
     "name": "stdout",
     "output_type": "stream",
     "text": [
      "+-------+--------+--------+--------------------+-------------+\n",
      "|  mode | #epoch |  loss  | hamming_loss_macro | auroc_macro |\n",
      "+-------+--------+--------+--------------------+-------------+\n",
      "| train |   0    | 0.6822 |       0.3028       |    0.4991   |\n",
      "| train |   1    | 0.5434 |       0.2797       |    0.5002   |\n",
      "+-------+--------+--------+--------------------+-------------+\n",
      "====================\n",
      "+------+--------+--------+--------------------+-------------+----------------+\n",
      "| mode | #epoch |  loss  | hamming_loss_macro | auroc_macro | early_stopping |\n",
      "+------+--------+--------+--------------------+-------------+----------------+\n",
      "| val  |   0    | 0.6222 |       0.2975       |    0.4921   |      0/10      |\n",
      "| val  |   1    | 0.5003 |       0.2297       |    0.5408   |      0/10      |\n",
      "+------+--------+--------+--------------------+-------------+----------------+\n",
      "====================\n",
      "+------+--------+------+--------------------+-------------+\n",
      "| mode | #epoch | loss | hamming_loss_macro | auroc_macro |\n",
      "+------+--------+------+--------------------+-------------+\n",
      "| test |   1    |  -   |       0.2311       |    0.5499   |\n",
      "+------+--------+------+--------------------+-------------+\n",
      "Saving the best model... Done\n",
      "---- Finished evaluating configuration with score: 0.5003466407457987\n",
      "---- Evaluating configuration... \n",
      "Loading checkpoint from ./hyperband/20_06_2022__12_53_33//20_06_2022__12_56_33/model.pt...  \n",
      "Done\n",
      "Selected device: cuda:1\n",
      "Applying saved weights... Done\n",
      "Starting training...\n"
     ]
    },
    {
     "data": {
      "text/html": [
       "wandb version 0.12.18 is available!  To upgrade, please run:\n",
       " $ pip install wandb --upgrade"
      ],
      "text/plain": [
       "<IPython.core.display.HTML object>"
      ]
     },
     "metadata": {},
     "output_type": "display_data"
    },
    {
     "data": {
      "text/html": [
       "Tracking run with wandb version 0.12.17"
      ],
      "text/plain": [
       "<IPython.core.display.HTML object>"
      ]
     },
     "metadata": {},
     "output_type": "display_data"
    },
    {
     "data": {
      "text/html": [
       "Run data is saved locally in <code>/data/dimitriosi_datasets/DeepMTP/wandb/run-20220620_125742-268cg45s</code>"
      ],
      "text/plain": [
       "<IPython.core.display.HTML object>"
      ]
     },
     "metadata": {},
     "output_type": "display_data"
    },
    {
     "data": {
      "text/html": [
       "Syncing run <strong><a href=\"https://wandb.ai/diliadis/DeepMTP_v2/runs/268cg45s\" target=\"_blank\">proud-snow-374</a></strong> to <a href=\"https://wandb.ai/diliadis/DeepMTP_v2\" target=\"_blank\">Weights & Biases</a> (<a href=\"https://wandb.me/run\" target=\"_blank\">docs</a>)<br/>"
      ],
      "text/plain": [
       "<IPython.core.display.HTML object>"
      ]
     },
     "metadata": {},
     "output_type": "display_data"
    },
    {
     "name": "stdout",
     "output_type": "stream",
     "text": [
      "Epoch:0... Done\n",
      "  Validating... Calculating val performance... Done\n",
      "Done\n",
      "Epoch:1... Done\n",
      "  Validating... Done\n",
      "-----------------------------EarlyStopping counter: 1 out of 10---------------------- best epoch currently 0\n",
      "Epoch:2... Done\n",
      "  Validating... Done\n",
      "-----------------------------EarlyStopping counter: 2 out of 10---------------------- best epoch currently 0\n",
      "Epoch:3... Done\n",
      "  Validating... Done\n",
      "-----------------------------EarlyStopping counter: 3 out of 10---------------------- best epoch currently 0\n",
      "Epoch:4... Done\n",
      "  Validating... Done\n",
      "-----------------------------EarlyStopping counter: 4 out of 10---------------------- best epoch currently 0\n",
      "Epoch:5... Done\n",
      "  Validating... Calculating val performance... Done\n",
      "Done\n",
      "-----------------------------EarlyStopping counter: 5 out of 10---------------------- best epoch currently 0\n",
      "Starting testing... Calculating test performance... Done\n",
      "Done\n"
     ]
    },
    {
     "data": {
      "text/html": [
       "Waiting for W&B process to finish... <strong style=\"color:green\">(success).</strong>"
      ],
      "text/plain": [
       "<IPython.core.display.HTML object>"
      ]
     },
     "metadata": {},
     "output_type": "display_data"
    },
    {
     "data": {
      "application/vnd.jupyter.widget-view+json": {
       "model_id": "5d59393609324c0fb52173b131a8a092",
       "version_major": 2,
       "version_minor": 0
      },
      "text/plain": [
       "VBox(children=(Label(value='0.001 MB of 0.001 MB uploaded (0.000 MB deduped)\\r'), FloatProgress(value=1.0, max…"
      ]
     },
     "metadata": {},
     "output_type": "display_data"
    },
    {
     "data": {
      "text/html": [
       "<style>\n",
       "    table.wandb td:nth-child(1) { padding: 0 10px; text-align: left ; width: auto;} td:nth-child(2) {text-align: left ; width: 100%}\n",
       "    .wandb-row { display: flex; flex-direction: row; flex-wrap: wrap; justify-content: flex-start; width: 100% }\n",
       "    .wandb-col { display: flex; flex-direction: column; flex-basis: 100%; flex: 1; padding: 10px; }\n",
       "    </style>\n",
       "<div class=\"wandb-row\"><div class=\"wandb-col\"><h3>Run history:</h3><br/><table class=\"wandb\"><tr><td>test_auroc_macro</td><td>▁</td></tr><tr><td>test_hamming_loss_macro</td><td>▁</td></tr><tr><td>train_auroc_macro</td><td>▁█</td></tr><tr><td>train_hamming_loss_macro</td><td>█▁</td></tr><tr><td>train_loss</td><td>█▇▅▄▂▁</td></tr><tr><td>val_auroc_macro</td><td>▁█</td></tr><tr><td>val_hamming_loss_macro</td><td>█▁</td></tr><tr><td>val_loss</td><td>▁▁▃▄▅█</td></tr></table><br/></div><div class=\"wandb-col\"><h3>Run summary:</h3><br/><table class=\"wandb\"><tr><td>test_auroc_macro</td><td>0.68096</td></tr><tr><td>test_hamming_loss_macro</td><td>0.20809</td></tr><tr><td>train_auroc_macro</td><td>0.87336</td></tr><tr><td>train_hamming_loss_macro</td><td>0.11928</td></tr><tr><td>train_loss</td><td>0.27867</td></tr><tr><td>val_auroc_macro</td><td>0.69671</td></tr><tr><td>val_hamming_loss_macro</td><td>0.20692</td></tr><tr><td>val_loss</td><td>0.58093</td></tr></table><br/></div></div>"
      ],
      "text/plain": [
       "<IPython.core.display.HTML object>"
      ]
     },
     "metadata": {},
     "output_type": "display_data"
    },
    {
     "data": {
      "text/html": [
       "Synced <strong style=\"color:#cdcd00\">proud-snow-374</strong>: <a href=\"https://wandb.ai/diliadis/DeepMTP_v2/runs/268cg45s\" target=\"_blank\">https://wandb.ai/diliadis/DeepMTP_v2/runs/268cg45s</a><br/>Synced 6 W&B file(s), 0 media file(s), 0 artifact file(s) and 0 other file(s)"
      ],
      "text/plain": [
       "<IPython.core.display.HTML object>"
      ]
     },
     "metadata": {},
     "output_type": "display_data"
    },
    {
     "data": {
      "text/html": [
       "Find logs at: <code>./wandb/run-20220620_125742-268cg45s/logs</code>"
      ],
      "text/plain": [
       "<IPython.core.display.HTML object>"
      ]
     },
     "metadata": {},
     "output_type": "display_data"
    },
    {
     "name": "stdout",
     "output_type": "stream",
     "text": [
      "+-------+--------+--------+--------------------+-------------+\n",
      "|  mode | #epoch |  loss  | hamming_loss_macro | auroc_macro |\n",
      "+-------+--------+--------+--------------------+-------------+\n",
      "| train |   0    | 0.4084 |       0.1918       |    0.7448   |\n",
      "| train |   1    | 0.3832 |         -          |      -      |\n",
      "| train |   2    | 0.3556 |         -          |      -      |\n",
      "| train |   3    | 0.3259 |         -          |      -      |\n",
      "| train |   4    | 0.3024 |         -          |      -      |\n",
      "| train |   5    | 0.2787 |       0.1193       |    0.8734   |\n",
      "+-------+--------+--------+--------------------+-------------+\n",
      "====================\n",
      "+------+--------+--------+--------------------+-------------+----------------+\n",
      "| mode | #epoch |  loss  | hamming_loss_macro | auroc_macro | early_stopping |\n",
      "+------+--------+--------+--------------------+-------------+----------------+\n",
      "| val  |   0    | 0.4612 |       0.211        |    0.6861   |      0/10      |\n",
      "| val  |   1    | 0.4686 |         -          |      -      |      1/10      |\n",
      "| val  |   2    | 0.492  |         -          |      -      |      2/10      |\n",
      "| val  |   3    | 0.5088 |         -          |      -      |      3/10      |\n",
      "| val  |   4    | 0.5369 |         -          |      -      |      4/10      |\n",
      "| val  |   5    | 0.5809 |       0.2069       |    0.6967   |      5/10      |\n",
      "+------+--------+--------+--------------------+-------------+----------------+\n",
      "====================\n",
      "+------+--------+------+--------------------+-------------+\n",
      "| mode | #epoch | loss | hamming_loss_macro | auroc_macro |\n",
      "+------+--------+------+--------------------+-------------+\n",
      "| test |   0    |  -   |       0.2081       |    0.681    |\n",
      "+------+--------+------+--------------------+-------------+\n",
      "Saving the best model... Done\n",
      "---- Finished evaluating configuration with score: 0.46121324102083844\n",
      "-- Running bracket with starting budget: 3\n",
      "---- Evaluating configuration... \n",
      "Selected device: cuda:1\n",
      "Starting training...\n"
     ]
    },
    {
     "data": {
      "text/html": [
       "wandb version 0.12.18 is available!  To upgrade, please run:\n",
       " $ pip install wandb --upgrade"
      ],
      "text/plain": [
       "<IPython.core.display.HTML object>"
      ]
     },
     "metadata": {},
     "output_type": "display_data"
    },
    {
     "data": {
      "text/html": [
       "Tracking run with wandb version 0.12.17"
      ],
      "text/plain": [
       "<IPython.core.display.HTML object>"
      ]
     },
     "metadata": {},
     "output_type": "display_data"
    },
    {
     "data": {
      "text/html": [
       "Run data is saved locally in <code>/data/dimitriosi_datasets/DeepMTP/wandb/run-20220620_125823-2h1b8hks</code>"
      ],
      "text/plain": [
       "<IPython.core.display.HTML object>"
      ]
     },
     "metadata": {},
     "output_type": "display_data"
    },
    {
     "data": {
      "text/html": [
       "Syncing run <strong><a href=\"https://wandb.ai/diliadis/DeepMTP_v2/runs/2h1b8hks\" target=\"_blank\">zany-capybara-375</a></strong> to <a href=\"https://wandb.ai/diliadis/DeepMTP_v2\" target=\"_blank\">Weights & Biases</a> (<a href=\"https://wandb.me/run\" target=\"_blank\">docs</a>)<br/>"
      ],
      "text/plain": [
       "<IPython.core.display.HTML object>"
      ]
     },
     "metadata": {},
     "output_type": "display_data"
    },
    {
     "name": "stdout",
     "output_type": "stream",
     "text": [
      "Epoch:0... Done\n",
      "  Validating... Calculating val performance... Done\n",
      "Done\n",
      "Epoch:1... Done\n",
      "  Validating... Done\n",
      "-----------------------------EarlyStopping counter: 1 out of 10---------------------- best epoch currently 0\n",
      "Epoch:2... Done\n",
      "  Validating... Done\n",
      "-----------------------------EarlyStopping counter: 2 out of 10---------------------- best epoch currently 0\n",
      "Epoch:3... Done\n",
      "  Validating... Done\n",
      "-----------------------------EarlyStopping counter: 3 out of 10---------------------- best epoch currently 0\n",
      "Epoch:4... Done\n",
      "  Validating... Done\n",
      "-----------------------------EarlyStopping counter: 4 out of 10---------------------- best epoch currently 0\n",
      "Epoch:5... Done\n",
      "  Validating... Done\n",
      "-----------------------------EarlyStopping counter: 5 out of 10---------------------- best epoch currently 0\n",
      "Epoch:6... Done\n",
      "  Validating... Done\n",
      "-----------------------------EarlyStopping counter: 6 out of 10---------------------- best epoch currently 0\n",
      "Epoch:7... Done\n",
      "  Validating... Done\n",
      "-----------------------------EarlyStopping counter: 7 out of 10---------------------- best epoch currently 0\n",
      "Epoch:8... Done\n",
      "  Validating... Calculating val performance... Done\n",
      "Done\n",
      "-----------------------------EarlyStopping counter: 8 out of 10---------------------- best epoch currently 0\n",
      "Starting testing... Calculating test performance... Done\n",
      "Done\n"
     ]
    },
    {
     "data": {
      "text/html": [
       "Waiting for W&B process to finish... <strong style=\"color:green\">(success).</strong>"
      ],
      "text/plain": [
       "<IPython.core.display.HTML object>"
      ]
     },
     "metadata": {},
     "output_type": "display_data"
    },
    {
     "data": {
      "application/vnd.jupyter.widget-view+json": {
       "model_id": "b11c79468edf45dd802b6c1086b87bae",
       "version_major": 2,
       "version_minor": 0
      },
      "text/plain": [
       "VBox(children=(Label(value='0.001 MB of 0.001 MB uploaded (0.000 MB deduped)\\r'), FloatProgress(value=1.0, max…"
      ]
     },
     "metadata": {},
     "output_type": "display_data"
    },
    {
     "data": {
      "text/html": [
       "<style>\n",
       "    table.wandb td:nth-child(1) { padding: 0 10px; text-align: left ; width: auto;} td:nth-child(2) {text-align: left ; width: 100%}\n",
       "    .wandb-row { display: flex; flex-direction: row; flex-wrap: wrap; justify-content: flex-start; width: 100% }\n",
       "    .wandb-col { display: flex; flex-direction: column; flex-basis: 100%; flex: 1; padding: 10px; }\n",
       "    </style>\n",
       "<div class=\"wandb-row\"><div class=\"wandb-col\"><h3>Run history:</h3><br/><table class=\"wandb\"><tr><td>test_auroc_macro</td><td>▁</td></tr><tr><td>test_hamming_loss_macro</td><td>▁</td></tr><tr><td>train_auroc_macro</td><td>▁█</td></tr><tr><td>train_hamming_loss_macro</td><td>▁▁</td></tr><tr><td>train_loss</td><td>▃█▄▂▄▃▁▁▃</td></tr><tr><td>val_auroc_macro</td><td>▁▁</td></tr><tr><td>val_hamming_loss_macro</td><td>▁▁</td></tr><tr><td>val_loss</td><td>▁▁▁▁▁▁▁▁▁</td></tr></table><br/></div><div class=\"wandb-col\"><h3>Run summary:</h3><br/><table class=\"wandb\"><tr><td>test_auroc_macro</td><td>0.5</td></tr><tr><td>test_hamming_loss_macro</td><td>0.69599</td></tr><tr><td>train_auroc_macro</td><td>0.52628</td></tr><tr><td>train_hamming_loss_macro</td><td>0.69716</td></tr><tr><td>train_loss</td><td>69.72373</td></tr><tr><td>val_auroc_macro</td><td>0.5</td></tr><tr><td>val_hamming_loss_macro</td><td>0.7025</td></tr><tr><td>val_loss</td><td>70.2065</td></tr></table><br/></div></div>"
      ],
      "text/plain": [
       "<IPython.core.display.HTML object>"
      ]
     },
     "metadata": {},
     "output_type": "display_data"
    },
    {
     "data": {
      "text/html": [
       "Synced <strong style=\"color:#cdcd00\">zany-capybara-375</strong>: <a href=\"https://wandb.ai/diliadis/DeepMTP_v2/runs/2h1b8hks\" target=\"_blank\">https://wandb.ai/diliadis/DeepMTP_v2/runs/2h1b8hks</a><br/>Synced 6 W&B file(s), 0 media file(s), 0 artifact file(s) and 0 other file(s)"
      ],
      "text/plain": [
       "<IPython.core.display.HTML object>"
      ]
     },
     "metadata": {},
     "output_type": "display_data"
    },
    {
     "data": {
      "text/html": [
       "Find logs at: <code>./wandb/run-20220620_125823-2h1b8hks/logs</code>"
      ],
      "text/plain": [
       "<IPython.core.display.HTML object>"
      ]
     },
     "metadata": {},
     "output_type": "display_data"
    },
    {
     "name": "stdout",
     "output_type": "stream",
     "text": [
      "+-------+--------+---------+--------------------+-------------+\n",
      "|  mode | #epoch |   loss  | hamming_loss_macro | auroc_macro |\n",
      "+-------+--------+---------+--------------------+-------------+\n",
      "| train |   0    | 69.7204 |       0.6972       |    0.5092   |\n",
      "| train |   1    | 69.7901 |         -          |      -      |\n",
      "| train |   2    | 69.7304 |         -          |      -      |\n",
      "| train |   3    | 69.7005 |         -          |      -      |\n",
      "| train |   4    | 69.7271 |         -          |      -      |\n",
      "| train |   5    | 69.7105 |         -          |      -      |\n",
      "| train |   6    | 69.6872 |         -          |      -      |\n",
      "| train |   7    | 69.6872 |         -          |      -      |\n",
      "| train |   8    | 69.7237 |       0.6972       |    0.5263   |\n",
      "+-------+--------+---------+--------------------+-------------+\n",
      "====================\n",
      "+------+--------+---------+--------------------+-------------+----------------+\n",
      "| mode | #epoch |   loss  | hamming_loss_macro | auroc_macro | early_stopping |\n",
      "+------+--------+---------+--------------------+-------------+----------------+\n",
      "| val  |   0    | 70.2065 |       0.7025       |     0.5     |      0/10      |\n",
      "| val  |   1    | 70.2065 |         -          |      -      |      1/10      |\n",
      "| val  |   2    | 70.2065 |         -          |      -      |      2/10      |\n",
      "| val  |   3    | 70.2065 |         -          |      -      |      3/10      |\n",
      "| val  |   4    | 70.2065 |         -          |      -      |      4/10      |\n",
      "| val  |   5    | 70.2065 |         -          |      -      |      5/10      |\n",
      "| val  |   6    | 70.2065 |         -          |      -      |      6/10      |\n",
      "| val  |   7    | 70.2065 |         -          |      -      |      7/10      |\n",
      "| val  |   8    | 70.2065 |       0.7025       |     0.5     |      8/10      |\n",
      "+------+--------+---------+--------------------+-------------+----------------+\n",
      "====================\n",
      "+------+--------+------+--------------------+-------------+\n",
      "| mode | #epoch | loss | hamming_loss_macro | auroc_macro |\n",
      "+------+--------+------+--------------------+-------------+\n",
      "| test |   0    |  -   |       0.696        |     0.5     |\n",
      "+------+--------+------+--------------------+-------------+\n",
      "Saving the best model... Done\n",
      "---- Finished evaluating configuration with score: 70.20649719238281\n",
      "---- Evaluating configuration... \n",
      "Selected device: cuda:1\n",
      "Starting training...\n"
     ]
    },
    {
     "data": {
      "text/html": [
       "wandb version 0.12.18 is available!  To upgrade, please run:\n",
       " $ pip install wandb --upgrade"
      ],
      "text/plain": [
       "<IPython.core.display.HTML object>"
      ]
     },
     "metadata": {},
     "output_type": "display_data"
    },
    {
     "data": {
      "text/html": [
       "Tracking run with wandb version 0.12.17"
      ],
      "text/plain": [
       "<IPython.core.display.HTML object>"
      ]
     },
     "metadata": {},
     "output_type": "display_data"
    },
    {
     "data": {
      "text/html": [
       "Run data is saved locally in <code>/data/dimitriosi_datasets/DeepMTP/wandb/run-20220620_125920-1shohtsf</code>"
      ],
      "text/plain": [
       "<IPython.core.display.HTML object>"
      ]
     },
     "metadata": {},
     "output_type": "display_data"
    },
    {
     "data": {
      "text/html": [
       "Syncing run <strong><a href=\"https://wandb.ai/diliadis/DeepMTP_v2/runs/1shohtsf\" target=\"_blank\">sweet-plant-376</a></strong> to <a href=\"https://wandb.ai/diliadis/DeepMTP_v2\" target=\"_blank\">Weights & Biases</a> (<a href=\"https://wandb.me/run\" target=\"_blank\">docs</a>)<br/>"
      ],
      "text/plain": [
       "<IPython.core.display.HTML object>"
      ]
     },
     "metadata": {},
     "output_type": "display_data"
    },
    {
     "name": "stdout",
     "output_type": "stream",
     "text": [
      "Epoch:0... Done\n",
      "  Validating... Calculating val performance... Done\n",
      "Done\n",
      "Epoch:1... Done\n",
      "  Validating... Done\n",
      "Epoch:2... Done\n",
      "  Validating... Done\n",
      "Epoch:3... Done\n",
      "  Validating... Done\n",
      "Epoch:4... Done\n",
      "  Validating... Done\n",
      "Epoch:5... Done\n",
      "  Validating... Done\n",
      "Epoch:6... Done\n",
      "  Validating... Done\n",
      "Epoch:7... Done\n",
      "  Validating... Done\n",
      "Epoch:8... Done\n",
      "  Validating... Calculating val performance... Done\n",
      "Done\n",
      "Starting testing... Calculating test performance... Done\n",
      "Done\n"
     ]
    },
    {
     "data": {
      "text/html": [
       "Waiting for W&B process to finish... <strong style=\"color:green\">(success).</strong>"
      ],
      "text/plain": [
       "<IPython.core.display.HTML object>"
      ]
     },
     "metadata": {},
     "output_type": "display_data"
    },
    {
     "data": {
      "application/vnd.jupyter.widget-view+json": {
       "model_id": "de58b63c2d124790859f66dcd08a3fa6",
       "version_major": 2,
       "version_minor": 0
      },
      "text/plain": [
       "VBox(children=(Label(value='0.001 MB of 0.001 MB uploaded (0.000 MB deduped)\\r'), FloatProgress(value=1.0, max…"
      ]
     },
     "metadata": {},
     "output_type": "display_data"
    },
    {
     "data": {
      "text/html": [
       "<style>\n",
       "    table.wandb td:nth-child(1) { padding: 0 10px; text-align: left ; width: auto;} td:nth-child(2) {text-align: left ; width: 100%}\n",
       "    .wandb-row { display: flex; flex-direction: row; flex-wrap: wrap; justify-content: flex-start; width: 100% }\n",
       "    .wandb-col { display: flex; flex-direction: column; flex-basis: 100%; flex: 1; padding: 10px; }\n",
       "    </style>\n",
       "<div class=\"wandb-row\"><div class=\"wandb-col\"><h3>Run history:</h3><br/><table class=\"wandb\"><tr><td>test_auroc_macro</td><td>▁</td></tr><tr><td>test_hamming_loss_macro</td><td>▁</td></tr><tr><td>train_auroc_macro</td><td>▁█</td></tr><tr><td>train_hamming_loss_macro</td><td>█▁</td></tr><tr><td>train_loss</td><td>█▁▁▁▁▁▁▁▁</td></tr><tr><td>val_auroc_macro</td><td>▁█</td></tr><tr><td>val_hamming_loss_macro</td><td>█▁</td></tr><tr><td>val_loss</td><td>█▆▄▃▂▂▁▁▁</td></tr></table><br/></div><div class=\"wandb-col\"><h3>Run summary:</h3><br/><table class=\"wandb\"><tr><td>test_auroc_macro</td><td>0.49687</td></tr><tr><td>test_hamming_loss_macro</td><td>0.46591</td></tr><tr><td>train_auroc_macro</td><td>0.50483</td></tr><tr><td>train_hamming_loss_macro</td><td>0.30284</td></tr><tr><td>train_loss</td><td>0.69286</td></tr><tr><td>val_auroc_macro</td><td>0.52295</td></tr><tr><td>val_hamming_loss_macro</td><td>0.49043</td></tr><tr><td>val_loss</td><td>0.69261</td></tr></table><br/></div></div>"
      ],
      "text/plain": [
       "<IPython.core.display.HTML object>"
      ]
     },
     "metadata": {},
     "output_type": "display_data"
    },
    {
     "data": {
      "text/html": [
       "Synced <strong style=\"color:#cdcd00\">sweet-plant-376</strong>: <a href=\"https://wandb.ai/diliadis/DeepMTP_v2/runs/1shohtsf\" target=\"_blank\">https://wandb.ai/diliadis/DeepMTP_v2/runs/1shohtsf</a><br/>Synced 6 W&B file(s), 0 media file(s), 0 artifact file(s) and 0 other file(s)"
      ],
      "text/plain": [
       "<IPython.core.display.HTML object>"
      ]
     },
     "metadata": {},
     "output_type": "display_data"
    },
    {
     "data": {
      "text/html": [
       "Find logs at: <code>./wandb/run-20220620_125920-1shohtsf/logs</code>"
      ],
      "text/plain": [
       "<IPython.core.display.HTML object>"
      ]
     },
     "metadata": {},
     "output_type": "display_data"
    },
    {
     "name": "stdout",
     "output_type": "stream",
     "text": [
      "+-------+--------+--------+--------------------+-------------+\n",
      "|  mode | #epoch |  loss  | hamming_loss_macro | auroc_macro |\n",
      "+-------+--------+--------+--------------------+-------------+\n",
      "| train |   0    | 3.6488 |       0.6972       |    0.5012   |\n",
      "| train |   1    | 0.7168 |         -          |      -      |\n",
      "| train |   2    | 0.7094 |         -          |      -      |\n",
      "| train |   3    | 0.7036 |         -          |      -      |\n",
      "| train |   4    | 0.6993 |         -          |      -      |\n",
      "| train |   5    | 0.6965 |         -          |      -      |\n",
      "| train |   6    | 0.6947 |         -          |      -      |\n",
      "| train |   7    | 0.6936 |         -          |      -      |\n",
      "| train |   8    | 0.6929 |       0.3028       |    0.5048   |\n",
      "+-------+--------+--------+--------------------+-------------+\n",
      "====================\n",
      "+------+--------+--------+--------------------+-------------+----------------+\n",
      "| mode | #epoch |  loss  | hamming_loss_macro | auroc_macro | early_stopping |\n",
      "+------+--------+--------+--------------------+-------------+----------------+\n",
      "| val  |   0    | 0.7235 |       0.7025       |    0.4974   |      0/10      |\n",
      "| val  |   1    | 0.713  |         -          |      -      |      0/10      |\n",
      "| val  |   2    | 0.7066 |         -          |      -      |      0/10      |\n",
      "| val  |   3    | 0.7014 |         -          |      -      |      0/10      |\n",
      "| val  |   4    | 0.6978 |         -          |      -      |      0/10      |\n",
      "| val  |   5    | 0.6955 |         -          |      -      |      0/10      |\n",
      "| val  |   6    | 0.6941 |         -          |      -      |      0/10      |\n",
      "| val  |   7    | 0.6933 |         -          |      -      |      0/10      |\n",
      "| val  |   8    | 0.6926 |       0.4904       |    0.5229   |      0/10      |\n",
      "+------+--------+--------+--------------------+-------------+----------------+\n",
      "====================\n",
      "+------+--------+------+--------------------+-------------+\n",
      "| mode | #epoch | loss | hamming_loss_macro | auroc_macro |\n",
      "+------+--------+------+--------------------+-------------+\n",
      "| test |   8    |  -   |       0.4659       |    0.4969   |\n",
      "+------+--------+------+--------------------+-------------+\n",
      "Saving the best model... Done\n",
      "---- Finished evaluating configuration with score: 0.6926136414210001\n",
      "---- Evaluating configuration... \n",
      "Selected device: cuda:1\n",
      "Starting training...\n"
     ]
    },
    {
     "data": {
      "text/html": [
       "wandb version 0.12.18 is available!  To upgrade, please run:\n",
       " $ pip install wandb --upgrade"
      ],
      "text/plain": [
       "<IPython.core.display.HTML object>"
      ]
     },
     "metadata": {},
     "output_type": "display_data"
    },
    {
     "data": {
      "text/html": [
       "Tracking run with wandb version 0.12.17"
      ],
      "text/plain": [
       "<IPython.core.display.HTML object>"
      ]
     },
     "metadata": {},
     "output_type": "display_data"
    },
    {
     "data": {
      "text/html": [
       "Run data is saved locally in <code>/data/dimitriosi_datasets/DeepMTP/wandb/run-20220620_130016-3gfl9ugv</code>"
      ],
      "text/plain": [
       "<IPython.core.display.HTML object>"
      ]
     },
     "metadata": {},
     "output_type": "display_data"
    },
    {
     "data": {
      "text/html": [
       "Syncing run <strong><a href=\"https://wandb.ai/diliadis/DeepMTP_v2/runs/3gfl9ugv\" target=\"_blank\">crisp-voice-377</a></strong> to <a href=\"https://wandb.ai/diliadis/DeepMTP_v2\" target=\"_blank\">Weights & Biases</a> (<a href=\"https://wandb.me/run\" target=\"_blank\">docs</a>)<br/>"
      ],
      "text/plain": [
       "<IPython.core.display.HTML object>"
      ]
     },
     "metadata": {},
     "output_type": "display_data"
    },
    {
     "name": "stdout",
     "output_type": "stream",
     "text": [
      "Epoch:0... Done\n",
      "  Validating... Calculating val performance... Done\n",
      "Done\n",
      "Epoch:1... Done\n",
      "  Validating... Done\n",
      "Epoch:2... Done\n",
      "  Validating... Done\n",
      "Epoch:3... Done\n",
      "  Validating... Done\n",
      "Epoch:4... Done\n",
      "  Validating... Done\n",
      "Epoch:5... Done\n",
      "  Validating... Done\n",
      "Epoch:6... Done\n",
      "  Validating... Done\n",
      "Epoch:7... Done\n",
      "  Validating... Done\n",
      "Epoch:8... Done\n",
      "  Validating... Calculating val performance... Done\n",
      "Done\n",
      "Starting testing... Calculating test performance... Done\n",
      "Done\n"
     ]
    },
    {
     "data": {
      "text/html": [
       "Waiting for W&B process to finish... <strong style=\"color:green\">(success).</strong>"
      ],
      "text/plain": [
       "<IPython.core.display.HTML object>"
      ]
     },
     "metadata": {},
     "output_type": "display_data"
    },
    {
     "data": {
      "application/vnd.jupyter.widget-view+json": {
       "model_id": "f05aa75504304c3f95b3e3393e08b205",
       "version_major": 2,
       "version_minor": 0
      },
      "text/plain": [
       "VBox(children=(Label(value='0.001 MB of 0.001 MB uploaded (0.000 MB deduped)\\r'), FloatProgress(value=1.0, max…"
      ]
     },
     "metadata": {},
     "output_type": "display_data"
    },
    {
     "data": {
      "text/html": [
       "<style>\n",
       "    table.wandb td:nth-child(1) { padding: 0 10px; text-align: left ; width: auto;} td:nth-child(2) {text-align: left ; width: 100%}\n",
       "    .wandb-row { display: flex; flex-direction: row; flex-wrap: wrap; justify-content: flex-start; width: 100% }\n",
       "    .wandb-col { display: flex; flex-direction: column; flex-basis: 100%; flex: 1; padding: 10px; }\n",
       "    </style>\n",
       "<div class=\"wandb-row\"><div class=\"wandb-col\"><h3>Run history:</h3><br/><table class=\"wandb\"><tr><td>test_auroc_macro</td><td>▁</td></tr><tr><td>test_hamming_loss_macro</td><td>▁</td></tr><tr><td>train_auroc_macro</td><td>▁█</td></tr><tr><td>train_hamming_loss_macro</td><td>█▁</td></tr><tr><td>train_loss</td><td>█▄▂▂▂▂▁▁▁</td></tr><tr><td>val_auroc_macro</td><td>▁█</td></tr><tr><td>val_hamming_loss_macro</td><td>█▁</td></tr><tr><td>val_loss</td><td>█▃▃▃▂▂▁▁▁</td></tr></table><br/></div><div class=\"wandb-col\"><h3>Run summary:</h3><br/><table class=\"wandb\"><tr><td>test_auroc_macro</td><td>0.62366</td></tr><tr><td>test_hamming_loss_macro</td><td>0.22476</td></tr><tr><td>train_auroc_macro</td><td>0.65191</td></tr><tr><td>train_hamming_loss_macro</td><td>0.22579</td></tr><tr><td>train_loss</td><td>0.4611</td></tr><tr><td>val_auroc_macro</td><td>0.62252</td></tr><tr><td>val_hamming_loss_macro</td><td>0.22054</td></tr><tr><td>val_loss</td><td>0.47687</td></tr></table><br/></div></div>"
      ],
      "text/plain": [
       "<IPython.core.display.HTML object>"
      ]
     },
     "metadata": {},
     "output_type": "display_data"
    },
    {
     "data": {
      "text/html": [
       "Synced <strong style=\"color:#cdcd00\">crisp-voice-377</strong>: <a href=\"https://wandb.ai/diliadis/DeepMTP_v2/runs/3gfl9ugv\" target=\"_blank\">https://wandb.ai/diliadis/DeepMTP_v2/runs/3gfl9ugv</a><br/>Synced 6 W&B file(s), 0 media file(s), 0 artifact file(s) and 0 other file(s)"
      ],
      "text/plain": [
       "<IPython.core.display.HTML object>"
      ]
     },
     "metadata": {},
     "output_type": "display_data"
    },
    {
     "data": {
      "text/html": [
       "Find logs at: <code>./wandb/run-20220620_130016-3gfl9ugv/logs</code>"
      ],
      "text/plain": [
       "<IPython.core.display.HTML object>"
      ]
     },
     "metadata": {},
     "output_type": "display_data"
    },
    {
     "name": "stdout",
     "output_type": "stream",
     "text": [
      "+-------+--------+--------+--------------------+-------------+\n",
      "|  mode | #epoch |  loss  | hamming_loss_macro | auroc_macro |\n",
      "+-------+--------+--------+--------------------+-------------+\n",
      "| train |   0    | 0.6441 |       0.3037       |    0.4942   |\n",
      "| train |   1    | 0.5296 |         -          |      -      |\n",
      "| train |   2    | 0.4969 |         -          |      -      |\n",
      "| train |   3    | 0.493  |         -          |      -      |\n",
      "| train |   4    | 0.489  |         -          |      -      |\n",
      "| train |   5    | 0.4821 |         -          |      -      |\n",
      "| train |   6    | 0.4725 |         -          |      -      |\n",
      "| train |   7    | 0.4668 |         -          |      -      |\n",
      "| train |   8    | 0.4611 |       0.2258       |    0.6519   |\n",
      "+-------+--------+--------+--------------------+-------------+\n",
      "====================\n",
      "+------+--------+--------+--------------------+-------------+----------------+\n",
      "| mode | #epoch |  loss  | hamming_loss_macro | auroc_macro | early_stopping |\n",
      "+------+--------+--------+--------------------+-------------+----------------+\n",
      "| val  |   0    | 0.5742 |       0.2975       |    0.5131   |      0/10      |\n",
      "| val  |   1    | 0.4999 |         -          |      -      |      0/10      |\n",
      "| val  |   2    | 0.4989 |         -          |      -      |      0/10      |\n",
      "| val  |   3    | 0.4985 |         -          |      -      |      0/10      |\n",
      "| val  |   4    | 0.4941 |         -          |      -      |      0/10      |\n",
      "| val  |   5    | 0.4865 |         -          |      -      |      0/10      |\n",
      "| val  |   6    | 0.4831 |         -          |      -      |      0/10      |\n",
      "| val  |   7    | 0.4789 |         -          |      -      |      0/10      |\n",
      "| val  |   8    | 0.4769 |       0.2205       |    0.6225   |      0/10      |\n",
      "+------+--------+--------+--------------------+-------------+----------------+\n",
      "====================\n",
      "+------+--------+------+--------------------+-------------+\n",
      "| mode | #epoch | loss | hamming_loss_macro | auroc_macro |\n",
      "+------+--------+------+--------------------+-------------+\n",
      "| test |   8    |  -   |       0.2248       |    0.6237   |\n",
      "+------+--------+------+--------------------+-------------+\n",
      "Saving the best model... Done\n",
      "---- Finished evaluating configuration with score: 0.4768730600674947\n",
      "Best overall configuration: \n",
      "config: Configuration(values={\n",
      "  'embedding_size': 450,\n",
      "  'instance_branch_layers': 1,\n",
      "  'instance_branch_nodes_per_layer': 1486,\n",
      "  'learning_rate': 0.0007216958462165786,\n",
      "  'target_branch_layers': 1,\n",
      "  'target_branch_nodes_per_layer': 1345,\n",
      "})\n",
      "  |  budget: 9  |  score: 0.46121324102083844\n",
      "{'model_dir': './hyperband/20_06_2022__12_53_33//20_06_2022__12_57_42/model.pt', 'config': {'validation_setting': 'B', 'enable_dot_product_version': True, 'problem_mode': 'classification', 'learning_rate': 0.0007216958462165786, 'decay': 0, 'batch_norm': 0, 'dropout_rate': 0, 'momentum': 0.9, 'weighted_loss': False, 'compute_mode': 'cuda:1', 'num_workers': 8, 'train_batchsize': 512, 'val_batchsize': 512, 'num_epochs': 6, 'use_early_stopping': True, 'patience': 10, 'evaluate_train': True, 'evaluate_val': True, 'verbose': True, 'results_verbose': False, 'return_results_per_target': False, 'metric_to_optimize_early_stopping': 'loss', 'metric_to_optimize_best_epoch_selection': 'loss', 'instance_branch_architecture': 'MLP', 'target_branch_architecture': 'MLP', 'use_instance_features': False, 'use_target_features': False, 'use_tensorboard_logger': True, 'wandb_project_name': 'DeepMTP_v2', 'wandb_project_entity': 'diliadis', 'results_path': './hyperband/20_06_2022__12_53_33/', 'experiment_name': 'best_model', 'save_model': True, 'instance_branch_input_dim': 103, 'target_branch_input_dim': 14, 'eval_every_n_epochs': 10, 'load_pretrained_model': False, 'pretrained_model_path': '', 'instance_train_transforms': None, 'instance_inference_transforms': None, 'target_train_transforms': None, 'target_inference_transforms': None, 'running_hyperband': True, 'metrics': ['hamming_loss', 'auroc'], 'metrics_average': ['macro'], 'embedding_size': 450, 'instance_branch_nodes_per_layer': 1486, 'instance_branch_layers': 1, 'instance_branch_nodes_reducing_factor': 2, 'target_branch_nodes_per_layer': 1345, 'target_branch_layers': 1, 'target_branch_nodes_reducing_factor': 2, 'budget': 9, 'budget_int': 9, 'actuall_budget': 6}}\n",
      "\n",
      "\n"
     ]
    }
   ],
   "source": [
    "best_overall_config = hb.run_optimizer()"
   ]
  },
  {
   "cell_type": "markdown",
   "metadata": {},
   "source": [
    "# Load the best model and generate predictions for the test set"
   ]
  },
  {
   "cell_type": "code",
   "execution_count": 10,
   "metadata": {},
   "outputs": [
    {
     "name": "stdout",
     "output_type": "stream",
     "text": [
      "Loading checkpoint from ./hyperband/20_06_2022__12_53_33//20_06_2022__12_57_42/model.pt...  \n",
      "Done\n",
      "Selected device: cuda:1\n",
      "Applying saved weights... Done\n"
     ]
    }
   ],
   "source": [
    "best_model = DeepMTP(best_overall_config.info['config'], best_overall_config.info['model_dir'])"
   ]
  },
  {
   "cell_type": "code",
   "execution_count": 11,
   "metadata": {},
   "outputs": [
    {
     "name": "stdout",
     "output_type": "stream",
     "text": [
      "Calculating  performance... Done\n"
     ]
    }
   ],
   "source": [
    "best_model_results = best_model.predict(test, verbose=True)"
   ]
  },
  {
   "cell_type": "code",
   "execution_count": 12,
   "metadata": {},
   "outputs": [
    {
     "data": {
      "text/plain": [
       "({'hamming_loss_target_0': 0.2231404958677686,\n",
       "  'auroc_target_0': 0.7904002720111827,\n",
       "  'hamming_loss_target_1': 0.40082644628099173,\n",
       "  'auroc_target_1': 0.6637501519018105,\n",
       "  'hamming_loss_target_2': 0.2706611570247934,\n",
       "  'auroc_target_2': 0.7880881519274378,\n",
       "  'hamming_loss_target_3': 0.25413223140495866,\n",
       "  'auroc_target_3': 0.8078022532369262,\n",
       "  'hamming_loss_target_4': 0.22520661157024793,\n",
       "  'auroc_target_4': 0.7366217320261437,\n",
       "  'hamming_loss_target_5': 0.25413223140495866,\n",
       "  'auroc_target_5': 0.6755993736077108,\n",
       "  'hamming_loss_target_6': 0.15702479338842976,\n",
       "  'auroc_target_6': 0.680437306501548,\n",
       "  'hamming_loss_target_7': 0.17148760330578514,\n",
       "  'auroc_target_7': 0.6357599975963706,\n",
       "  'hamming_loss_target_8': 0.06198347107438017,\n",
       "  'auroc_target_8': 0.5914831130690161,\n",
       "  'hamming_loss_target_9': 0.11363636363636363,\n",
       "  'auroc_target_9': 0.6189023098114007,\n",
       "  'hamming_loss_target_10': 0.128099173553719,\n",
       "  'auroc_target_10': 0.5897034092646385,\n",
       "  'hamming_loss_target_11': 0.32231404958677684,\n",
       "  'auroc_target_11': 0.6688200426044271,\n",
       "  'hamming_loss_target_12': 0.31611570247933884,\n",
       "  'auroc_target_12': 0.666375043167952,\n",
       "  'hamming_loss_target_13': 0.014462809917355372,\n",
       "  'auroc_target_13': 0.6196466007786763,\n",
       "  'hamming_loss_macro': 0.20808736717827628,\n",
       "  'auroc_macro': 0.6809564112503743,\n",
       "  '_loss': 0.4499910133225577},\n",
       "       instance_id  target_id  true_values  predicted_values\n",
       " 0              18          0          0.0          0.021053\n",
       " 1              18          1          0.0          0.032764\n",
       " 2              18          2          0.0          0.096035\n",
       " 3              18          3          1.0          0.981681\n",
       " 4              18          4          1.0          0.930991\n",
       " ...           ...        ...          ...               ...\n",
       " 6771         2415          9          0.0          0.114454\n",
       " 6772         2415         10          0.0          0.167729\n",
       " 6773         2415         11          1.0          0.308805\n",
       " 6774         2415         12          1.0          0.288420\n",
       " 6775         2415         13          0.0          0.019434\n",
       " \n",
       " [6776 rows x 4 columns])"
      ]
     },
     "execution_count": 12,
     "metadata": {},
     "output_type": "execute_result"
    }
   ],
   "source": [
    "best_model_results"
   ]
  },
  {
   "cell_type": "code",
   "execution_count": null,
   "metadata": {},
   "outputs": [],
   "source": []
  }
 ],
 "metadata": {
  "kernelspec": {
   "display_name": "Python 3.8.13 ('deepMTP_env': conda)",
   "language": "python",
   "name": "python3"
  },
  "language_info": {
   "codemirror_mode": {
    "name": "ipython",
    "version": 3
   },
   "file_extension": ".py",
   "mimetype": "text/x-python",
   "name": "python",
   "nbconvert_exporter": "python",
   "pygments_lexer": "ipython3",
   "version": "3.8.13"
  },
  "orig_nbformat": 4,
  "vscode": {
   "interpreter": {
    "hash": "d4d230de14994ca37ce25176fd791976ff73aae1fe711412070fc60c154e79c9"
   }
  }
 },
 "nbformat": 4,
 "nbformat_minor": 2
}
