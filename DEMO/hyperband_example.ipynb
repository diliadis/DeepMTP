{
 "cells": [
  {
   "cell_type": "code",
   "execution_count": 1,
   "metadata": {},
   "outputs": [],
   "source": [
    "import os\n",
    "os.chdir('../')\n",
    "\n",
    "from ast import arg\n",
    "from DeepMTP.main import DeepMTP\n",
    "from DeepMTP.simple_hyperband import BaseWorker\n",
    "from DeepMTP.simple_hyperband import HyperBand\n",
    "from DeepMTP.dataset import load_process_MLC, load_process_MTR, load_process_DP, process_dummy_MLC, process_dummy_MTR, process_dummy_DP, load_process_MC\n",
    "from DeepMTP.utils.data_utils import data_process, BaseDataset\n",
    "from DeepMTP.utils.utils import generate_config\n",
    "import ConfigSpace as CS\n",
    "import ConfigSpace.hyperparameters as CSH"
   ]
  },
  {
   "cell_type": "code",
   "execution_count": 2,
   "metadata": {},
   "outputs": [
    {
     "data": {
      "text/plain": [
       "(batch_norm | instance_branch_layers > 1 || batch_norm | target_branch_layers > 1)"
      ]
     },
     "execution_count": 2,
     "metadata": {},
     "output_type": "execute_result"
    }
   ],
   "source": [
    "# define the configuration space\n",
    "cs= CS.ConfigurationSpace()\n",
    "\n",
    "lr= CSH.UniformFloatHyperparameter(\n",
    "    \"learning_rate\", lower=1e-6, upper=1e-3, default_value=\"1e-3\", log=True\n",
    ")\n",
    "cs.add_hyperparameters([lr])\n",
    "\n",
    "embedding_size= CSH.UniformIntegerHyperparameter(\n",
    "    \"embedding_size\", lower=8, upper=2048, default_value=64, log=False\n",
    ")\n",
    "\n",
    "instance_branch_layers= CSH.UniformIntegerHyperparameter(\n",
    "    \"instance_branch_layers\", lower=1, upper=2, default_value=1, log=False\n",
    ")\n",
    "\n",
    "instance_branch_nodes_per_layer= CSH.UniformIntegerHyperparameter(\n",
    "    \"instance_branch_nodes_per_layer\", lower=8, upper=2048, default_value=64, log=False\n",
    ")\n",
    "\n",
    "target_branch_layers = CSH.UniformIntegerHyperparameter(\n",
    "    \"target_branch_layers\", lower=1, upper=2, default_value=1, log=False\n",
    ")\n",
    "\n",
    "target_branch_nodes_per_layer = CSH.UniformIntegerHyperparameter(\n",
    "    \"target_branch_nodes_per_layer\", lower=8, upper=2048, default_value=64, log=False\n",
    ")\n",
    "\n",
    "dropout_rate = CSH.UniformFloatHyperparameter(\n",
    "    \"dropout_rate\", lower=0.0, upper=0.9, default_value=0.4, log=False\n",
    ")\n",
    "\n",
    "batch_norm = CSH.CategoricalHyperparameter(\"batch_norm\", [True, False])\n",
    "\n",
    "cs.add_hyperparameters(\n",
    "    [\n",
    "        embedding_size,\n",
    "        instance_branch_layers,\n",
    "        instance_branch_nodes_per_layer,\n",
    "        target_branch_layers,\n",
    "        target_branch_nodes_per_layer,\n",
    "        dropout_rate,\n",
    "        batch_norm,\n",
    "    ]\n",
    ")\n",
    "\n",
    "cond = CS.GreaterThanCondition(dropout_rate, instance_branch_layers, 1)\n",
    "cond2 = CS.GreaterThanCondition(batch_norm, instance_branch_layers, 1)\n",
    "cond3 = CS.GreaterThanCondition(dropout_rate, target_branch_layers, 1)\n",
    "cond4 = CS.GreaterThanCondition(batch_norm, target_branch_layers, 1)\n",
    "\n",
    "cs.add_condition(CS.OrConjunction(cond, cond3))\n",
    "cs.add_condition(CS.OrConjunction(cond2, cond4))"
   ]
  },
  {
   "cell_type": "code",
   "execution_count": 3,
   "metadata": {},
   "outputs": [
    {
     "name": "stdout",
     "output_type": "stream",
     "text": [
      "Processing...\n",
      "yeast:undivided - exists, not redownloading\n",
      "Done\n",
      "Interaction file: 2d numpy array format detected\n",
      "Interaction file: checking format consistency... Passed\n",
      "Interaction file: checking instance id format consistency... Passed\n",
      "Interaction file: checking target id type consistency... Passed\n",
      "\n",
      "Interaction file: checking target variable type consistency... Passed\n",
      "Automatically detected type of target variable type: binary\n",
      "\n",
      "-- Test set was not provided, could not detect if novel instances exist or not \n",
      "-- Test set was not provided, could not detect if novel targets exist or not \n",
      "\n",
      "Instance features file: processing features... Done\n",
      "\n",
      "Cross input consistency for (numpy) interaction data and instance features checks out\n",
      "-- Same instance ids in the interaction and features files for the train set\n",
      "\n",
      "Splitting train to train-test according to validation setting B... Done\n",
      "Splitting train to train-val according to validation setting B... Done\n"
     ]
    }
   ],
   "source": [
    "data = load_process_MLC(dataset_name='yeast', variant='undivided')\n",
    "train, val, test, data_info = data_process(data, validation_setting='B', verbose=True)"
   ]
  },
  {
   "cell_type": "code",
   "execution_count": 4,
   "metadata": {},
   "outputs": [
    {
     "data": {
      "text/plain": [
       "{'detected_validation_setting': 'B',\n",
       " 'detected_problem_mode': 'classification',\n",
       " 'instance_branch_input_dim': 103,\n",
       " 'target_branch_input_dim': 14}"
      ]
     },
     "execution_count": 4,
     "metadata": {},
     "output_type": "execute_result"
    }
   ],
   "source": [
    "data_info"
   ]
  },
  {
   "cell_type": "code",
   "execution_count": 5,
   "metadata": {},
   "outputs": [],
   "source": [
    "config = {    \n",
    "\n",
    "    'hpo_results_path': './hyperband/',\n",
    "\n",
    "    'instance_branch_input_dim': data_info['instance_branch_input_dim'],\n",
    "    'target_branch_input_dim': data_info['target_branch_input_dim'],\n",
    "    'validation_setting': data_info['detected_validation_setting'],\n",
    "    'enable_dot_product_version': True,\n",
    "    'problem_mode': data_info['detected_problem_mode'],\n",
    "\n",
    "    'compute_mode': 'cuda:1',\n",
    "    'train_batchsize': 512,\n",
    "    'val_batchsize': 512,\n",
    "    'num_epochs': 6,\n",
    "    'num_workers': 8,\n",
    "\n",
    "    'metrics': ['hamming_loss', 'auroc'],\n",
    "    'metrics_average': ['macro'],\n",
    "    'patience': 10,\n",
    "\n",
    "    'evaluate_train': True,\n",
    "    'evaluate_val': True,\n",
    "\n",
    "    'verbose': True,\n",
    "    'results_verbose': False,\n",
    "    'use_early_stopping': True,\n",
    "    'use_tensorboard_logger': True,\n",
    "    'wandb_project_name': 'DeepMTP_v2',\n",
    "    'wandb_project_entity': 'diliadis',\n",
    "    'metric_to_optimize_early_stopping': 'loss',\n",
    "    'metric_to_optimize_best_epoch_selection': 'loss',\n",
    "\n",
    "    'instance_branch_architecture': 'MLP',\n",
    "\n",
    "    'target_branch_architecture': 'MLP',\n",
    "\n",
    "    'save_model': True,\n",
    "\n",
    "    'eval_every_n_epochs': 10,\n",
    "\n",
    "    'additional_info': {'eta': 3, 'max_budget': 9}\n",
    "    }"
   ]
  },
  {
   "cell_type": "code",
   "execution_count": 6,
   "metadata": {},
   "outputs": [],
   "source": [
    "worker = BaseWorker(\n",
    "    train, val, test, data_info, config, 'loss'\n",
    ")"
   ]
  },
  {
   "cell_type": "code",
   "execution_count": 7,
   "metadata": {},
   "outputs": [
    {
     "data": {
      "text/plain": [
       "{'hpo_results_path': './hyperband/',\n",
       " 'instance_branch_input_dim': 103,\n",
       " 'target_branch_input_dim': 14,\n",
       " 'validation_setting': 'B',\n",
       " 'enable_dot_product_version': True,\n",
       " 'problem_mode': 'classification',\n",
       " 'compute_mode': 'cuda:1',\n",
       " 'train_batchsize': 512,\n",
       " 'val_batchsize': 512,\n",
       " 'num_epochs': 6,\n",
       " 'num_workers': 8,\n",
       " 'metrics': ['hamming_loss', 'auroc'],\n",
       " 'metrics_average': ['macro'],\n",
       " 'patience': 10,\n",
       " 'evaluate_train': True,\n",
       " 'evaluate_val': True,\n",
       " 'verbose': True,\n",
       " 'results_verbose': False,\n",
       " 'use_early_stopping': True,\n",
       " 'use_tensorboard_logger': True,\n",
       " 'wandb_project_name': 'DeepMTP_v2',\n",
       " 'wandb_project_entity': 'diliadis',\n",
       " 'metric_to_optimize_early_stopping': 'loss',\n",
       " 'metric_to_optimize_best_epoch_selection': 'loss',\n",
       " 'instance_branch_architecture': 'MLP',\n",
       " 'target_branch_architecture': 'MLP',\n",
       " 'save_model': True,\n",
       " 'eval_every_n_epochs': 10,\n",
       " 'additional_info': {'eta': 3, 'max_budget': 9}}"
      ]
     },
     "execution_count": 7,
     "metadata": {},
     "output_type": "execute_result"
    }
   ],
   "source": [
    "worker.base_config"
   ]
  },
  {
   "cell_type": "code",
   "execution_count": 8,
   "metadata": {},
   "outputs": [
    {
     "name": "stdout",
     "output_type": "stream",
     "text": [
      "These are the pre-calculate brackets and successive halving runs:\n",
      "{9: {'n_i': [9, 3, 1], 'r_i': [1, 3, 9], 'num_iters': 3}, 3: {'n_i': [3], 'r_i': [9], 'num_iters': 1}}\n"
     ]
    }
   ],
   "source": [
    "hb = HyperBand(\n",
    "    base_worker=worker,\n",
    "    configspace=cs,\n",
    "    eta=config['additional_info']['eta'],\n",
    "    max_budget=config['additional_info']['max_budget'],\n",
    "    direction=\"min\",\n",
    "    verbose=True\n",
    ")"
   ]
  },
  {
   "cell_type": "code",
   "execution_count": 9,
   "metadata": {},
   "outputs": [
    {
     "name": "stdout",
     "output_type": "stream",
     "text": [
      "-- Running bracket with starting budget: 9\n",
      "---- Evaluating configuration... \n",
      "Selected device: cuda:1\n"
     ]
    },
    {
     "name": "stderr",
     "output_type": "stream",
     "text": [
      "Failed to detect the name of this notebook, you can set it manually with the WANDB_NOTEBOOK_NAME environment variable to enable code saving.\n"
     ]
    },
    {
     "name": "stdout",
     "output_type": "stream",
     "text": [
      "Starting training...\n"
     ]
    },
    {
     "name": "stderr",
     "output_type": "stream",
     "text": [
      "\u001b[34m\u001b[1mwandb\u001b[0m: Currently logged in as: \u001b[33mdiliadis\u001b[0m. Use \u001b[1m`wandb login --relogin`\u001b[0m to force relogin\n"
     ]
    },
    {
     "data": {
      "text/html": [
       "wandb version 0.12.18 is available!  To upgrade, please run:\n",
       " $ pip install wandb --upgrade"
      ],
      "text/plain": [
       "<IPython.core.display.HTML object>"
      ]
     },
     "metadata": {},
     "output_type": "display_data"
    },
    {
     "data": {
      "text/html": [
       "Tracking run with wandb version 0.12.17"
      ],
      "text/plain": [
       "<IPython.core.display.HTML object>"
      ]
     },
     "metadata": {},
     "output_type": "display_data"
    },
    {
     "data": {
      "text/html": [
       "Run data is saved locally in <code>/data/dimitriosi_datasets/DeepMTP/wandb/run-20220618_214334-1zky5o5o</code>"
      ],
      "text/plain": [
       "<IPython.core.display.HTML object>"
      ]
     },
     "metadata": {},
     "output_type": "display_data"
    },
    {
     "data": {
      "text/html": [
       "Syncing run <strong><a href=\"https://wandb.ai/diliadis/DeepMTP_v2/runs/1zky5o5o\" target=\"_blank\">lunar-capybara-330</a></strong> to <a href=\"https://wandb.ai/diliadis/DeepMTP_v2\" target=\"_blank\">Weights & Biases</a> (<a href=\"https://wandb.me/run\" target=\"_blank\">docs</a>)<br/>"
      ],
      "text/plain": [
       "<IPython.core.display.HTML object>"
      ]
     },
     "metadata": {},
     "output_type": "display_data"
    },
    {
     "name": "stdout",
     "output_type": "stream",
     "text": [
      "Epoch:0... Done\n",
      "  Validating... Calculating val performance... Done\n",
      "Done\n",
      "Starting testing... Calculating test performance... Done\n",
      "Done\n"
     ]
    },
    {
     "data": {
      "text/html": [
       "Waiting for W&B process to finish... <strong style=\"color:green\">(success).</strong>"
      ],
      "text/plain": [
       "<IPython.core.display.HTML object>"
      ]
     },
     "metadata": {},
     "output_type": "display_data"
    },
    {
     "data": {
      "application/vnd.jupyter.widget-view+json": {
       "model_id": "9fdbbaf8c4c64aca80870bf004f71a8d",
       "version_major": 2,
       "version_minor": 0
      },
      "text/plain": [
       "VBox(children=(Label(value='0.001 MB of 0.001 MB uploaded (0.000 MB deduped)\\r'), FloatProgress(value=1.0, max…"
      ]
     },
     "metadata": {},
     "output_type": "display_data"
    },
    {
     "data": {
      "text/html": [
       "<style>\n",
       "    table.wandb td:nth-child(1) { padding: 0 10px; text-align: left ; width: auto;} td:nth-child(2) {text-align: left ; width: 100%}\n",
       "    .wandb-row { display: flex; flex-direction: row; flex-wrap: wrap; justify-content: flex-start; width: 100% }\n",
       "    .wandb-col { display: flex; flex-direction: column; flex-basis: 100%; flex: 1; padding: 10px; }\n",
       "    </style>\n",
       "<div class=\"wandb-row\"><div class=\"wandb-col\"><h3>Run history:</h3><br/><table class=\"wandb\"><tr><td>test_auroc_macro</td><td>▁</td></tr><tr><td>test_hamming_loss_macro</td><td>▁</td></tr><tr><td>train_auroc_macro</td><td>▁</td></tr><tr><td>train_hamming_loss_macro</td><td>▁</td></tr><tr><td>train_loss</td><td>▁</td></tr><tr><td>val_auroc_macro</td><td>▁</td></tr><tr><td>val_hamming_loss_macro</td><td>▁</td></tr><tr><td>val_loss</td><td>▁</td></tr></table><br/></div><div class=\"wandb-col\"><h3>Run summary:</h3><br/><table class=\"wandb\"><tr><td>test_auroc_macro</td><td>0.49569</td></tr><tr><td>test_hamming_loss_macro</td><td>0.23111</td></tr><tr><td>train_auroc_macro</td><td>0.49898</td></tr><tr><td>train_hamming_loss_macro</td><td>0.38265</td></tr><tr><td>train_loss</td><td>0.75781</td></tr><tr><td>val_auroc_macro</td><td>0.5333</td></tr><tr><td>val_hamming_loss_macro</td><td>0.22975</td></tr><tr><td>val_loss</td><td>0.67337</td></tr></table><br/></div></div>"
      ],
      "text/plain": [
       "<IPython.core.display.HTML object>"
      ]
     },
     "metadata": {},
     "output_type": "display_data"
    },
    {
     "data": {
      "text/html": [
       "Synced <strong style=\"color:#cdcd00\">lunar-capybara-330</strong>: <a href=\"https://wandb.ai/diliadis/DeepMTP_v2/runs/1zky5o5o\" target=\"_blank\">https://wandb.ai/diliadis/DeepMTP_v2/runs/1zky5o5o</a><br/>Synced 6 W&B file(s), 0 media file(s), 0 artifact file(s) and 0 other file(s)"
      ],
      "text/plain": [
       "<IPython.core.display.HTML object>"
      ]
     },
     "metadata": {},
     "output_type": "display_data"
    },
    {
     "data": {
      "text/html": [
       "Find logs at: <code>./wandb/run-20220618_214334-1zky5o5o/logs</code>"
      ],
      "text/plain": [
       "<IPython.core.display.HTML object>"
      ]
     },
     "metadata": {},
     "output_type": "display_data"
    },
    {
     "name": "stdout",
     "output_type": "stream",
     "text": [
      "+-------+--------+--------+--------------------+-------------+\n",
      "|  mode | #epoch |  loss  | hamming_loss_macro | auroc_macro |\n",
      "+-------+--------+--------+--------------------+-------------+\n",
      "| train |   0    | 0.7578 |       0.3827       |    0.499    |\n",
      "+-------+--------+--------+--------------------+-------------+\n",
      "====================\n",
      "+------+--------+--------+--------------------+-------------+----------------+\n",
      "| mode | #epoch |  loss  | hamming_loss_macro | auroc_macro | early_stopping |\n",
      "+------+--------+--------+--------------------+-------------+----------------+\n",
      "| val  |   0    | 0.6734 |       0.2297       |    0.5333   |      0/10      |\n",
      "+------+--------+--------+--------------------+-------------+----------------+\n",
      "====================\n",
      "+------+--------+------+--------------------+-------------+\n",
      "| mode | #epoch | loss | hamming_loss_macro | auroc_macro |\n",
      "+------+--------+------+--------------------+-------------+\n",
      "| test |   0    |  -   |       0.2311       |    0.4957   |\n",
      "+------+--------+------+--------------------+-------------+\n",
      "Saving the best model... Done\n",
      "---- Finished evaluating configuration with score: 0.6733656525611877\n",
      "---- Evaluating configuration... \n",
      "Selected device: cuda:1\n",
      "Starting training...\n"
     ]
    },
    {
     "data": {
      "text/html": [
       "wandb version 0.12.18 is available!  To upgrade, please run:\n",
       " $ pip install wandb --upgrade"
      ],
      "text/plain": [
       "<IPython.core.display.HTML object>"
      ]
     },
     "metadata": {},
     "output_type": "display_data"
    },
    {
     "data": {
      "text/html": [
       "Tracking run with wandb version 0.12.17"
      ],
      "text/plain": [
       "<IPython.core.display.HTML object>"
      ]
     },
     "metadata": {},
     "output_type": "display_data"
    },
    {
     "data": {
      "text/html": [
       "Run data is saved locally in <code>/data/dimitriosi_datasets/DeepMTP/wandb/run-20220618_214354-3nqmvxdy</code>"
      ],
      "text/plain": [
       "<IPython.core.display.HTML object>"
      ]
     },
     "metadata": {},
     "output_type": "display_data"
    },
    {
     "data": {
      "text/html": [
       "Syncing run <strong><a href=\"https://wandb.ai/diliadis/DeepMTP_v2/runs/3nqmvxdy\" target=\"_blank\">royal-blaze-331</a></strong> to <a href=\"https://wandb.ai/diliadis/DeepMTP_v2\" target=\"_blank\">Weights & Biases</a> (<a href=\"https://wandb.me/run\" target=\"_blank\">docs</a>)<br/>"
      ],
      "text/plain": [
       "<IPython.core.display.HTML object>"
      ]
     },
     "metadata": {},
     "output_type": "display_data"
    },
    {
     "name": "stdout",
     "output_type": "stream",
     "text": [
      "Epoch:0... Done\n",
      "  Validating... Calculating val performance... Done\n",
      "Done\n",
      "Starting testing... Calculating test performance... Done\n",
      "Done\n"
     ]
    },
    {
     "data": {
      "text/html": [
       "Waiting for W&B process to finish... <strong style=\"color:green\">(success).</strong>"
      ],
      "text/plain": [
       "<IPython.core.display.HTML object>"
      ]
     },
     "metadata": {},
     "output_type": "display_data"
    },
    {
     "data": {
      "application/vnd.jupyter.widget-view+json": {
       "model_id": "d7eec64665444440bb940cd720fca9e4",
       "version_major": 2,
       "version_minor": 0
      },
      "text/plain": [
       "VBox(children=(Label(value='0.001 MB of 0.001 MB uploaded (0.000 MB deduped)\\r'), FloatProgress(value=1.0, max…"
      ]
     },
     "metadata": {},
     "output_type": "display_data"
    },
    {
     "data": {
      "text/html": [
       "<style>\n",
       "    table.wandb td:nth-child(1) { padding: 0 10px; text-align: left ; width: auto;} td:nth-child(2) {text-align: left ; width: 100%}\n",
       "    .wandb-row { display: flex; flex-direction: row; flex-wrap: wrap; justify-content: flex-start; width: 100% }\n",
       "    .wandb-col { display: flex; flex-direction: column; flex-basis: 100%; flex: 1; padding: 10px; }\n",
       "    </style>\n",
       "<div class=\"wandb-row\"><div class=\"wandb-col\"><h3>Run history:</h3><br/><table class=\"wandb\"><tr><td>test_auroc_macro</td><td>▁</td></tr><tr><td>test_hamming_loss_macro</td><td>▁</td></tr><tr><td>train_auroc_macro</td><td>▁</td></tr><tr><td>train_hamming_loss_macro</td><td>▁</td></tr><tr><td>train_loss</td><td>▁</td></tr><tr><td>val_auroc_macro</td><td>▁</td></tr><tr><td>val_hamming_loss_macro</td><td>▁</td></tr><tr><td>val_loss</td><td>▁</td></tr></table><br/></div><div class=\"wandb-col\"><h3>Run summary:</h3><br/><table class=\"wandb\"><tr><td>test_auroc_macro</td><td>0.49195</td></tr><tr><td>test_hamming_loss_macro</td><td>0.4544</td></tr><tr><td>train_auroc_macro</td><td>0.48969</td></tr><tr><td>train_hamming_loss_macro</td><td>0.6415</td></tr><tr><td>train_loss</td><td>52.09818</td></tr><tr><td>val_auroc_macro</td><td>0.49716</td></tr><tr><td>val_hamming_loss_macro</td><td>0.4444</td></tr><tr><td>val_loss</td><td>9.63292</td></tr></table><br/></div></div>"
      ],
      "text/plain": [
       "<IPython.core.display.HTML object>"
      ]
     },
     "metadata": {},
     "output_type": "display_data"
    },
    {
     "data": {
      "text/html": [
       "Synced <strong style=\"color:#cdcd00\">royal-blaze-331</strong>: <a href=\"https://wandb.ai/diliadis/DeepMTP_v2/runs/3nqmvxdy\" target=\"_blank\">https://wandb.ai/diliadis/DeepMTP_v2/runs/3nqmvxdy</a><br/>Synced 6 W&B file(s), 0 media file(s), 0 artifact file(s) and 0 other file(s)"
      ],
      "text/plain": [
       "<IPython.core.display.HTML object>"
      ]
     },
     "metadata": {},
     "output_type": "display_data"
    },
    {
     "data": {
      "text/html": [
       "Find logs at: <code>./wandb/run-20220618_214354-3nqmvxdy/logs</code>"
      ],
      "text/plain": [
       "<IPython.core.display.HTML object>"
      ]
     },
     "metadata": {},
     "output_type": "display_data"
    },
    {
     "name": "stdout",
     "output_type": "stream",
     "text": [
      "+-------+--------+---------+--------------------+-------------+\n",
      "|  mode | #epoch |   loss  | hamming_loss_macro | auroc_macro |\n",
      "+-------+--------+---------+--------------------+-------------+\n",
      "| train |   0    | 52.0982 |       0.6415       |    0.4897   |\n",
      "+-------+--------+---------+--------------------+-------------+\n",
      "====================\n",
      "+------+--------+--------+--------------------+-------------+----------------+\n",
      "| mode | #epoch |  loss  | hamming_loss_macro | auroc_macro | early_stopping |\n",
      "+------+--------+--------+--------------------+-------------+----------------+\n",
      "| val  |   0    | 9.6329 |       0.4444       |    0.4972   |      0/10      |\n",
      "+------+--------+--------+--------------------+-------------+----------------+\n",
      "====================\n",
      "+------+--------+------+--------------------+-------------+\n",
      "| mode | #epoch | loss | hamming_loss_macro | auroc_macro |\n",
      "+------+--------+------+--------------------+-------------+\n",
      "| test |   0    |  -   |       0.4544       |    0.4919   |\n",
      "+------+--------+------+--------------------+-------------+\n",
      "Saving the best model... Done\n",
      "---- Finished evaluating configuration with score: 9.632922093073526\n",
      "---- Evaluating configuration... \n",
      "Selected device: cuda:1\n",
      "Starting training...\n"
     ]
    },
    {
     "data": {
      "text/html": [
       "wandb version 0.12.18 is available!  To upgrade, please run:\n",
       " $ pip install wandb --upgrade"
      ],
      "text/plain": [
       "<IPython.core.display.HTML object>"
      ]
     },
     "metadata": {},
     "output_type": "display_data"
    },
    {
     "data": {
      "text/html": [
       "Tracking run with wandb version 0.12.17"
      ],
      "text/plain": [
       "<IPython.core.display.HTML object>"
      ]
     },
     "metadata": {},
     "output_type": "display_data"
    },
    {
     "data": {
      "text/html": [
       "Run data is saved locally in <code>/data/dimitriosi_datasets/DeepMTP/wandb/run-20220618_214412-q35k6jk1</code>"
      ],
      "text/plain": [
       "<IPython.core.display.HTML object>"
      ]
     },
     "metadata": {},
     "output_type": "display_data"
    },
    {
     "data": {
      "text/html": [
       "Syncing run <strong><a href=\"https://wandb.ai/diliadis/DeepMTP_v2/runs/q35k6jk1\" target=\"_blank\">driven-wood-332</a></strong> to <a href=\"https://wandb.ai/diliadis/DeepMTP_v2\" target=\"_blank\">Weights & Biases</a> (<a href=\"https://wandb.me/run\" target=\"_blank\">docs</a>)<br/>"
      ],
      "text/plain": [
       "<IPython.core.display.HTML object>"
      ]
     },
     "metadata": {},
     "output_type": "display_data"
    },
    {
     "name": "stdout",
     "output_type": "stream",
     "text": [
      "Epoch:0... Done\n",
      "  Validating... Calculating val performance... Done\n",
      "Done\n",
      "Starting testing... Calculating test performance... Done\n",
      "Done\n"
     ]
    },
    {
     "data": {
      "text/html": [
       "Waiting for W&B process to finish... <strong style=\"color:green\">(success).</strong>"
      ],
      "text/plain": [
       "<IPython.core.display.HTML object>"
      ]
     },
     "metadata": {},
     "output_type": "display_data"
    },
    {
     "data": {
      "application/vnd.jupyter.widget-view+json": {
       "model_id": "dc5d62edabd543ec98d7fe45559373e2",
       "version_major": 2,
       "version_minor": 0
      },
      "text/plain": [
       "VBox(children=(Label(value='0.001 MB of 0.001 MB uploaded (0.000 MB deduped)\\r'), FloatProgress(value=1.0, max…"
      ]
     },
     "metadata": {},
     "output_type": "display_data"
    },
    {
     "data": {
      "text/html": [
       "<style>\n",
       "    table.wandb td:nth-child(1) { padding: 0 10px; text-align: left ; width: auto;} td:nth-child(2) {text-align: left ; width: 100%}\n",
       "    .wandb-row { display: flex; flex-direction: row; flex-wrap: wrap; justify-content: flex-start; width: 100% }\n",
       "    .wandb-col { display: flex; flex-direction: column; flex-basis: 100%; flex: 1; padding: 10px; }\n",
       "    </style>\n",
       "<div class=\"wandb-row\"><div class=\"wandb-col\"><h3>Run history:</h3><br/><table class=\"wandb\"><tr><td>test_auroc_macro</td><td>▁</td></tr><tr><td>test_hamming_loss_macro</td><td>▁</td></tr><tr><td>train_auroc_macro</td><td>▁</td></tr><tr><td>train_hamming_loss_macro</td><td>▁</td></tr><tr><td>train_loss</td><td>▁</td></tr><tr><td>val_auroc_macro</td><td>▁</td></tr><tr><td>val_hamming_loss_macro</td><td>▁</td></tr><tr><td>val_loss</td><td>▁</td></tr></table><br/></div><div class=\"wandb-col\"><h3>Run summary:</h3><br/><table class=\"wandb\"><tr><td>test_auroc_macro</td><td>0.53581</td></tr><tr><td>test_hamming_loss_macro</td><td>0.23111</td></tr><tr><td>train_auroc_macro</td><td>0.49976</td></tr><tr><td>train_hamming_loss_macro</td><td>0.35053</td></tr><tr><td>train_loss</td><td>0.71962</td></tr><tr><td>val_auroc_macro</td><td>0.52866</td></tr><tr><td>val_hamming_loss_macro</td><td>0.22975</td></tr><tr><td>val_loss</td><td>0.64425</td></tr></table><br/></div></div>"
      ],
      "text/plain": [
       "<IPython.core.display.HTML object>"
      ]
     },
     "metadata": {},
     "output_type": "display_data"
    },
    {
     "data": {
      "text/html": [
       "Synced <strong style=\"color:#cdcd00\">driven-wood-332</strong>: <a href=\"https://wandb.ai/diliadis/DeepMTP_v2/runs/q35k6jk1\" target=\"_blank\">https://wandb.ai/diliadis/DeepMTP_v2/runs/q35k6jk1</a><br/>Synced 6 W&B file(s), 0 media file(s), 0 artifact file(s) and 0 other file(s)"
      ],
      "text/plain": [
       "<IPython.core.display.HTML object>"
      ]
     },
     "metadata": {},
     "output_type": "display_data"
    },
    {
     "data": {
      "text/html": [
       "Find logs at: <code>./wandb/run-20220618_214412-q35k6jk1/logs</code>"
      ],
      "text/plain": [
       "<IPython.core.display.HTML object>"
      ]
     },
     "metadata": {},
     "output_type": "display_data"
    },
    {
     "name": "stdout",
     "output_type": "stream",
     "text": [
      "+-------+--------+--------+--------------------+-------------+\n",
      "|  mode | #epoch |  loss  | hamming_loss_macro | auroc_macro |\n",
      "+-------+--------+--------+--------------------+-------------+\n",
      "| train |   0    | 0.7196 |       0.3505       |    0.4998   |\n",
      "+-------+--------+--------+--------------------+-------------+\n",
      "====================\n",
      "+------+--------+--------+--------------------+-------------+----------------+\n",
      "| mode | #epoch |  loss  | hamming_loss_macro | auroc_macro | early_stopping |\n",
      "+------+--------+--------+--------------------+-------------+----------------+\n",
      "| val  |   0    | 0.6443 |       0.2297       |    0.5287   |      0/10      |\n",
      "+------+--------+--------+--------------------+-------------+----------------+\n",
      "====================\n",
      "+------+--------+------+--------------------+-------------+\n",
      "| mode | #epoch | loss | hamming_loss_macro | auroc_macro |\n",
      "+------+--------+------+--------------------+-------------+\n",
      "| test |   0    |  -   |       0.2311       |    0.5358   |\n",
      "+------+--------+------+--------------------+-------------+\n",
      "Saving the best model... Done\n",
      "---- Finished evaluating configuration with score: 0.6442507108052572\n",
      "---- Evaluating configuration... \n",
      "Selected device: cuda:1\n",
      "Starting training...\n"
     ]
    },
    {
     "data": {
      "text/html": [
       "wandb version 0.12.18 is available!  To upgrade, please run:\n",
       " $ pip install wandb --upgrade"
      ],
      "text/plain": [
       "<IPython.core.display.HTML object>"
      ]
     },
     "metadata": {},
     "output_type": "display_data"
    },
    {
     "data": {
      "text/html": [
       "Tracking run with wandb version 0.12.17"
      ],
      "text/plain": [
       "<IPython.core.display.HTML object>"
      ]
     },
     "metadata": {},
     "output_type": "display_data"
    },
    {
     "data": {
      "text/html": [
       "Run data is saved locally in <code>/data/dimitriosi_datasets/DeepMTP/wandb/run-20220618_214430-k5s8iack</code>"
      ],
      "text/plain": [
       "<IPython.core.display.HTML object>"
      ]
     },
     "metadata": {},
     "output_type": "display_data"
    },
    {
     "data": {
      "text/html": [
       "Syncing run <strong><a href=\"https://wandb.ai/diliadis/DeepMTP_v2/runs/k5s8iack\" target=\"_blank\">gallant-microwave-333</a></strong> to <a href=\"https://wandb.ai/diliadis/DeepMTP_v2\" target=\"_blank\">Weights & Biases</a> (<a href=\"https://wandb.me/run\" target=\"_blank\">docs</a>)<br/>"
      ],
      "text/plain": [
       "<IPython.core.display.HTML object>"
      ]
     },
     "metadata": {},
     "output_type": "display_data"
    },
    {
     "name": "stdout",
     "output_type": "stream",
     "text": [
      "Epoch:0... Done\n",
      "  Validating... Calculating val performance... Done\n",
      "Done\n",
      "Starting testing... Calculating test performance... Done\n",
      "Done\n"
     ]
    },
    {
     "data": {
      "text/html": [
       "Waiting for W&B process to finish... <strong style=\"color:green\">(success).</strong>"
      ],
      "text/plain": [
       "<IPython.core.display.HTML object>"
      ]
     },
     "metadata": {},
     "output_type": "display_data"
    },
    {
     "data": {
      "application/vnd.jupyter.widget-view+json": {
       "model_id": "fd7bca683e364ae995ccaefd56e307bc",
       "version_major": 2,
       "version_minor": 0
      },
      "text/plain": [
       "VBox(children=(Label(value='0.001 MB of 0.001 MB uploaded (0.000 MB deduped)\\r'), FloatProgress(value=1.0, max…"
      ]
     },
     "metadata": {},
     "output_type": "display_data"
    },
    {
     "data": {
      "text/html": [
       "<style>\n",
       "    table.wandb td:nth-child(1) { padding: 0 10px; text-align: left ; width: auto;} td:nth-child(2) {text-align: left ; width: 100%}\n",
       "    .wandb-row { display: flex; flex-direction: row; flex-wrap: wrap; justify-content: flex-start; width: 100% }\n",
       "    .wandb-col { display: flex; flex-direction: column; flex-basis: 100%; flex: 1; padding: 10px; }\n",
       "    </style>\n",
       "<div class=\"wandb-row\"><div class=\"wandb-col\"><h3>Run history:</h3><br/><table class=\"wandb\"><tr><td>test_auroc_macro</td><td>▁</td></tr><tr><td>test_hamming_loss_macro</td><td>▁</td></tr><tr><td>train_auroc_macro</td><td>▁</td></tr><tr><td>train_hamming_loss_macro</td><td>▁</td></tr><tr><td>train_loss</td><td>▁</td></tr><tr><td>val_auroc_macro</td><td>▁</td></tr><tr><td>val_hamming_loss_macro</td><td>▁</td></tr><tr><td>val_loss</td><td>▁</td></tr></table><br/></div><div class=\"wandb-col\"><h3>Run summary:</h3><br/><table class=\"wandb\"><tr><td>test_auroc_macro</td><td>0.54437</td></tr><tr><td>test_hamming_loss_macro</td><td>0.23111</td></tr><tr><td>train_auroc_macro</td><td>0.49682</td></tr><tr><td>train_hamming_loss_macro</td><td>0.27335</td></tr><tr><td>train_loss</td><td>0.63319</td></tr><tr><td>val_auroc_macro</td><td>0.52329</td></tr><tr><td>val_hamming_loss_macro</td><td>0.22975</td></tr><tr><td>val_loss</td><td>0.52064</td></tr></table><br/></div></div>"
      ],
      "text/plain": [
       "<IPython.core.display.HTML object>"
      ]
     },
     "metadata": {},
     "output_type": "display_data"
    },
    {
     "data": {
      "text/html": [
       "Synced <strong style=\"color:#cdcd00\">gallant-microwave-333</strong>: <a href=\"https://wandb.ai/diliadis/DeepMTP_v2/runs/k5s8iack\" target=\"_blank\">https://wandb.ai/diliadis/DeepMTP_v2/runs/k5s8iack</a><br/>Synced 6 W&B file(s), 0 media file(s), 0 artifact file(s) and 0 other file(s)"
      ],
      "text/plain": [
       "<IPython.core.display.HTML object>"
      ]
     },
     "metadata": {},
     "output_type": "display_data"
    },
    {
     "data": {
      "text/html": [
       "Find logs at: <code>./wandb/run-20220618_214430-k5s8iack/logs</code>"
      ],
      "text/plain": [
       "<IPython.core.display.HTML object>"
      ]
     },
     "metadata": {},
     "output_type": "display_data"
    },
    {
     "name": "stdout",
     "output_type": "stream",
     "text": [
      "+-------+--------+--------+--------------------+-------------+\n",
      "|  mode | #epoch |  loss  | hamming_loss_macro | auroc_macro |\n",
      "+-------+--------+--------+--------------------+-------------+\n",
      "| train |   0    | 0.6332 |       0.2734       |    0.4968   |\n",
      "+-------+--------+--------+--------------------+-------------+\n",
      "====================\n",
      "+------+--------+--------+--------------------+-------------+----------------+\n",
      "| mode | #epoch |  loss  | hamming_loss_macro | auroc_macro | early_stopping |\n",
      "+------+--------+--------+--------------------+-------------+----------------+\n",
      "| val  |   0    | 0.5206 |       0.2297       |    0.5233   |      0/10      |\n",
      "+------+--------+--------+--------------------+-------------+----------------+\n",
      "====================\n",
      "+------+--------+------+--------------------+-------------+\n",
      "| mode | #epoch | loss | hamming_loss_macro | auroc_macro |\n",
      "+------+--------+------+--------------------+-------------+\n",
      "| test |   0    |  -   |       0.2311       |    0.5444   |\n",
      "+------+--------+------+--------------------+-------------+\n",
      "Saving the best model... Done\n",
      "---- Finished evaluating configuration with score: 0.5206355800231298\n",
      "---- Evaluating configuration... \n",
      "Selected device: cuda:1\n",
      "Starting training...\n"
     ]
    },
    {
     "data": {
      "text/html": [
       "wandb version 0.12.18 is available!  To upgrade, please run:\n",
       " $ pip install wandb --upgrade"
      ],
      "text/plain": [
       "<IPython.core.display.HTML object>"
      ]
     },
     "metadata": {},
     "output_type": "display_data"
    },
    {
     "data": {
      "text/html": [
       "Tracking run with wandb version 0.12.17"
      ],
      "text/plain": [
       "<IPython.core.display.HTML object>"
      ]
     },
     "metadata": {},
     "output_type": "display_data"
    },
    {
     "data": {
      "text/html": [
       "Run data is saved locally in <code>/data/dimitriosi_datasets/DeepMTP/wandb/run-20220618_214448-110vpg51</code>"
      ],
      "text/plain": [
       "<IPython.core.display.HTML object>"
      ]
     },
     "metadata": {},
     "output_type": "display_data"
    },
    {
     "data": {
      "text/html": [
       "Syncing run <strong><a href=\"https://wandb.ai/diliadis/DeepMTP_v2/runs/110vpg51\" target=\"_blank\">solar-firebrand-334</a></strong> to <a href=\"https://wandb.ai/diliadis/DeepMTP_v2\" target=\"_blank\">Weights & Biases</a> (<a href=\"https://wandb.me/run\" target=\"_blank\">docs</a>)<br/>"
      ],
      "text/plain": [
       "<IPython.core.display.HTML object>"
      ]
     },
     "metadata": {},
     "output_type": "display_data"
    },
    {
     "name": "stdout",
     "output_type": "stream",
     "text": [
      "Epoch:0... Done\n",
      "  Validating... Calculating val performance... Done\n",
      "Done\n",
      "Starting testing... Calculating test performance... Done\n",
      "Done\n"
     ]
    },
    {
     "data": {
      "text/html": [
       "Waiting for W&B process to finish... <strong style=\"color:green\">(success).</strong>"
      ],
      "text/plain": [
       "<IPython.core.display.HTML object>"
      ]
     },
     "metadata": {},
     "output_type": "display_data"
    },
    {
     "data": {
      "application/vnd.jupyter.widget-view+json": {
       "model_id": "72668c98c2354ef5bc170ad1cbff0119",
       "version_major": 2,
       "version_minor": 0
      },
      "text/plain": [
       "VBox(children=(Label(value='0.001 MB of 0.001 MB uploaded (0.000 MB deduped)\\r'), FloatProgress(value=1.0, max…"
      ]
     },
     "metadata": {},
     "output_type": "display_data"
    },
    {
     "data": {
      "text/html": [
       "<style>\n",
       "    table.wandb td:nth-child(1) { padding: 0 10px; text-align: left ; width: auto;} td:nth-child(2) {text-align: left ; width: 100%}\n",
       "    .wandb-row { display: flex; flex-direction: row; flex-wrap: wrap; justify-content: flex-start; width: 100% }\n",
       "    .wandb-col { display: flex; flex-direction: column; flex-basis: 100%; flex: 1; padding: 10px; }\n",
       "    </style>\n",
       "<div class=\"wandb-row\"><div class=\"wandb-col\"><h3>Run history:</h3><br/><table class=\"wandb\"><tr><td>test_auroc_macro</td><td>▁</td></tr><tr><td>test_hamming_loss_macro</td><td>▁</td></tr><tr><td>train_auroc_macro</td><td>▁</td></tr><tr><td>train_hamming_loss_macro</td><td>▁</td></tr><tr><td>train_loss</td><td>▁</td></tr><tr><td>val_auroc_macro</td><td>▁</td></tr><tr><td>val_hamming_loss_macro</td><td>▁</td></tr><tr><td>val_loss</td><td>▁</td></tr></table><br/></div><div class=\"wandb-col\"><h3>Run summary:</h3><br/><table class=\"wandb\"><tr><td>test_auroc_macro</td><td>0.54931</td></tr><tr><td>test_hamming_loss_macro</td><td>0.23111</td></tr><tr><td>train_auroc_macro</td><td>0.50841</td></tr><tr><td>train_hamming_loss_macro</td><td>0.2906</td></tr><tr><td>train_loss</td><td>0.67719</td></tr><tr><td>val_auroc_macro</td><td>0.54681</td></tr><tr><td>val_hamming_loss_macro</td><td>0.22975</td></tr><tr><td>val_loss</td><td>0.63279</td></tr></table><br/></div></div>"
      ],
      "text/plain": [
       "<IPython.core.display.HTML object>"
      ]
     },
     "metadata": {},
     "output_type": "display_data"
    },
    {
     "data": {
      "text/html": [
       "Synced <strong style=\"color:#cdcd00\">solar-firebrand-334</strong>: <a href=\"https://wandb.ai/diliadis/DeepMTP_v2/runs/110vpg51\" target=\"_blank\">https://wandb.ai/diliadis/DeepMTP_v2/runs/110vpg51</a><br/>Synced 6 W&B file(s), 0 media file(s), 0 artifact file(s) and 0 other file(s)"
      ],
      "text/plain": [
       "<IPython.core.display.HTML object>"
      ]
     },
     "metadata": {},
     "output_type": "display_data"
    },
    {
     "data": {
      "text/html": [
       "Find logs at: <code>./wandb/run-20220618_214448-110vpg51/logs</code>"
      ],
      "text/plain": [
       "<IPython.core.display.HTML object>"
      ]
     },
     "metadata": {},
     "output_type": "display_data"
    },
    {
     "name": "stdout",
     "output_type": "stream",
     "text": [
      "+-------+--------+--------+--------------------+-------------+\n",
      "|  mode | #epoch |  loss  | hamming_loss_macro | auroc_macro |\n",
      "+-------+--------+--------+--------------------+-------------+\n",
      "| train |   0    | 0.6772 |       0.2906       |    0.5084   |\n",
      "+-------+--------+--------+--------------------+-------------+\n",
      "====================\n",
      "+------+--------+--------+--------------------+-------------+----------------+\n",
      "| mode | #epoch |  loss  | hamming_loss_macro | auroc_macro | early_stopping |\n",
      "+------+--------+--------+--------------------+-------------+----------------+\n",
      "| val  |   0    | 0.6328 |       0.2297       |    0.5468   |      0/10      |\n",
      "+------+--------+--------+--------------------+-------------+----------------+\n",
      "====================\n",
      "+------+--------+------+--------------------+-------------+\n",
      "| mode | #epoch | loss | hamming_loss_macro | auroc_macro |\n",
      "+------+--------+------+--------------------+-------------+\n",
      "| test |   0    |  -   |       0.2311       |    0.5493   |\n",
      "+------+--------+------+--------------------+-------------+\n",
      "Saving the best model... Done\n",
      "---- Finished evaluating configuration with score: 0.6327891945838928\n",
      "---- Evaluating configuration... \n",
      "Selected device: cuda:1\n",
      "Starting training...\n"
     ]
    },
    {
     "data": {
      "text/html": [
       "wandb version 0.12.18 is available!  To upgrade, please run:\n",
       " $ pip install wandb --upgrade"
      ],
      "text/plain": [
       "<IPython.core.display.HTML object>"
      ]
     },
     "metadata": {},
     "output_type": "display_data"
    },
    {
     "data": {
      "text/html": [
       "Tracking run with wandb version 0.12.17"
      ],
      "text/plain": [
       "<IPython.core.display.HTML object>"
      ]
     },
     "metadata": {},
     "output_type": "display_data"
    },
    {
     "data": {
      "text/html": [
       "Run data is saved locally in <code>/data/dimitriosi_datasets/DeepMTP/wandb/run-20220618_214505-1w0t5rg8</code>"
      ],
      "text/plain": [
       "<IPython.core.display.HTML object>"
      ]
     },
     "metadata": {},
     "output_type": "display_data"
    },
    {
     "data": {
      "text/html": [
       "Syncing run <strong><a href=\"https://wandb.ai/diliadis/DeepMTP_v2/runs/1w0t5rg8\" target=\"_blank\">leafy-vortex-335</a></strong> to <a href=\"https://wandb.ai/diliadis/DeepMTP_v2\" target=\"_blank\">Weights & Biases</a> (<a href=\"https://wandb.me/run\" target=\"_blank\">docs</a>)<br/>"
      ],
      "text/plain": [
       "<IPython.core.display.HTML object>"
      ]
     },
     "metadata": {},
     "output_type": "display_data"
    },
    {
     "name": "stdout",
     "output_type": "stream",
     "text": [
      "Epoch:0... Done\n",
      "  Validating... Calculating val performance... Done\n",
      "Done\n",
      "Starting testing... Calculating test performance... Done\n",
      "Done\n"
     ]
    },
    {
     "data": {
      "text/html": [
       "Waiting for W&B process to finish... <strong style=\"color:green\">(success).</strong>"
      ],
      "text/plain": [
       "<IPython.core.display.HTML object>"
      ]
     },
     "metadata": {},
     "output_type": "display_data"
    },
    {
     "data": {
      "application/vnd.jupyter.widget-view+json": {
       "model_id": "9ba530a08be94d289cca4605f714c678",
       "version_major": 2,
       "version_minor": 0
      },
      "text/plain": [
       "VBox(children=(Label(value='0.001 MB of 0.001 MB uploaded (0.000 MB deduped)\\r'), FloatProgress(value=1.0, max…"
      ]
     },
     "metadata": {},
     "output_type": "display_data"
    },
    {
     "data": {
      "text/html": [
       "<style>\n",
       "    table.wandb td:nth-child(1) { padding: 0 10px; text-align: left ; width: auto;} td:nth-child(2) {text-align: left ; width: 100%}\n",
       "    .wandb-row { display: flex; flex-direction: row; flex-wrap: wrap; justify-content: flex-start; width: 100% }\n",
       "    .wandb-col { display: flex; flex-direction: column; flex-basis: 100%; flex: 1; padding: 10px; }\n",
       "    </style>\n",
       "<div class=\"wandb-row\"><div class=\"wandb-col\"><h3>Run history:</h3><br/><table class=\"wandb\"><tr><td>test_auroc_macro</td><td>▁</td></tr><tr><td>test_hamming_loss_macro</td><td>▁</td></tr><tr><td>train_auroc_macro</td><td>▁</td></tr><tr><td>train_hamming_loss_macro</td><td>▁</td></tr><tr><td>train_loss</td><td>▁</td></tr><tr><td>val_auroc_macro</td><td>▁</td></tr><tr><td>val_hamming_loss_macro</td><td>▁</td></tr><tr><td>val_loss</td><td>▁</td></tr></table><br/></div><div class=\"wandb-col\"><h3>Run summary:</h3><br/><table class=\"wandb\"><tr><td>test_auroc_macro</td><td>0.51235</td></tr><tr><td>test_hamming_loss_macro</td><td>0.69599</td></tr><tr><td>train_auroc_macro</td><td>0.49919</td></tr><tr><td>train_hamming_loss_macro</td><td>0.69716</td></tr><tr><td>train_loss</td><td>3.08935</td></tr><tr><td>val_auroc_macro</td><td>0.52203</td></tr><tr><td>val_hamming_loss_macro</td><td>0.7025</td></tr><tr><td>val_loss</td><td>2.87519</td></tr></table><br/></div></div>"
      ],
      "text/plain": [
       "<IPython.core.display.HTML object>"
      ]
     },
     "metadata": {},
     "output_type": "display_data"
    },
    {
     "data": {
      "text/html": [
       "Synced <strong style=\"color:#cdcd00\">leafy-vortex-335</strong>: <a href=\"https://wandb.ai/diliadis/DeepMTP_v2/runs/1w0t5rg8\" target=\"_blank\">https://wandb.ai/diliadis/DeepMTP_v2/runs/1w0t5rg8</a><br/>Synced 6 W&B file(s), 0 media file(s), 0 artifact file(s) and 0 other file(s)"
      ],
      "text/plain": [
       "<IPython.core.display.HTML object>"
      ]
     },
     "metadata": {},
     "output_type": "display_data"
    },
    {
     "data": {
      "text/html": [
       "Find logs at: <code>./wandb/run-20220618_214505-1w0t5rg8/logs</code>"
      ],
      "text/plain": [
       "<IPython.core.display.HTML object>"
      ]
     },
     "metadata": {},
     "output_type": "display_data"
    },
    {
     "name": "stdout",
     "output_type": "stream",
     "text": [
      "+-------+--------+--------+--------------------+-------------+\n",
      "|  mode | #epoch |  loss  | hamming_loss_macro | auroc_macro |\n",
      "+-------+--------+--------+--------------------+-------------+\n",
      "| train |   0    | 3.0893 |       0.6972       |    0.4992   |\n",
      "+-------+--------+--------+--------------------+-------------+\n",
      "====================\n",
      "+------+--------+--------+--------------------+-------------+----------------+\n",
      "| mode | #epoch |  loss  | hamming_loss_macro | auroc_macro | early_stopping |\n",
      "+------+--------+--------+--------------------+-------------+----------------+\n",
      "| val  |   0    | 2.8752 |       0.7025       |    0.522    |      0/10      |\n",
      "+------+--------+--------+--------------------+-------------+----------------+\n",
      "====================\n",
      "+------+--------+------+--------------------+-------------+\n",
      "| mode | #epoch | loss | hamming_loss_macro | auroc_macro |\n",
      "+------+--------+------+--------------------+-------------+\n",
      "| test |   0    |  -   |       0.696        |    0.5124   |\n",
      "+------+--------+------+--------------------+-------------+\n",
      "Saving the best model... Done\n",
      "---- Finished evaluating configuration with score: 2.875187039375305\n",
      "---- Evaluating configuration... \n",
      "Selected device: cuda:1\n",
      "Starting training...\n"
     ]
    },
    {
     "data": {
      "text/html": [
       "wandb version 0.12.18 is available!  To upgrade, please run:\n",
       " $ pip install wandb --upgrade"
      ],
      "text/plain": [
       "<IPython.core.display.HTML object>"
      ]
     },
     "metadata": {},
     "output_type": "display_data"
    },
    {
     "data": {
      "text/html": [
       "Tracking run with wandb version 0.12.17"
      ],
      "text/plain": [
       "<IPython.core.display.HTML object>"
      ]
     },
     "metadata": {},
     "output_type": "display_data"
    },
    {
     "data": {
      "text/html": [
       "Run data is saved locally in <code>/data/dimitriosi_datasets/DeepMTP/wandb/run-20220618_214523-j9vyuytb</code>"
      ],
      "text/plain": [
       "<IPython.core.display.HTML object>"
      ]
     },
     "metadata": {},
     "output_type": "display_data"
    },
    {
     "data": {
      "text/html": [
       "Syncing run <strong><a href=\"https://wandb.ai/diliadis/DeepMTP_v2/runs/j9vyuytb\" target=\"_blank\">laced-eon-336</a></strong> to <a href=\"https://wandb.ai/diliadis/DeepMTP_v2\" target=\"_blank\">Weights & Biases</a> (<a href=\"https://wandb.me/run\" target=\"_blank\">docs</a>)<br/>"
      ],
      "text/plain": [
       "<IPython.core.display.HTML object>"
      ]
     },
     "metadata": {},
     "output_type": "display_data"
    },
    {
     "name": "stdout",
     "output_type": "stream",
     "text": [
      "Epoch:0... Done\n",
      "  Validating... Calculating val performance... Done\n",
      "Done\n",
      "Starting testing... Calculating test performance... Done\n",
      "Done\n"
     ]
    },
    {
     "data": {
      "text/html": [
       "Waiting for W&B process to finish... <strong style=\"color:green\">(success).</strong>"
      ],
      "text/plain": [
       "<IPython.core.display.HTML object>"
      ]
     },
     "metadata": {},
     "output_type": "display_data"
    },
    {
     "data": {
      "application/vnd.jupyter.widget-view+json": {
       "model_id": "1e5546917982497c93c18887d5ca288e",
       "version_major": 2,
       "version_minor": 0
      },
      "text/plain": [
       "VBox(children=(Label(value='0.001 MB of 0.001 MB uploaded (0.000 MB deduped)\\r'), FloatProgress(value=1.0, max…"
      ]
     },
     "metadata": {},
     "output_type": "display_data"
    },
    {
     "data": {
      "text/html": [
       "<style>\n",
       "    table.wandb td:nth-child(1) { padding: 0 10px; text-align: left ; width: auto;} td:nth-child(2) {text-align: left ; width: 100%}\n",
       "    .wandb-row { display: flex; flex-direction: row; flex-wrap: wrap; justify-content: flex-start; width: 100% }\n",
       "    .wandb-col { display: flex; flex-direction: column; flex-basis: 100%; flex: 1; padding: 10px; }\n",
       "    </style>\n",
       "<div class=\"wandb-row\"><div class=\"wandb-col\"><h3>Run history:</h3><br/><table class=\"wandb\"><tr><td>test_auroc_macro</td><td>▁</td></tr><tr><td>test_hamming_loss_macro</td><td>▁</td></tr><tr><td>train_auroc_macro</td><td>▁</td></tr><tr><td>train_hamming_loss_macro</td><td>▁</td></tr><tr><td>train_loss</td><td>▁</td></tr><tr><td>val_auroc_macro</td><td>▁</td></tr><tr><td>val_hamming_loss_macro</td><td>▁</td></tr><tr><td>val_loss</td><td>▁</td></tr></table><br/></div><div class=\"wandb-col\"><h3>Run summary:</h3><br/><table class=\"wandb\"><tr><td>test_auroc_macro</td><td>0.50967</td></tr><tr><td>test_hamming_loss_macro</td><td>0.69599</td></tr><tr><td>train_auroc_macro</td><td>0.50078</td></tr><tr><td>train_hamming_loss_macro</td><td>0.69716</td></tr><tr><td>train_loss</td><td>1.13739</td></tr><tr><td>val_auroc_macro</td><td>0.49801</td></tr><tr><td>val_hamming_loss_macro</td><td>0.7025</td></tr><tr><td>val_loss</td><td>1.04029</td></tr></table><br/></div></div>"
      ],
      "text/plain": [
       "<IPython.core.display.HTML object>"
      ]
     },
     "metadata": {},
     "output_type": "display_data"
    },
    {
     "data": {
      "text/html": [
       "Synced <strong style=\"color:#cdcd00\">laced-eon-336</strong>: <a href=\"https://wandb.ai/diliadis/DeepMTP_v2/runs/j9vyuytb\" target=\"_blank\">https://wandb.ai/diliadis/DeepMTP_v2/runs/j9vyuytb</a><br/>Synced 6 W&B file(s), 0 media file(s), 0 artifact file(s) and 0 other file(s)"
      ],
      "text/plain": [
       "<IPython.core.display.HTML object>"
      ]
     },
     "metadata": {},
     "output_type": "display_data"
    },
    {
     "data": {
      "text/html": [
       "Find logs at: <code>./wandb/run-20220618_214523-j9vyuytb/logs</code>"
      ],
      "text/plain": [
       "<IPython.core.display.HTML object>"
      ]
     },
     "metadata": {},
     "output_type": "display_data"
    },
    {
     "name": "stdout",
     "output_type": "stream",
     "text": [
      "+-------+--------+--------+--------------------+-------------+\n",
      "|  mode | #epoch |  loss  | hamming_loss_macro | auroc_macro |\n",
      "+-------+--------+--------+--------------------+-------------+\n",
      "| train |   0    | 1.1374 |       0.6972       |    0.5008   |\n",
      "+-------+--------+--------+--------------------+-------------+\n",
      "====================\n",
      "+------+--------+--------+--------------------+-------------+----------------+\n",
      "| mode | #epoch |  loss  | hamming_loss_macro | auroc_macro | early_stopping |\n",
      "+------+--------+--------+--------------------+-------------+----------------+\n",
      "| val  |   0    | 1.0403 |       0.7025       |    0.498    |      0/10      |\n",
      "+------+--------+--------+--------------------+-------------+----------------+\n",
      "====================\n",
      "+------+--------+------+--------------------+-------------+\n",
      "| mode | #epoch | loss | hamming_loss_macro | auroc_macro |\n",
      "+------+--------+------+--------------------+-------------+\n",
      "| test |   0    |  -   |       0.696        |    0.5097   |\n",
      "+------+--------+------+--------------------+-------------+\n",
      "Saving the best model... Done\n",
      "---- Finished evaluating configuration with score: 1.0402878920237224\n",
      "---- Evaluating configuration... \n",
      "Selected device: cuda:1\n",
      "Starting training...\n"
     ]
    },
    {
     "data": {
      "text/html": [
       "wandb version 0.12.18 is available!  To upgrade, please run:\n",
       " $ pip install wandb --upgrade"
      ],
      "text/plain": [
       "<IPython.core.display.HTML object>"
      ]
     },
     "metadata": {},
     "output_type": "display_data"
    },
    {
     "data": {
      "text/html": [
       "Tracking run with wandb version 0.12.17"
      ],
      "text/plain": [
       "<IPython.core.display.HTML object>"
      ]
     },
     "metadata": {},
     "output_type": "display_data"
    },
    {
     "data": {
      "text/html": [
       "Run data is saved locally in <code>/data/dimitriosi_datasets/DeepMTP/wandb/run-20220618_214543-2b3jhu11</code>"
      ],
      "text/plain": [
       "<IPython.core.display.HTML object>"
      ]
     },
     "metadata": {},
     "output_type": "display_data"
    },
    {
     "data": {
      "text/html": [
       "Syncing run <strong><a href=\"https://wandb.ai/diliadis/DeepMTP_v2/runs/2b3jhu11\" target=\"_blank\">astral-sound-337</a></strong> to <a href=\"https://wandb.ai/diliadis/DeepMTP_v2\" target=\"_blank\">Weights & Biases</a> (<a href=\"https://wandb.me/run\" target=\"_blank\">docs</a>)<br/>"
      ],
      "text/plain": [
       "<IPython.core.display.HTML object>"
      ]
     },
     "metadata": {},
     "output_type": "display_data"
    },
    {
     "name": "stdout",
     "output_type": "stream",
     "text": [
      "Epoch:0... Done\n",
      "  Validating... Calculating val performance... Done\n",
      "Done\n",
      "Starting testing... Calculating test performance... Done\n",
      "Done\n"
     ]
    },
    {
     "data": {
      "text/html": [
       "Waiting for W&B process to finish... <strong style=\"color:green\">(success).</strong>"
      ],
      "text/plain": [
       "<IPython.core.display.HTML object>"
      ]
     },
     "metadata": {},
     "output_type": "display_data"
    },
    {
     "data": {
      "application/vnd.jupyter.widget-view+json": {
       "model_id": "45ac28b5ec3d4a9c90fbd65752fbdd8f",
       "version_major": 2,
       "version_minor": 0
      },
      "text/plain": [
       "VBox(children=(Label(value='0.001 MB of 0.001 MB uploaded (0.000 MB deduped)\\r'), FloatProgress(value=1.0, max…"
      ]
     },
     "metadata": {},
     "output_type": "display_data"
    },
    {
     "data": {
      "text/html": [
       "<style>\n",
       "    table.wandb td:nth-child(1) { padding: 0 10px; text-align: left ; width: auto;} td:nth-child(2) {text-align: left ; width: 100%}\n",
       "    .wandb-row { display: flex; flex-direction: row; flex-wrap: wrap; justify-content: flex-start; width: 100% }\n",
       "    .wandb-col { display: flex; flex-direction: column; flex-basis: 100%; flex: 1; padding: 10px; }\n",
       "    </style>\n",
       "<div class=\"wandb-row\"><div class=\"wandb-col\"><h3>Run history:</h3><br/><table class=\"wandb\"><tr><td>test_auroc_macro</td><td>▁</td></tr><tr><td>test_hamming_loss_macro</td><td>▁</td></tr><tr><td>train_auroc_macro</td><td>▁</td></tr><tr><td>train_hamming_loss_macro</td><td>▁</td></tr><tr><td>train_loss</td><td>▁</td></tr><tr><td>val_auroc_macro</td><td>▁</td></tr><tr><td>val_hamming_loss_macro</td><td>▁</td></tr><tr><td>val_loss</td><td>▁</td></tr></table><br/></div><div class=\"wandb-col\"><h3>Run summary:</h3><br/><table class=\"wandb\"><tr><td>test_auroc_macro</td><td>0.5088</td></tr><tr><td>test_hamming_loss_macro</td><td>0.69599</td></tr><tr><td>train_auroc_macro</td><td>0.50602</td></tr><tr><td>train_hamming_loss_macro</td><td>0.69716</td></tr><tr><td>train_loss</td><td>41.80516</td></tr><tr><td>val_auroc_macro</td><td>0.48087</td></tr><tr><td>val_hamming_loss_macro</td><td>0.7025</td></tr><tr><td>val_loss</td><td>1.96484</td></tr></table><br/></div></div>"
      ],
      "text/plain": [
       "<IPython.core.display.HTML object>"
      ]
     },
     "metadata": {},
     "output_type": "display_data"
    },
    {
     "data": {
      "text/html": [
       "Synced <strong style=\"color:#cdcd00\">astral-sound-337</strong>: <a href=\"https://wandb.ai/diliadis/DeepMTP_v2/runs/2b3jhu11\" target=\"_blank\">https://wandb.ai/diliadis/DeepMTP_v2/runs/2b3jhu11</a><br/>Synced 6 W&B file(s), 0 media file(s), 0 artifact file(s) and 0 other file(s)"
      ],
      "text/plain": [
       "<IPython.core.display.HTML object>"
      ]
     },
     "metadata": {},
     "output_type": "display_data"
    },
    {
     "data": {
      "text/html": [
       "Find logs at: <code>./wandb/run-20220618_214543-2b3jhu11/logs</code>"
      ],
      "text/plain": [
       "<IPython.core.display.HTML object>"
      ]
     },
     "metadata": {},
     "output_type": "display_data"
    },
    {
     "name": "stdout",
     "output_type": "stream",
     "text": [
      "+-------+--------+---------+--------------------+-------------+\n",
      "|  mode | #epoch |   loss  | hamming_loss_macro | auroc_macro |\n",
      "+-------+--------+---------+--------------------+-------------+\n",
      "| train |   0    | 41.8052 |       0.6972       |    0.506    |\n",
      "+-------+--------+---------+--------------------+-------------+\n",
      "====================\n",
      "+------+--------+--------+--------------------+-------------+----------------+\n",
      "| mode | #epoch |  loss  | hamming_loss_macro | auroc_macro | early_stopping |\n",
      "+------+--------+--------+--------------------+-------------+----------------+\n",
      "| val  |   0    | 1.9648 |       0.7025       |    0.4809   |      0/10      |\n",
      "+------+--------+--------+--------------------+-------------+----------------+\n",
      "====================\n",
      "+------+--------+------+--------------------+-------------+\n",
      "| mode | #epoch | loss | hamming_loss_macro | auroc_macro |\n",
      "+------+--------+------+--------------------+-------------+\n",
      "| test |   0    |  -   |       0.696        |    0.5088   |\n",
      "+------+--------+------+--------------------+-------------+\n",
      "Saving the best model... Done\n",
      "---- Finished evaluating configuration with score: 1.9648377895355225\n",
      "---- Evaluating configuration... \n",
      "Selected device: cuda:1\n",
      "Starting training...\n"
     ]
    },
    {
     "data": {
      "text/html": [
       "wandb version 0.12.18 is available!  To upgrade, please run:\n",
       " $ pip install wandb --upgrade"
      ],
      "text/plain": [
       "<IPython.core.display.HTML object>"
      ]
     },
     "metadata": {},
     "output_type": "display_data"
    },
    {
     "data": {
      "text/html": [
       "Tracking run with wandb version 0.12.17"
      ],
      "text/plain": [
       "<IPython.core.display.HTML object>"
      ]
     },
     "metadata": {},
     "output_type": "display_data"
    },
    {
     "data": {
      "text/html": [
       "Run data is saved locally in <code>/data/dimitriosi_datasets/DeepMTP/wandb/run-20220618_214559-23t2qk1e</code>"
      ],
      "text/plain": [
       "<IPython.core.display.HTML object>"
      ]
     },
     "metadata": {},
     "output_type": "display_data"
    },
    {
     "data": {
      "text/html": [
       "Syncing run <strong><a href=\"https://wandb.ai/diliadis/DeepMTP_v2/runs/23t2qk1e\" target=\"_blank\">fragrant-grass-338</a></strong> to <a href=\"https://wandb.ai/diliadis/DeepMTP_v2\" target=\"_blank\">Weights & Biases</a> (<a href=\"https://wandb.me/run\" target=\"_blank\">docs</a>)<br/>"
      ],
      "text/plain": [
       "<IPython.core.display.HTML object>"
      ]
     },
     "metadata": {},
     "output_type": "display_data"
    },
    {
     "name": "stdout",
     "output_type": "stream",
     "text": [
      "Epoch:0... Done\n",
      "  Validating... Calculating val performance... Done\n",
      "Done\n",
      "Starting testing... Calculating test performance... Done\n",
      "Done\n"
     ]
    },
    {
     "data": {
      "text/html": [
       "Waiting for W&B process to finish... <strong style=\"color:green\">(success).</strong>"
      ],
      "text/plain": [
       "<IPython.core.display.HTML object>"
      ]
     },
     "metadata": {},
     "output_type": "display_data"
    },
    {
     "data": {
      "application/vnd.jupyter.widget-view+json": {
       "model_id": "a7e244fb189c438d9d47bf606c364874",
       "version_major": 2,
       "version_minor": 0
      },
      "text/plain": [
       "VBox(children=(Label(value='0.001 MB of 0.001 MB uploaded (0.000 MB deduped)\\r'), FloatProgress(value=1.0, max…"
      ]
     },
     "metadata": {},
     "output_type": "display_data"
    },
    {
     "data": {
      "text/html": [
       "<style>\n",
       "    table.wandb td:nth-child(1) { padding: 0 10px; text-align: left ; width: auto;} td:nth-child(2) {text-align: left ; width: 100%}\n",
       "    .wandb-row { display: flex; flex-direction: row; flex-wrap: wrap; justify-content: flex-start; width: 100% }\n",
       "    .wandb-col { display: flex; flex-direction: column; flex-basis: 100%; flex: 1; padding: 10px; }\n",
       "    </style>\n",
       "<div class=\"wandb-row\"><div class=\"wandb-col\"><h3>Run history:</h3><br/><table class=\"wandb\"><tr><td>test_auroc_macro</td><td>▁</td></tr><tr><td>test_hamming_loss_macro</td><td>▁</td></tr><tr><td>train_auroc_macro</td><td>▁</td></tr><tr><td>train_hamming_loss_macro</td><td>▁</td></tr><tr><td>train_loss</td><td>▁</td></tr><tr><td>val_auroc_macro</td><td>▁</td></tr><tr><td>val_hamming_loss_macro</td><td>▁</td></tr><tr><td>val_loss</td><td>▁</td></tr></table><br/></div><div class=\"wandb-col\"><h3>Run summary:</h3><br/><table class=\"wandb\"><tr><td>test_auroc_macro</td><td>0.50662</td></tr><tr><td>test_hamming_loss_macro</td><td>0.69599</td></tr><tr><td>train_auroc_macro</td><td>0.49955</td></tr><tr><td>train_hamming_loss_macro</td><td>0.69712</td></tr><tr><td>train_loss</td><td>0.89218</td></tr><tr><td>val_auroc_macro</td><td>0.5118</td></tr><tr><td>val_hamming_loss_macro</td><td>0.7025</td></tr><tr><td>val_loss</td><td>0.86164</td></tr></table><br/></div></div>"
      ],
      "text/plain": [
       "<IPython.core.display.HTML object>"
      ]
     },
     "metadata": {},
     "output_type": "display_data"
    },
    {
     "data": {
      "text/html": [
       "Synced <strong style=\"color:#cdcd00\">fragrant-grass-338</strong>: <a href=\"https://wandb.ai/diliadis/DeepMTP_v2/runs/23t2qk1e\" target=\"_blank\">https://wandb.ai/diliadis/DeepMTP_v2/runs/23t2qk1e</a><br/>Synced 6 W&B file(s), 0 media file(s), 0 artifact file(s) and 0 other file(s)"
      ],
      "text/plain": [
       "<IPython.core.display.HTML object>"
      ]
     },
     "metadata": {},
     "output_type": "display_data"
    },
    {
     "data": {
      "text/html": [
       "Find logs at: <code>./wandb/run-20220618_214559-23t2qk1e/logs</code>"
      ],
      "text/plain": [
       "<IPython.core.display.HTML object>"
      ]
     },
     "metadata": {},
     "output_type": "display_data"
    },
    {
     "name": "stdout",
     "output_type": "stream",
     "text": [
      "+-------+--------+--------+--------------------+-------------+\n",
      "|  mode | #epoch |  loss  | hamming_loss_macro | auroc_macro |\n",
      "+-------+--------+--------+--------------------+-------------+\n",
      "| train |   0    | 0.8922 |       0.6971       |    0.4996   |\n",
      "+-------+--------+--------+--------------------+-------------+\n",
      "====================\n",
      "+------+--------+--------+--------------------+-------------+----------------+\n",
      "| mode | #epoch |  loss  | hamming_loss_macro | auroc_macro | early_stopping |\n",
      "+------+--------+--------+--------------------+-------------+----------------+\n",
      "| val  |   0    | 0.8616 |       0.7025       |    0.5118   |      0/10      |\n",
      "+------+--------+--------+--------------------+-------------+----------------+\n",
      "====================\n",
      "+------+--------+------+--------------------+-------------+\n",
      "| mode | #epoch | loss | hamming_loss_macro | auroc_macro |\n",
      "+------+--------+------+--------------------+-------------+\n",
      "| test |   0    |  -   |       0.696        |    0.5066   |\n",
      "+------+--------+------+--------------------+-------------+\n",
      "Saving the best model... Done\n",
      "---- Finished evaluating configuration with score: 0.861636201540629\n",
      "---- Evaluating configuration... \n",
      "Loading checkpoint from ./hyperband/18_06_2022__21_43_27/18_06_2022__21_44_29/model.pt...  \n",
      "Done\n",
      "Selected device: cuda:1\n",
      "Applying saved weights... Done\n",
      "Starting training...\n"
     ]
    },
    {
     "data": {
      "text/html": [
       "wandb version 0.12.18 is available!  To upgrade, please run:\n",
       " $ pip install wandb --upgrade"
      ],
      "text/plain": [
       "<IPython.core.display.HTML object>"
      ]
     },
     "metadata": {},
     "output_type": "display_data"
    },
    {
     "data": {
      "text/html": [
       "Tracking run with wandb version 0.12.17"
      ],
      "text/plain": [
       "<IPython.core.display.HTML object>"
      ]
     },
     "metadata": {},
     "output_type": "display_data"
    },
    {
     "data": {
      "text/html": [
       "Run data is saved locally in <code>/data/dimitriosi_datasets/DeepMTP/wandb/run-20220618_214618-302qfnri</code>"
      ],
      "text/plain": [
       "<IPython.core.display.HTML object>"
      ]
     },
     "metadata": {},
     "output_type": "display_data"
    },
    {
     "data": {
      "text/html": [
       "Syncing run <strong><a href=\"https://wandb.ai/diliadis/DeepMTP_v2/runs/302qfnri\" target=\"_blank\">bumbling-field-339</a></strong> to <a href=\"https://wandb.ai/diliadis/DeepMTP_v2\" target=\"_blank\">Weights & Biases</a> (<a href=\"https://wandb.me/run\" target=\"_blank\">docs</a>)<br/>"
      ],
      "text/plain": [
       "<IPython.core.display.HTML object>"
      ]
     },
     "metadata": {},
     "output_type": "display_data"
    },
    {
     "name": "stdout",
     "output_type": "stream",
     "text": [
      "Epoch:0... Done\n",
      "  Validating... Calculating val performance... Done\n",
      "Done\n",
      "Epoch:1... Done\n",
      "  Validating... Calculating val performance... Done\n",
      "Done\n",
      "Starting testing... Calculating test performance... Done\n",
      "Done\n"
     ]
    },
    {
     "data": {
      "text/html": [
       "Waiting for W&B process to finish... <strong style=\"color:green\">(success).</strong>"
      ],
      "text/plain": [
       "<IPython.core.display.HTML object>"
      ]
     },
     "metadata": {},
     "output_type": "display_data"
    },
    {
     "data": {
      "application/vnd.jupyter.widget-view+json": {
       "model_id": "1c7ab4d573fb48b5925927d558c7e891",
       "version_major": 2,
       "version_minor": 0
      },
      "text/plain": [
       "VBox(children=(Label(value='0.001 MB of 0.001 MB uploaded (0.000 MB deduped)\\r'), FloatProgress(value=1.0, max…"
      ]
     },
     "metadata": {},
     "output_type": "display_data"
    },
    {
     "data": {
      "text/html": [
       "<style>\n",
       "    table.wandb td:nth-child(1) { padding: 0 10px; text-align: left ; width: auto;} td:nth-child(2) {text-align: left ; width: 100%}\n",
       "    .wandb-row { display: flex; flex-direction: row; flex-wrap: wrap; justify-content: flex-start; width: 100% }\n",
       "    .wandb-col { display: flex; flex-direction: column; flex-basis: 100%; flex: 1; padding: 10px; }\n",
       "    </style>\n",
       "<div class=\"wandb-row\"><div class=\"wandb-col\"><h3>Run history:</h3><br/><table class=\"wandb\"><tr><td>test_auroc_macro</td><td>▁</td></tr><tr><td>test_hamming_loss_macro</td><td>▁</td></tr><tr><td>train_auroc_macro</td><td>▁█</td></tr><tr><td>train_hamming_loss_macro</td><td>▁█</td></tr><tr><td>train_loss</td><td>█▁</td></tr><tr><td>val_auroc_macro</td><td>▁█</td></tr><tr><td>val_hamming_loss_macro</td><td>▁▁</td></tr><tr><td>val_loss</td><td>█▁</td></tr></table><br/></div><div class=\"wandb-col\"><h3>Run summary:</h3><br/><table class=\"wandb\"><tr><td>test_auroc_macro</td><td>0.58481</td></tr><tr><td>test_hamming_loss_macro</td><td>0.23111</td></tr><tr><td>train_auroc_macro</td><td>0.55824</td></tr><tr><td>train_hamming_loss_macro</td><td>0.23363</td></tr><tr><td>train_loss</td><td>0.49276</td></tr><tr><td>val_auroc_macro</td><td>0.57825</td></tr><tr><td>val_hamming_loss_macro</td><td>0.22975</td></tr><tr><td>val_loss</td><td>0.49492</td></tr></table><br/></div></div>"
      ],
      "text/plain": [
       "<IPython.core.display.HTML object>"
      ]
     },
     "metadata": {},
     "output_type": "display_data"
    },
    {
     "data": {
      "text/html": [
       "Synced <strong style=\"color:#cdcd00\">bumbling-field-339</strong>: <a href=\"https://wandb.ai/diliadis/DeepMTP_v2/runs/302qfnri\" target=\"_blank\">https://wandb.ai/diliadis/DeepMTP_v2/runs/302qfnri</a><br/>Synced 6 W&B file(s), 0 media file(s), 0 artifact file(s) and 0 other file(s)"
      ],
      "text/plain": [
       "<IPython.core.display.HTML object>"
      ]
     },
     "metadata": {},
     "output_type": "display_data"
    },
    {
     "data": {
      "text/html": [
       "Find logs at: <code>./wandb/run-20220618_214618-302qfnri/logs</code>"
      ],
      "text/plain": [
       "<IPython.core.display.HTML object>"
      ]
     },
     "metadata": {},
     "output_type": "display_data"
    },
    {
     "name": "stdout",
     "output_type": "stream",
     "text": [
      "+-------+--------+--------+--------------------+-------------+\n",
      "|  mode | #epoch |  loss  | hamming_loss_macro | auroc_macro |\n",
      "+-------+--------+--------+--------------------+-------------+\n",
      "| train |   0    | 0.5042 |       0.2332       |    0.5192   |\n",
      "| train |   1    | 0.4928 |       0.2336       |    0.5582   |\n",
      "+-------+--------+--------+--------------------+-------------+\n",
      "====================\n",
      "+------+--------+--------+--------------------+-------------+----------------+\n",
      "| mode | #epoch |  loss  | hamming_loss_macro | auroc_macro | early_stopping |\n",
      "+------+--------+--------+--------------------+-------------+----------------+\n",
      "| val  |   0    | 0.4985 |       0.2297       |    0.5537   |      0/10      |\n",
      "| val  |   1    | 0.4949 |       0.2297       |    0.5783   |      0/10      |\n",
      "+------+--------+--------+--------------------+-------------+----------------+\n",
      "====================\n",
      "+------+--------+------+--------------------+-------------+\n",
      "| mode | #epoch | loss | hamming_loss_macro | auroc_macro |\n",
      "+------+--------+------+--------------------+-------------+\n",
      "| test |   1    |  -   |       0.2311       |    0.5848   |\n",
      "+------+--------+------+--------------------+-------------+\n",
      "Saving the best model... Done\n",
      "---- Finished evaluating configuration with score: 0.4949151774247487\n",
      "---- Evaluating configuration... \n",
      "Loading checkpoint from ./hyperband/18_06_2022__21_43_27/18_06_2022__21_44_48/model.pt...  \n",
      "Done\n",
      "Selected device: cuda:1\n",
      "Applying saved weights... Done\n",
      "Starting training...\n"
     ]
    },
    {
     "data": {
      "text/html": [
       "wandb version 0.12.18 is available!  To upgrade, please run:\n",
       " $ pip install wandb --upgrade"
      ],
      "text/plain": [
       "<IPython.core.display.HTML object>"
      ]
     },
     "metadata": {},
     "output_type": "display_data"
    },
    {
     "data": {
      "text/html": [
       "Tracking run with wandb version 0.12.17"
      ],
      "text/plain": [
       "<IPython.core.display.HTML object>"
      ]
     },
     "metadata": {},
     "output_type": "display_data"
    },
    {
     "data": {
      "text/html": [
       "Run data is saved locally in <code>/data/dimitriosi_datasets/DeepMTP/wandb/run-20220618_214640-1cbxr7hj</code>"
      ],
      "text/plain": [
       "<IPython.core.display.HTML object>"
      ]
     },
     "metadata": {},
     "output_type": "display_data"
    },
    {
     "data": {
      "text/html": [
       "Syncing run <strong><a href=\"https://wandb.ai/diliadis/DeepMTP_v2/runs/1cbxr7hj\" target=\"_blank\">legendary-aardvark-340</a></strong> to <a href=\"https://wandb.ai/diliadis/DeepMTP_v2\" target=\"_blank\">Weights & Biases</a> (<a href=\"https://wandb.me/run\" target=\"_blank\">docs</a>)<br/>"
      ],
      "text/plain": [
       "<IPython.core.display.HTML object>"
      ]
     },
     "metadata": {},
     "output_type": "display_data"
    },
    {
     "name": "stdout",
     "output_type": "stream",
     "text": [
      "Epoch:0... Done\n",
      "  Validating... Calculating val performance... Done\n",
      "Done\n",
      "Epoch:1... Done\n",
      "  Validating... Calculating val performance... Done\n",
      "Done\n",
      "Starting testing... Calculating test performance... Done\n",
      "Done\n"
     ]
    },
    {
     "data": {
      "text/html": [
       "Waiting for W&B process to finish... <strong style=\"color:green\">(success).</strong>"
      ],
      "text/plain": [
       "<IPython.core.display.HTML object>"
      ]
     },
     "metadata": {},
     "output_type": "display_data"
    },
    {
     "data": {
      "application/vnd.jupyter.widget-view+json": {
       "model_id": "434d8361420b44b6a4d9282f6e11a7d5",
       "version_major": 2,
       "version_minor": 0
      },
      "text/plain": [
       "VBox(children=(Label(value='0.001 MB of 0.001 MB uploaded (0.000 MB deduped)\\r'), FloatProgress(value=1.0, max…"
      ]
     },
     "metadata": {},
     "output_type": "display_data"
    },
    {
     "data": {
      "text/html": [
       "<style>\n",
       "    table.wandb td:nth-child(1) { padding: 0 10px; text-align: left ; width: auto;} td:nth-child(2) {text-align: left ; width: 100%}\n",
       "    .wandb-row { display: flex; flex-direction: row; flex-wrap: wrap; justify-content: flex-start; width: 100% }\n",
       "    .wandb-col { display: flex; flex-direction: column; flex-basis: 100%; flex: 1; padding: 10px; }\n",
       "    </style>\n",
       "<div class=\"wandb-row\"><div class=\"wandb-col\"><h3>Run history:</h3><br/><table class=\"wandb\"><tr><td>test_auroc_macro</td><td>▁</td></tr><tr><td>test_hamming_loss_macro</td><td>▁</td></tr><tr><td>train_auroc_macro</td><td>▁█</td></tr><tr><td>train_hamming_loss_macro</td><td>▁█</td></tr><tr><td>train_loss</td><td>█▁</td></tr><tr><td>val_auroc_macro</td><td>▁█</td></tr><tr><td>val_hamming_loss_macro</td><td>▁▁</td></tr><tr><td>val_loss</td><td>█▁</td></tr></table><br/></div><div class=\"wandb-col\"><h3>Run summary:</h3><br/><table class=\"wandb\"><tr><td>test_auroc_macro</td><td>0.58468</td></tr><tr><td>test_hamming_loss_macro</td><td>0.23111</td></tr><tr><td>train_auroc_macro</td><td>0.56995</td></tr><tr><td>train_hamming_loss_macro</td><td>0.2324</td></tr><tr><td>train_loss</td><td>0.51027</td></tr><tr><td>val_auroc_macro</td><td>0.58651</td></tr><tr><td>val_hamming_loss_macro</td><td>0.22975</td></tr><tr><td>val_loss</td><td>0.49741</td></tr></table><br/></div></div>"
      ],
      "text/plain": [
       "<IPython.core.display.HTML object>"
      ]
     },
     "metadata": {},
     "output_type": "display_data"
    },
    {
     "data": {
      "text/html": [
       "Synced <strong style=\"color:#cdcd00\">legendary-aardvark-340</strong>: <a href=\"https://wandb.ai/diliadis/DeepMTP_v2/runs/1cbxr7hj\" target=\"_blank\">https://wandb.ai/diliadis/DeepMTP_v2/runs/1cbxr7hj</a><br/>Synced 6 W&B file(s), 0 media file(s), 0 artifact file(s) and 0 other file(s)"
      ],
      "text/plain": [
       "<IPython.core.display.HTML object>"
      ]
     },
     "metadata": {},
     "output_type": "display_data"
    },
    {
     "data": {
      "text/html": [
       "Find logs at: <code>./wandb/run-20220618_214640-1cbxr7hj/logs</code>"
      ],
      "text/plain": [
       "<IPython.core.display.HTML object>"
      ]
     },
     "metadata": {},
     "output_type": "display_data"
    },
    {
     "name": "stdout",
     "output_type": "stream",
     "text": [
      "+-------+--------+--------+--------------------+-------------+\n",
      "|  mode | #epoch |  loss  | hamming_loss_macro | auroc_macro |\n",
      "+-------+--------+--------+--------------------+-------------+\n",
      "| train |   0    | 0.5747 |       0.2323       |    0.5306   |\n",
      "| train |   1    | 0.5103 |       0.2324       |    0.5699   |\n",
      "+-------+--------+--------+--------------------+-------------+\n",
      "====================\n",
      "+------+--------+--------+--------------------+-------------+----------------+\n",
      "| mode | #epoch |  loss  | hamming_loss_macro | auroc_macro | early_stopping |\n",
      "+------+--------+--------+--------------------+-------------+----------------+\n",
      "| val  |   0    | 0.5279 |       0.2297       |    0.5461   |      0/10      |\n",
      "| val  |   1    | 0.4974 |       0.2297       |    0.5865   |      0/10      |\n",
      "+------+--------+--------+--------------------+-------------+----------------+\n",
      "====================\n",
      "+------+--------+------+--------------------+-------------+\n",
      "| mode | #epoch | loss | hamming_loss_macro | auroc_macro |\n",
      "+------+--------+------+--------------------+-------------+\n",
      "| test |   1    |  -   |       0.2311       |    0.5847   |\n",
      "+------+--------+------+--------------------+-------------+\n",
      "Saving the best model... Done\n",
      "---- Finished evaluating configuration with score: 0.4974059462547302\n",
      "---- Evaluating configuration... \n",
      "Loading checkpoint from ./hyperband/18_06_2022__21_43_27/18_06_2022__21_44_12/model.pt...  \n",
      "Done\n",
      "Selected device: cuda:1\n",
      "Applying saved weights... Done\n",
      "Starting training...\n"
     ]
    },
    {
     "data": {
      "text/html": [
       "wandb version 0.12.18 is available!  To upgrade, please run:\n",
       " $ pip install wandb --upgrade"
      ],
      "text/plain": [
       "<IPython.core.display.HTML object>"
      ]
     },
     "metadata": {},
     "output_type": "display_data"
    },
    {
     "data": {
      "text/html": [
       "Tracking run with wandb version 0.12.17"
      ],
      "text/plain": [
       "<IPython.core.display.HTML object>"
      ]
     },
     "metadata": {},
     "output_type": "display_data"
    },
    {
     "data": {
      "text/html": [
       "Run data is saved locally in <code>/data/dimitriosi_datasets/DeepMTP/wandb/run-20220618_214702-xc3qedly</code>"
      ],
      "text/plain": [
       "<IPython.core.display.HTML object>"
      ]
     },
     "metadata": {},
     "output_type": "display_data"
    },
    {
     "data": {
      "text/html": [
       "Syncing run <strong><a href=\"https://wandb.ai/diliadis/DeepMTP_v2/runs/xc3qedly\" target=\"_blank\">stilted-water-341</a></strong> to <a href=\"https://wandb.ai/diliadis/DeepMTP_v2\" target=\"_blank\">Weights & Biases</a> (<a href=\"https://wandb.me/run\" target=\"_blank\">docs</a>)<br/>"
      ],
      "text/plain": [
       "<IPython.core.display.HTML object>"
      ]
     },
     "metadata": {},
     "output_type": "display_data"
    },
    {
     "name": "stdout",
     "output_type": "stream",
     "text": [
      "Epoch:0... Done\n",
      "  Validating... Calculating val performance... Done\n",
      "Done\n",
      "Epoch:1... Done\n",
      "  Validating... Calculating val performance... Done\n",
      "Done\n",
      "Starting testing... Calculating test performance... Done\n",
      "Done\n"
     ]
    },
    {
     "data": {
      "text/html": [
       "Waiting for W&B process to finish... <strong style=\"color:green\">(success).</strong>"
      ],
      "text/plain": [
       "<IPython.core.display.HTML object>"
      ]
     },
     "metadata": {},
     "output_type": "display_data"
    },
    {
     "data": {
      "application/vnd.jupyter.widget-view+json": {
       "model_id": "610961fb17e04697982bc7649b92c47f",
       "version_major": 2,
       "version_minor": 0
      },
      "text/plain": [
       "VBox(children=(Label(value='0.001 MB of 0.001 MB uploaded (0.000 MB deduped)\\r'), FloatProgress(value=1.0, max…"
      ]
     },
     "metadata": {},
     "output_type": "display_data"
    },
    {
     "data": {
      "text/html": [
       "<style>\n",
       "    table.wandb td:nth-child(1) { padding: 0 10px; text-align: left ; width: auto;} td:nth-child(2) {text-align: left ; width: 100%}\n",
       "    .wandb-row { display: flex; flex-direction: row; flex-wrap: wrap; justify-content: flex-start; width: 100% }\n",
       "    .wandb-col { display: flex; flex-direction: column; flex-basis: 100%; flex: 1; padding: 10px; }\n",
       "    </style>\n",
       "<div class=\"wandb-row\"><div class=\"wandb-col\"><h3>Run history:</h3><br/><table class=\"wandb\"><tr><td>test_auroc_macro</td><td>▁</td></tr><tr><td>test_hamming_loss_macro</td><td>▁</td></tr><tr><td>train_auroc_macro</td><td>▁█</td></tr><tr><td>train_hamming_loss_macro</td><td>█▁</td></tr><tr><td>train_loss</td><td>█▁</td></tr><tr><td>val_auroc_macro</td><td>▁█</td></tr><tr><td>val_hamming_loss_macro</td><td>▁▁</td></tr><tr><td>val_loss</td><td>█▁</td></tr></table><br/></div><div class=\"wandb-col\"><h3>Run summary:</h3><br/><table class=\"wandb\"><tr><td>test_auroc_macro</td><td>0.61136</td></tr><tr><td>test_hamming_loss_macro</td><td>0.23111</td></tr><tr><td>train_auroc_macro</td><td>0.54427</td></tr><tr><td>train_hamming_loss_macro</td><td>0.23228</td></tr><tr><td>train_loss</td><td>0.53083</td></tr><tr><td>val_auroc_macro</td><td>0.60255</td></tr><tr><td>val_hamming_loss_macro</td><td>0.22975</td></tr><tr><td>val_loss</td><td>0.51007</td></tr></table><br/></div></div>"
      ],
      "text/plain": [
       "<IPython.core.display.HTML object>"
      ]
     },
     "metadata": {},
     "output_type": "display_data"
    },
    {
     "data": {
      "text/html": [
       "Synced <strong style=\"color:#cdcd00\">stilted-water-341</strong>: <a href=\"https://wandb.ai/diliadis/DeepMTP_v2/runs/xc3qedly\" target=\"_blank\">https://wandb.ai/diliadis/DeepMTP_v2/runs/xc3qedly</a><br/>Synced 6 W&B file(s), 0 media file(s), 0 artifact file(s) and 0 other file(s)"
      ],
      "text/plain": [
       "<IPython.core.display.HTML object>"
      ]
     },
     "metadata": {},
     "output_type": "display_data"
    },
    {
     "data": {
      "text/html": [
       "Find logs at: <code>./wandb/run-20220618_214702-xc3qedly/logs</code>"
      ],
      "text/plain": [
       "<IPython.core.display.HTML object>"
      ]
     },
     "metadata": {},
     "output_type": "display_data"
    },
    {
     "name": "stdout",
     "output_type": "stream",
     "text": [
      "+-------+--------+--------+--------------------+-------------+\n",
      "|  mode | #epoch |  loss  | hamming_loss_macro | auroc_macro |\n",
      "+-------+--------+--------+--------------------+-------------+\n",
      "| train |   0    | 0.5985 |       0.2528       |    0.5098   |\n",
      "| train |   1    | 0.5308 |       0.2323       |    0.5443   |\n",
      "+-------+--------+--------+--------------------+-------------+\n",
      "====================\n",
      "+------+--------+--------+--------------------+-------------+----------------+\n",
      "| mode | #epoch |  loss  | hamming_loss_macro | auroc_macro | early_stopping |\n",
      "+------+--------+--------+--------------------+-------------+----------------+\n",
      "| val  |   0    | 0.5521 |       0.2297       |    0.544    |      0/10      |\n",
      "| val  |   1    | 0.5101 |       0.2297       |    0.6026   |      0/10      |\n",
      "+------+--------+--------+--------------------+-------------+----------------+\n",
      "====================\n",
      "+------+--------+------+--------------------+-------------+\n",
      "| mode | #epoch | loss | hamming_loss_macro | auroc_macro |\n",
      "+------+--------+------+--------------------+-------------+\n",
      "| test |   1    |  -   |       0.2311       |    0.6114   |\n",
      "+------+--------+------+--------------------+-------------+\n",
      "Saving the best model... Done\n",
      "---- Finished evaluating configuration with score: 0.5100673884153366\n",
      "---- Evaluating configuration... \n",
      "Loading checkpoint from ./hyperband/18_06_2022__21_43_27/18_06_2022__21_46_18/model.pt...  \n",
      "Done\n",
      "Selected device: cuda:1\n",
      "Applying saved weights... Done\n",
      "Starting training...\n"
     ]
    },
    {
     "data": {
      "text/html": [
       "wandb version 0.12.18 is available!  To upgrade, please run:\n",
       " $ pip install wandb --upgrade"
      ],
      "text/plain": [
       "<IPython.core.display.HTML object>"
      ]
     },
     "metadata": {},
     "output_type": "display_data"
    },
    {
     "data": {
      "text/html": [
       "Tracking run with wandb version 0.12.17"
      ],
      "text/plain": [
       "<IPython.core.display.HTML object>"
      ]
     },
     "metadata": {},
     "output_type": "display_data"
    },
    {
     "data": {
      "text/html": [
       "Run data is saved locally in <code>/data/dimitriosi_datasets/DeepMTP/wandb/run-20220618_214724-3jey3xbx</code>"
      ],
      "text/plain": [
       "<IPython.core.display.HTML object>"
      ]
     },
     "metadata": {},
     "output_type": "display_data"
    },
    {
     "data": {
      "text/html": [
       "Syncing run <strong><a href=\"https://wandb.ai/diliadis/DeepMTP_v2/runs/3jey3xbx\" target=\"_blank\">happy-pyramid-342</a></strong> to <a href=\"https://wandb.ai/diliadis/DeepMTP_v2\" target=\"_blank\">Weights & Biases</a> (<a href=\"https://wandb.me/run\" target=\"_blank\">docs</a>)<br/>"
      ],
      "text/plain": [
       "<IPython.core.display.HTML object>"
      ]
     },
     "metadata": {},
     "output_type": "display_data"
    },
    {
     "name": "stdout",
     "output_type": "stream",
     "text": [
      "Epoch:0... Done\n",
      "  Validating... Calculating val performance... Done\n",
      "Done\n",
      "Epoch:1... Done\n",
      "  Validating... Done\n",
      "Epoch:2... Done\n",
      "  Validating... Done\n",
      "-----------------------------EarlyStopping counter: 1 out of 10---------------------- best epoch currently 1\n",
      "Epoch:3... Done\n",
      "  Validating... Done\n",
      "Epoch:4... Done\n",
      "  Validating... Done\n",
      "-----------------------------EarlyStopping counter: 1 out of 10---------------------- best epoch currently 3\n",
      "Epoch:5... Done\n",
      "  Validating... Calculating val performance... Done\n",
      "Done\n",
      "-----------------------------EarlyStopping counter: 2 out of 10---------------------- best epoch currently 3\n",
      "Starting testing... Calculating test performance... Done\n",
      "Done\n"
     ]
    },
    {
     "data": {
      "text/html": [
       "Waiting for W&B process to finish... <strong style=\"color:green\">(success).</strong>"
      ],
      "text/plain": [
       "<IPython.core.display.HTML object>"
      ]
     },
     "metadata": {},
     "output_type": "display_data"
    },
    {
     "data": {
      "application/vnd.jupyter.widget-view+json": {
       "model_id": "ac0002a441284e89b72a1dd9cd0040bc",
       "version_major": 2,
       "version_minor": 0
      },
      "text/plain": [
       "VBox(children=(Label(value='0.001 MB of 0.001 MB uploaded (0.000 MB deduped)\\r'), FloatProgress(value=1.0, max…"
      ]
     },
     "metadata": {},
     "output_type": "display_data"
    },
    {
     "data": {
      "text/html": [
       "<style>\n",
       "    table.wandb td:nth-child(1) { padding: 0 10px; text-align: left ; width: auto;} td:nth-child(2) {text-align: left ; width: 100%}\n",
       "    .wandb-row { display: flex; flex-direction: row; flex-wrap: wrap; justify-content: flex-start; width: 100% }\n",
       "    .wandb-col { display: flex; flex-direction: column; flex-basis: 100%; flex: 1; padding: 10px; }\n",
       "    </style>\n",
       "<div class=\"wandb-row\"><div class=\"wandb-col\"><h3>Run history:</h3><br/><table class=\"wandb\"><tr><td>test_auroc_macro</td><td>▁</td></tr><tr><td>test_hamming_loss_macro</td><td>▁</td></tr><tr><td>train_auroc_macro</td><td>▁█</td></tr><tr><td>train_hamming_loss_macro</td><td>█▁</td></tr><tr><td>train_loss</td><td>█▇▅▃▂▁</td></tr><tr><td>val_auroc_macro</td><td>▁█</td></tr><tr><td>val_hamming_loss_macro</td><td>█▁</td></tr><tr><td>val_loss</td><td>█▅▅▁▃▂</td></tr></table><br/></div><div class=\"wandb-col\"><h3>Run summary:</h3><br/><table class=\"wandb\"><tr><td>test_auroc_macro</td><td>0.6726</td></tr><tr><td>test_hamming_loss_macro</td><td>0.20499</td></tr><tr><td>train_auroc_macro</td><td>0.76011</td></tr><tr><td>train_hamming_loss_macro</td><td>0.18557</td></tr><tr><td>train_loss</td><td>0.40132</td></tr><tr><td>val_auroc_macro</td><td>0.67924</td></tr><tr><td>val_hamming_loss_macro</td><td>0.20361</td></tr><tr><td>val_loss</td><td>0.46512</td></tr></table><br/></div></div>"
      ],
      "text/plain": [
       "<IPython.core.display.HTML object>"
      ]
     },
     "metadata": {},
     "output_type": "display_data"
    },
    {
     "data": {
      "text/html": [
       "Synced <strong style=\"color:#cdcd00\">happy-pyramid-342</strong>: <a href=\"https://wandb.ai/diliadis/DeepMTP_v2/runs/3jey3xbx\" target=\"_blank\">https://wandb.ai/diliadis/DeepMTP_v2/runs/3jey3xbx</a><br/>Synced 6 W&B file(s), 0 media file(s), 0 artifact file(s) and 0 other file(s)"
      ],
      "text/plain": [
       "<IPython.core.display.HTML object>"
      ]
     },
     "metadata": {},
     "output_type": "display_data"
    },
    {
     "data": {
      "text/html": [
       "Find logs at: <code>./wandb/run-20220618_214724-3jey3xbx/logs</code>"
      ],
      "text/plain": [
       "<IPython.core.display.HTML object>"
      ]
     },
     "metadata": {},
     "output_type": "display_data"
    },
    {
     "name": "stdout",
     "output_type": "stream",
     "text": [
      "+-------+--------+--------+--------------------+-------------+\n",
      "|  mode | #epoch |  loss  | hamming_loss_macro | auroc_macro |\n",
      "+-------+--------+--------+--------------------+-------------+\n",
      "| train |   0    | 0.4862 |       0.2346       |    0.6002   |\n",
      "| train |   1    | 0.4702 |         -          |      -      |\n",
      "| train |   2    | 0.4509 |         -          |      -      |\n",
      "| train |   3    | 0.4308 |         -          |      -      |\n",
      "| train |   4    | 0.4148 |         -          |      -      |\n",
      "| train |   5    | 0.4013 |       0.1856       |    0.7601   |\n",
      "+-------+--------+--------+--------------------+-------------+\n",
      "====================\n",
      "+------+--------+--------+--------------------+-------------+----------------+\n",
      "| mode | #epoch |  loss  | hamming_loss_macro | auroc_macro | early_stopping |\n",
      "+------+--------+--------+--------------------+-------------+----------------+\n",
      "| val  |   0    | 0.4877 |       0.225        |    0.5982   |      0/10      |\n",
      "| val  |   1    | 0.4748 |         -          |      -      |      0/10      |\n",
      "| val  |   2    | 0.4749 |         -          |      -      |      1/10      |\n",
      "| val  |   3    | 0.4593 |         -          |      -      |      0/10      |\n",
      "| val  |   4    | 0.4669 |         -          |      -      |      1/10      |\n",
      "| val  |   5    | 0.4651 |       0.2036       |    0.6792   |      2/10      |\n",
      "+------+--------+--------+--------------------+-------------+----------------+\n",
      "====================\n",
      "+------+--------+------+--------------------+-------------+\n",
      "| mode | #epoch | loss | hamming_loss_macro | auroc_macro |\n",
      "+------+--------+------+--------------------+-------------+\n",
      "| test |   3    |  -   |       0.205        |    0.6726   |\n",
      "+------+--------+------+--------------------+-------------+\n",
      "Saving the best model... Done\n",
      "---- Finished evaluating configuration with score: 0.45929843684037525\n",
      "-- Running bracket with starting budget: 3\n",
      "---- Evaluating configuration... \n",
      "Selected device: cuda:1\n",
      "Starting training...\n"
     ]
    },
    {
     "data": {
      "text/html": [
       "wandb version 0.12.18 is available!  To upgrade, please run:\n",
       " $ pip install wandb --upgrade"
      ],
      "text/plain": [
       "<IPython.core.display.HTML object>"
      ]
     },
     "metadata": {},
     "output_type": "display_data"
    },
    {
     "data": {
      "text/html": [
       "Tracking run with wandb version 0.12.17"
      ],
      "text/plain": [
       "<IPython.core.display.HTML object>"
      ]
     },
     "metadata": {},
     "output_type": "display_data"
    },
    {
     "data": {
      "text/html": [
       "Run data is saved locally in <code>/data/dimitriosi_datasets/DeepMTP/wandb/run-20220618_214804-21xcvpn7</code>"
      ],
      "text/plain": [
       "<IPython.core.display.HTML object>"
      ]
     },
     "metadata": {},
     "output_type": "display_data"
    },
    {
     "data": {
      "text/html": [
       "Syncing run <strong><a href=\"https://wandb.ai/diliadis/DeepMTP_v2/runs/21xcvpn7\" target=\"_blank\">driven-moon-343</a></strong> to <a href=\"https://wandb.ai/diliadis/DeepMTP_v2\" target=\"_blank\">Weights & Biases</a> (<a href=\"https://wandb.me/run\" target=\"_blank\">docs</a>)<br/>"
      ],
      "text/plain": [
       "<IPython.core.display.HTML object>"
      ]
     },
     "metadata": {},
     "output_type": "display_data"
    },
    {
     "name": "stdout",
     "output_type": "stream",
     "text": [
      "Epoch:0... Done\n",
      "  Validating... Calculating val performance... Done\n",
      "Done\n",
      "Epoch:1... Done\n",
      "  Validating... Done\n",
      "Epoch:2... Done\n",
      "  Validating... Done\n",
      "Epoch:3... Done\n",
      "  Validating... Done\n",
      "Epoch:4... Done\n",
      "  Validating... Done\n",
      "Epoch:5... Done\n",
      "  Validating... Done\n",
      "Epoch:6... Done\n",
      "  Validating... Done\n",
      "Epoch:7... Done\n",
      "  Validating... Done\n",
      "Epoch:8... Done\n",
      "  Validating... Calculating val performance... Done\n",
      "Done\n",
      "Starting testing... Calculating test performance... Done\n",
      "Done\n"
     ]
    },
    {
     "data": {
      "text/html": [
       "Waiting for W&B process to finish... <strong style=\"color:green\">(success).</strong>"
      ],
      "text/plain": [
       "<IPython.core.display.HTML object>"
      ]
     },
     "metadata": {},
     "output_type": "display_data"
    },
    {
     "data": {
      "application/vnd.jupyter.widget-view+json": {
       "model_id": "65f4f4adfd264e11bb77d50263b34a96",
       "version_major": 2,
       "version_minor": 0
      },
      "text/plain": [
       "VBox(children=(Label(value='0.001 MB of 0.001 MB uploaded (0.000 MB deduped)\\r'), FloatProgress(value=1.0, max…"
      ]
     },
     "metadata": {},
     "output_type": "display_data"
    },
    {
     "data": {
      "text/html": [
       "<style>\n",
       "    table.wandb td:nth-child(1) { padding: 0 10px; text-align: left ; width: auto;} td:nth-child(2) {text-align: left ; width: 100%}\n",
       "    .wandb-row { display: flex; flex-direction: row; flex-wrap: wrap; justify-content: flex-start; width: 100% }\n",
       "    .wandb-col { display: flex; flex-direction: column; flex-basis: 100%; flex: 1; padding: 10px; }\n",
       "    </style>\n",
       "<div class=\"wandb-row\"><div class=\"wandb-col\"><h3>Run history:</h3><br/><table class=\"wandb\"><tr><td>test_auroc_macro</td><td>▁</td></tr><tr><td>test_hamming_loss_macro</td><td>▁</td></tr><tr><td>train_auroc_macro</td><td>▁█</td></tr><tr><td>train_hamming_loss_macro</td><td>█▁</td></tr><tr><td>train_loss</td><td>█▆▄▃▂▂▁▁▁</td></tr><tr><td>val_auroc_macro</td><td>▁█</td></tr><tr><td>val_hamming_loss_macro</td><td>█▁</td></tr><tr><td>val_loss</td><td>█▆▄▃▂▂▁▁▁</td></tr></table><br/></div><div class=\"wandb-col\"><h3>Run summary:</h3><br/><table class=\"wandb\"><tr><td>test_auroc_macro</td><td>0.63391</td></tr><tr><td>test_hamming_loss_macro</td><td>0.2162</td></tr><tr><td>train_auroc_macro</td><td>0.6467</td></tr><tr><td>train_hamming_loss_macro</td><td>0.22603</td></tr><tr><td>train_loss</td><td>0.47199</td></tr><tr><td>val_auroc_macro</td><td>0.62673</td></tr><tr><td>val_hamming_loss_macro</td><td>0.21134</td></tr><tr><td>val_loss</td><td>0.47581</td></tr></table><br/></div></div>"
      ],
      "text/plain": [
       "<IPython.core.display.HTML object>"
      ]
     },
     "metadata": {},
     "output_type": "display_data"
    },
    {
     "data": {
      "text/html": [
       "Synced <strong style=\"color:#cdcd00\">driven-moon-343</strong>: <a href=\"https://wandb.ai/diliadis/DeepMTP_v2/runs/21xcvpn7\" target=\"_blank\">https://wandb.ai/diliadis/DeepMTP_v2/runs/21xcvpn7</a><br/>Synced 6 W&B file(s), 0 media file(s), 0 artifact file(s) and 0 other file(s)"
      ],
      "text/plain": [
       "<IPython.core.display.HTML object>"
      ]
     },
     "metadata": {},
     "output_type": "display_data"
    },
    {
     "data": {
      "text/html": [
       "Find logs at: <code>./wandb/run-20220618_214804-21xcvpn7/logs</code>"
      ],
      "text/plain": [
       "<IPython.core.display.HTML object>"
      ]
     },
     "metadata": {},
     "output_type": "display_data"
    },
    {
     "name": "stdout",
     "output_type": "stream",
     "text": [
      "+-------+--------+--------+--------------------+-------------+\n",
      "|  mode | #epoch |  loss  | hamming_loss_macro | auroc_macro |\n",
      "+-------+--------+--------+--------------------+-------------+\n",
      "| train |   0    | 0.7322 |       0.3591       |    0.5113   |\n",
      "| train |   1    | 0.6458 |         -          |      -      |\n",
      "| train |   2    | 0.5964 |         -          |      -      |\n",
      "| train |   3    | 0.5504 |         -          |      -      |\n",
      "| train |   4    | 0.5187 |         -          |      -      |\n",
      "| train |   5    | 0.4999 |         -          |      -      |\n",
      "| train |   6    | 0.4876 |         -          |      -      |\n",
      "| train |   7    | 0.4789 |         -          |      -      |\n",
      "| train |   8    | 0.472  |       0.226        |    0.6467   |\n",
      "+-------+--------+--------+--------------------+-------------+\n",
      "====================\n",
      "+------+--------+--------+--------------------+-------------+----------------+\n",
      "| mode | #epoch |  loss  | hamming_loss_macro | auroc_macro | early_stopping |\n",
      "+------+--------+--------+--------------------+-------------+----------------+\n",
      "| val  |   0    | 0.6671 |       0.2297       |    0.4863   |      0/10      |\n",
      "| val  |   1    | 0.6213 |         -          |      -      |      0/10      |\n",
      "| val  |   2    | 0.5707 |         -          |      -      |      0/10      |\n",
      "| val  |   3    | 0.531  |         -          |      -      |      0/10      |\n",
      "| val  |   4    | 0.5074 |         -          |      -      |      0/10      |\n",
      "| val  |   5    | 0.4948 |         -          |      -      |      0/10      |\n",
      "| val  |   6    | 0.4866 |         -          |      -      |      0/10      |\n",
      "| val  |   7    | 0.4805 |         -          |      -      |      0/10      |\n",
      "| val  |   8    | 0.4758 |       0.2113       |    0.6267   |      0/10      |\n",
      "+------+--------+--------+--------------------+-------------+----------------+\n",
      "====================\n",
      "+------+--------+------+--------------------+-------------+\n",
      "| mode | #epoch | loss | hamming_loss_macro | auroc_macro |\n",
      "+------+--------+------+--------------------+-------------+\n",
      "| test |   8    |  -   |       0.2162       |    0.6339   |\n",
      "+------+--------+------+--------------------+-------------+\n",
      "Saving the best model... Done\n",
      "---- Finished evaluating configuration with score: 0.47580886880556744\n",
      "---- Evaluating configuration... \n",
      "Selected device: cuda:1\n",
      "Starting training...\n"
     ]
    },
    {
     "data": {
      "text/html": [
       "wandb version 0.12.18 is available!  To upgrade, please run:\n",
       " $ pip install wandb --upgrade"
      ],
      "text/plain": [
       "<IPython.core.display.HTML object>"
      ]
     },
     "metadata": {},
     "output_type": "display_data"
    },
    {
     "data": {
      "text/html": [
       "Tracking run with wandb version 0.12.17"
      ],
      "text/plain": [
       "<IPython.core.display.HTML object>"
      ]
     },
     "metadata": {},
     "output_type": "display_data"
    },
    {
     "data": {
      "text/html": [
       "Run data is saved locally in <code>/data/dimitriosi_datasets/DeepMTP/wandb/run-20220618_214856-2xn0qkqf</code>"
      ],
      "text/plain": [
       "<IPython.core.display.HTML object>"
      ]
     },
     "metadata": {},
     "output_type": "display_data"
    },
    {
     "data": {
      "text/html": [
       "Syncing run <strong><a href=\"https://wandb.ai/diliadis/DeepMTP_v2/runs/2xn0qkqf\" target=\"_blank\">driven-sponge-344</a></strong> to <a href=\"https://wandb.ai/diliadis/DeepMTP_v2\" target=\"_blank\">Weights & Biases</a> (<a href=\"https://wandb.me/run\" target=\"_blank\">docs</a>)<br/>"
      ],
      "text/plain": [
       "<IPython.core.display.HTML object>"
      ]
     },
     "metadata": {},
     "output_type": "display_data"
    },
    {
     "name": "stdout",
     "output_type": "stream",
     "text": [
      "Epoch:0... Done\n",
      "  Validating... Calculating val performance... Done\n",
      "Done\n",
      "Epoch:1... Done\n",
      "  Validating... Done\n",
      "Epoch:2... Done\n",
      "  Validating... Done\n",
      "Epoch:3... Done\n",
      "  Validating... Done\n",
      "Epoch:4... Done\n",
      "  Validating... Done\n",
      "Epoch:5... Done\n",
      "  Validating... Done\n",
      "Epoch:6... Done\n",
      "  Validating... Done\n",
      "Epoch:7... Done\n",
      "  Validating... Done\n",
      "Epoch:8... Done\n",
      "  Validating... Calculating val performance... Done\n",
      "Done\n",
      "Starting testing... Calculating test performance... Done\n",
      "Done\n"
     ]
    },
    {
     "data": {
      "text/html": [
       "Waiting for W&B process to finish... <strong style=\"color:green\">(success).</strong>"
      ],
      "text/plain": [
       "<IPython.core.display.HTML object>"
      ]
     },
     "metadata": {},
     "output_type": "display_data"
    },
    {
     "data": {
      "application/vnd.jupyter.widget-view+json": {
       "model_id": "cc7b869f0128468a90564ac2d3e66e1b",
       "version_major": 2,
       "version_minor": 0
      },
      "text/plain": [
       "VBox(children=(Label(value='0.001 MB of 0.001 MB uploaded (0.000 MB deduped)\\r'), FloatProgress(value=1.0, max…"
      ]
     },
     "metadata": {},
     "output_type": "display_data"
    },
    {
     "data": {
      "text/html": [
       "<style>\n",
       "    table.wandb td:nth-child(1) { padding: 0 10px; text-align: left ; width: auto;} td:nth-child(2) {text-align: left ; width: 100%}\n",
       "    .wandb-row { display: flex; flex-direction: row; flex-wrap: wrap; justify-content: flex-start; width: 100% }\n",
       "    .wandb-col { display: flex; flex-direction: column; flex-basis: 100%; flex: 1; padding: 10px; }\n",
       "    </style>\n",
       "<div class=\"wandb-row\"><div class=\"wandb-col\"><h3>Run history:</h3><br/><table class=\"wandb\"><tr><td>test_auroc_macro</td><td>▁</td></tr><tr><td>test_hamming_loss_macro</td><td>▁</td></tr><tr><td>train_auroc_macro</td><td>▁█</td></tr><tr><td>train_hamming_loss_macro</td><td>█▁</td></tr><tr><td>train_loss</td><td>█▆▅▄▃▃▂▁▁</td></tr><tr><td>val_auroc_macro</td><td>▁█</td></tr><tr><td>val_hamming_loss_macro</td><td>▁▁</td></tr><tr><td>val_loss</td><td>█▆▅▄▃▃▂▁▁</td></tr></table><br/></div><div class=\"wandb-col\"><h3>Run summary:</h3><br/><table class=\"wandb\"><tr><td>test_auroc_macro</td><td>0.50301</td></tr><tr><td>test_hamming_loss_macro</td><td>0.69599</td></tr><tr><td>train_auroc_macro</td><td>0.51922</td></tr><tr><td>train_hamming_loss_macro</td><td>0.30284</td></tr><tr><td>train_loss</td><td>0.73676</td></tr><tr><td>val_auroc_macro</td><td>0.51585</td></tr><tr><td>val_hamming_loss_macro</td><td>0.7025</td></tr><tr><td>val_loss</td><td>0.73537</td></tr></table><br/></div></div>"
      ],
      "text/plain": [
       "<IPython.core.display.HTML object>"
      ]
     },
     "metadata": {},
     "output_type": "display_data"
    },
    {
     "data": {
      "text/html": [
       "Synced <strong style=\"color:#cdcd00\">driven-sponge-344</strong>: <a href=\"https://wandb.ai/diliadis/DeepMTP_v2/runs/2xn0qkqf\" target=\"_blank\">https://wandb.ai/diliadis/DeepMTP_v2/runs/2xn0qkqf</a><br/>Synced 6 W&B file(s), 0 media file(s), 0 artifact file(s) and 0 other file(s)"
      ],
      "text/plain": [
       "<IPython.core.display.HTML object>"
      ]
     },
     "metadata": {},
     "output_type": "display_data"
    },
    {
     "data": {
      "text/html": [
       "Find logs at: <code>./wandb/run-20220618_214856-2xn0qkqf/logs</code>"
      ],
      "text/plain": [
       "<IPython.core.display.HTML object>"
      ]
     },
     "metadata": {},
     "output_type": "display_data"
    },
    {
     "name": "stdout",
     "output_type": "stream",
     "text": [
      "+-------+--------+--------+--------------------+-------------+\n",
      "|  mode | #epoch |  loss  | hamming_loss_macro | auroc_macro |\n",
      "+-------+--------+--------+--------------------+-------------+\n",
      "| train |   0    | 0.8353 |       0.622        |    0.5121   |\n",
      "| train |   1    | 0.8137 |         -          |      -      |\n",
      "| train |   2    | 0.796  |         -          |      -      |\n",
      "| train |   3    | 0.7815 |         -          |      -      |\n",
      "| train |   4    | 0.7694 |         -          |      -      |\n",
      "| train |   5    | 0.7592 |         -          |      -      |\n",
      "| train |   6    | 0.7506 |         -          |      -      |\n",
      "| train |   7    | 0.7433 |         -          |      -      |\n",
      "| train |   8    | 0.7368 |       0.3028       |    0.5192   |\n",
      "+-------+--------+--------+--------------------+-------------+\n",
      "====================\n",
      "+------+--------+--------+--------------------+-------------+----------------+\n",
      "| mode | #epoch |  loss  | hamming_loss_macro | auroc_macro | early_stopping |\n",
      "+------+--------+--------+--------------------+-------------+----------------+\n",
      "| val  |   0    | 0.8275 |       0.7025       |    0.4995   |      0/10      |\n",
      "| val  |   1    | 0.8075 |         -          |      -      |      0/10      |\n",
      "| val  |   2    | 0.7911 |         -          |      -      |      0/10      |\n",
      "| val  |   3    | 0.7776 |         -          |      -      |      0/10      |\n",
      "| val  |   4    | 0.7663 |         -          |      -      |      0/10      |\n",
      "| val  |   5    | 0.7568 |         -          |      -      |      0/10      |\n",
      "| val  |   6    | 0.7486 |         -          |      -      |      0/10      |\n",
      "| val  |   7    | 0.7415 |         -          |      -      |      0/10      |\n",
      "| val  |   8    | 0.7354 |       0.7025       |    0.5158   |      0/10      |\n",
      "+------+--------+--------+--------------------+-------------+----------------+\n",
      "====================\n",
      "+------+--------+------+--------------------+-------------+\n",
      "| mode | #epoch | loss | hamming_loss_macro | auroc_macro |\n",
      "+------+--------+------+--------------------+-------------+\n",
      "| test |   8    |  -   |       0.696        |    0.503    |\n",
      "+------+--------+------+--------------------+-------------+\n",
      "Saving the best model... Done\n",
      "---- Finished evaluating configuration with score: 0.7353672583897909\n",
      "---- Evaluating configuration... \n",
      "Selected device: cuda:1\n",
      "Starting training...\n"
     ]
    },
    {
     "data": {
      "text/html": [
       "wandb version 0.12.18 is available!  To upgrade, please run:\n",
       " $ pip install wandb --upgrade"
      ],
      "text/plain": [
       "<IPython.core.display.HTML object>"
      ]
     },
     "metadata": {},
     "output_type": "display_data"
    },
    {
     "data": {
      "text/html": [
       "Tracking run with wandb version 0.12.17"
      ],
      "text/plain": [
       "<IPython.core.display.HTML object>"
      ]
     },
     "metadata": {},
     "output_type": "display_data"
    },
    {
     "data": {
      "text/html": [
       "Run data is saved locally in <code>/data/dimitriosi_datasets/DeepMTP/wandb/run-20220618_214948-2anhz2x1</code>"
      ],
      "text/plain": [
       "<IPython.core.display.HTML object>"
      ]
     },
     "metadata": {},
     "output_type": "display_data"
    },
    {
     "data": {
      "text/html": [
       "Syncing run <strong><a href=\"https://wandb.ai/diliadis/DeepMTP_v2/runs/2anhz2x1\" target=\"_blank\">wise-haze-345</a></strong> to <a href=\"https://wandb.ai/diliadis/DeepMTP_v2\" target=\"_blank\">Weights & Biases</a> (<a href=\"https://wandb.me/run\" target=\"_blank\">docs</a>)<br/>"
      ],
      "text/plain": [
       "<IPython.core.display.HTML object>"
      ]
     },
     "metadata": {},
     "output_type": "display_data"
    },
    {
     "name": "stdout",
     "output_type": "stream",
     "text": [
      "Epoch:0... Done\n",
      "  Validating... Calculating val performance... Done\n",
      "Done\n",
      "Epoch:1... Done\n",
      "  Validating... Done\n",
      "Epoch:2... Done\n",
      "  Validating... Done\n",
      "-----------------------------EarlyStopping counter: 1 out of 10---------------------- best epoch currently 1\n",
      "Epoch:3... Done\n",
      "  Validating... Done\n",
      "Epoch:4... Done\n",
      "  Validating... Done\n",
      "Epoch:5... Done\n",
      "  Validating... Done\n",
      "Epoch:6... Done\n",
      "  Validating... Done\n",
      "Epoch:7... Done\n",
      "  Validating... Done\n",
      "Epoch:8... Done\n",
      "  Validating... Calculating val performance... Done\n",
      "Done\n",
      "Starting testing... Calculating test performance... Done\n",
      "Done\n"
     ]
    },
    {
     "data": {
      "text/html": [
       "Waiting for W&B process to finish... <strong style=\"color:green\">(success).</strong>"
      ],
      "text/plain": [
       "<IPython.core.display.HTML object>"
      ]
     },
     "metadata": {},
     "output_type": "display_data"
    },
    {
     "data": {
      "application/vnd.jupyter.widget-view+json": {
       "model_id": "85cf36e26b4e4782b7a7bf52474ed82c",
       "version_major": 2,
       "version_minor": 0
      },
      "text/plain": [
       "VBox(children=(Label(value='0.001 MB of 0.001 MB uploaded (0.000 MB deduped)\\r'), FloatProgress(value=1.0, max…"
      ]
     },
     "metadata": {},
     "output_type": "display_data"
    },
    {
     "data": {
      "text/html": [
       "<style>\n",
       "    table.wandb td:nth-child(1) { padding: 0 10px; text-align: left ; width: auto;} td:nth-child(2) {text-align: left ; width: 100%}\n",
       "    .wandb-row { display: flex; flex-direction: row; flex-wrap: wrap; justify-content: flex-start; width: 100% }\n",
       "    .wandb-col { display: flex; flex-direction: column; flex-basis: 100%; flex: 1; padding: 10px; }\n",
       "    </style>\n",
       "<div class=\"wandb-row\"><div class=\"wandb-col\"><h3>Run history:</h3><br/><table class=\"wandb\"><tr><td>test_auroc_macro</td><td>▁</td></tr><tr><td>test_hamming_loss_macro</td><td>▁</td></tr><tr><td>train_auroc_macro</td><td>▁█</td></tr><tr><td>train_hamming_loss_macro</td><td>█▁</td></tr><tr><td>train_loss</td><td>█▃▃▃▃▂▂▁▁</td></tr><tr><td>val_auroc_macro</td><td>▁█</td></tr><tr><td>val_hamming_loss_macro</td><td>█▁</td></tr><tr><td>val_loss</td><td>█▄▄▄▃▂▂▁▁</td></tr></table><br/></div><div class=\"wandb-col\"><h3>Run summary:</h3><br/><table class=\"wandb\"><tr><td>test_auroc_macro</td><td>0.66655</td></tr><tr><td>test_hamming_loss_macro</td><td>0.21015</td></tr><tr><td>train_auroc_macro</td><td>0.72903</td></tr><tr><td>train_hamming_loss_macro</td><td>0.20771</td></tr><tr><td>train_loss</td><td>0.42624</td></tr><tr><td>val_auroc_macro</td><td>0.66243</td></tr><tr><td>val_hamming_loss_macro</td><td>0.20987</td></tr><tr><td>val_loss</td><td>0.46358</td></tr></table><br/></div></div>"
      ],
      "text/plain": [
       "<IPython.core.display.HTML object>"
      ]
     },
     "metadata": {},
     "output_type": "display_data"
    },
    {
     "data": {
      "text/html": [
       "Synced <strong style=\"color:#cdcd00\">wise-haze-345</strong>: <a href=\"https://wandb.ai/diliadis/DeepMTP_v2/runs/2anhz2x1\" target=\"_blank\">https://wandb.ai/diliadis/DeepMTP_v2/runs/2anhz2x1</a><br/>Synced 6 W&B file(s), 0 media file(s), 0 artifact file(s) and 0 other file(s)"
      ],
      "text/plain": [
       "<IPython.core.display.HTML object>"
      ]
     },
     "metadata": {},
     "output_type": "display_data"
    },
    {
     "data": {
      "text/html": [
       "Find logs at: <code>./wandb/run-20220618_214948-2anhz2x1/logs</code>"
      ],
      "text/plain": [
       "<IPython.core.display.HTML object>"
      ]
     },
     "metadata": {},
     "output_type": "display_data"
    },
    {
     "name": "stdout",
     "output_type": "stream",
     "text": [
      "+-------+--------+--------+--------------------+-------------+\n",
      "|  mode | #epoch |  loss  | hamming_loss_macro | auroc_macro |\n",
      "+-------+--------+--------+--------------------+-------------+\n",
      "| train |   0    | 0.6629 |       0.3028       |    0.5019   |\n",
      "| train |   1    | 0.5045 |         -          |      -      |\n",
      "| train |   2    | 0.4912 |         -          |      -      |\n",
      "| train |   3    | 0.4887 |         -          |      -      |\n",
      "| train |   4    | 0.4798 |         -          |      -      |\n",
      "| train |   5    | 0.4672 |         -          |      -      |\n",
      "| train |   6    | 0.4552 |         -          |      -      |\n",
      "| train |   7    | 0.4419 |         -          |      -      |\n",
      "| train |   8    | 0.4262 |       0.2077       |    0.729    |\n",
      "+-------+--------+--------+--------------------+-------------+\n",
      "====================\n",
      "+------+--------+--------+--------------------+-------------+----------------+\n",
      "| mode | #epoch |  loss  | hamming_loss_macro | auroc_macro | early_stopping |\n",
      "+------+--------+--------+--------------------+-------------+----------------+\n",
      "| val  |   0    | 0.544  |       0.2629       |    0.5143   |      0/10      |\n",
      "| val  |   1    |  0.5   |         -          |      -      |      0/10      |\n",
      "| val  |   2    | 0.5005 |         -          |      -      |      1/10      |\n",
      "| val  |   3    | 0.4944 |         -          |      -      |      0/10      |\n",
      "| val  |   4    | 0.4906 |         -          |      -      |      0/10      |\n",
      "| val  |   5    | 0.4774 |         -          |      -      |      0/10      |\n",
      "| val  |   6    | 0.4763 |         -          |      -      |      0/10      |\n",
      "| val  |   7    | 0.4679 |         -          |      -      |      0/10      |\n",
      "| val  |   8    | 0.4636 |       0.2099       |    0.6624   |      0/10      |\n",
      "+------+--------+--------+--------------------+-------------+----------------+\n",
      "====================\n",
      "+------+--------+------+--------------------+-------------+\n",
      "| mode | #epoch | loss | hamming_loss_macro | auroc_macro |\n",
      "+------+--------+------+--------------------+-------------+\n",
      "| test |   8    |  -   |       0.2102       |    0.6666   |\n",
      "+------+--------+------+--------------------+-------------+\n",
      "Saving the best model... Done\n",
      "---- Finished evaluating configuration with score: 0.46357622742652893\n",
      "Best overall configuration: \n",
      "config: Configuration(values={\n",
      "  'batch_norm': False,\n",
      "  'dropout_rate': 0.08988321337387878,\n",
      "  'embedding_size': 1913,\n",
      "  'instance_branch_layers': 2,\n",
      "  'instance_branch_nodes_per_layer': 2003,\n",
      "  'learning_rate': 9.076360520631342e-05,\n",
      "  'target_branch_layers': 2,\n",
      "  'target_branch_nodes_per_layer': 709,\n",
      "})\n",
      "  |  budget: 9  |  score: 0.45929843684037525\n",
      "{'model_dir': './hyperband/18_06_2022__21_43_27/18_06_2022__21_47_24/model.pt', 'config': {'validation_setting': 'B', 'enable_dot_product_version': True, 'problem_mode': 'classification', 'learning_rate': 9.076360520631342e-05, 'decay': 0, 'batch_norm': False, 'dropout_rate': 0.08988321337387878, 'momentum': 0.9, 'weighted_loss': False, 'compute_mode': 'cuda:1', 'num_workers': 8, 'train_batchsize': 512, 'val_batchsize': 512, 'num_epochs': 6, 'use_early_stopping': True, 'patience': 10, 'evaluate_train': True, 'evaluate_val': True, 'verbose': True, 'results_verbose': False, 'return_results_per_target': False, 'metric_to_optimize_early_stopping': 'loss', 'metric_to_optimize_best_epoch_selection': 'loss', 'instance_branch_architecture': 'MLP', 'target_branch_architecture': 'MLP', 'use_instance_features': False, 'use_target_features': False, 'use_tensorboard_logger': True, 'wandb_project_name': 'DeepMTP_v2', 'wandb_project_entity': 'diliadis', 'results_path': './hyperband/18_06_2022__21_43_27/', 'experiment_name': 'best_model', 'save_model': True, 'instance_branch_input_dim': 103, 'target_branch_input_dim': 14, 'eval_every_n_epochs': 10, 'load_pretrained_model': False, 'pretrained_model_path': '', 'instance_train_transforms': None, 'instance_inference_transforms': None, 'target_train_transforms': None, 'target_inference_transforms': None, 'running_hyperband': False, 'metrics': ['hamming_loss', 'auroc'], 'metrics_average': ['macro'], 'embedding_size': 1913, 'instance_branch_nodes_per_layer': 2003, 'instance_branch_layers': 2, 'instance_branch_nodes_reducing_factor': 2, 'target_branch_nodes_per_layer': 709, 'target_branch_layers': 2, 'target_branch_nodes_reducing_factor': 2, 'budget': 9, 'budget_int': 9, 'actuall_budget': 6}}\n",
      "\n",
      "\n"
     ]
    }
   ],
   "source": [
    "best_overall_config = hb.run_optimizer()"
   ]
  },
  {
   "cell_type": "markdown",
   "metadata": {},
   "source": [
    "# Load the best model and generate predictions for the test set"
   ]
  },
  {
   "cell_type": "code",
   "execution_count": 10,
   "metadata": {},
   "outputs": [
    {
     "name": "stdout",
     "output_type": "stream",
     "text": [
      "Loading checkpoint from ./hyperband/18_06_2022__21_43_27/18_06_2022__21_47_24/model.pt...  \n",
      "Done\n",
      "Selected device: cuda:1\n",
      "Applying saved weights... Done\n"
     ]
    }
   ],
   "source": [
    "best_model = DeepMTP(best_overall_config.info['config'], best_overall_config.info['model_dir'])"
   ]
  },
  {
   "cell_type": "code",
   "execution_count": 11,
   "metadata": {},
   "outputs": [
    {
     "name": "stdout",
     "output_type": "stream",
     "text": [
      "Calculating  performance... Done\n"
     ]
    }
   ],
   "source": [
    "best_model_results = best_model.predict(test, verbose=True)"
   ]
  },
  {
   "cell_type": "code",
   "execution_count": 12,
   "metadata": {},
   "outputs": [
    {
     "data": {
      "text/plain": [
       "({'hamming_loss_target_0': 0.2727272727272727,\n",
       "  'auroc_target_0': 0.7462740134872212,\n",
       "  'hamming_loss_target_1': 0.4049586776859504,\n",
       "  'auroc_target_1': 0.6415290870267173,\n",
       "  'hamming_loss_target_2': 0.27892561983471076,\n",
       "  'auroc_target_2': 0.7797087585034014,\n",
       "  'hamming_loss_target_3': 0.24380165289256198,\n",
       "  'auroc_target_3': 0.8181342600377408,\n",
       "  'hamming_loss_target_4': 0.23553719008264462,\n",
       "  'auroc_target_4': 0.7077205882352942,\n",
       "  'hamming_loss_target_5': 0.2644628099173554,\n",
       "  'auroc_target_5': 0.6456913474051038,\n",
       "  'hamming_loss_target_6': 0.15702479338842976,\n",
       "  'auroc_target_6': 0.6681501547987616,\n",
       "  'hamming_loss_target_7': 0.17148760330578514,\n",
       "  'auroc_target_7': 0.609380164047712,\n",
       "  'hamming_loss_target_8': 0.06198347107438017,\n",
       "  'auroc_target_8': 0.6117474302496329,\n",
       "  'hamming_loss_target_9': 0.11363636363636363,\n",
       "  'auroc_target_9': 0.6164017800381437,\n",
       "  'hamming_loss_target_10': 0.128099173553719,\n",
       "  'auroc_target_10': 0.582135759058248,\n",
       "  'hamming_loss_target_11': 0.25206611570247933,\n",
       "  'auroc_target_11': 0.6759748078169863,\n",
       "  'hamming_loss_target_12': 0.2706611570247934,\n",
       "  'auroc_target_12': 0.6713940370668815,\n",
       "  'hamming_loss_target_13': 0.014462809917355372,\n",
       "  'auroc_target_13': 0.6421084156933212,\n",
       "  'hamming_loss_macro': 0.20498819362455725,\n",
       "  'auroc_macro': 0.6725964716760834,\n",
       "  '_loss': 0.447061083146504},\n",
       "       instance_id  target_id  true_values  predicted_values\n",
       " 0              18          0          0.0          0.036958\n",
       " 1              18          1          0.0          0.056371\n",
       " 2              18          2          0.0          0.134264\n",
       " 3              18          3          1.0          0.968880\n",
       " 4              18          4          1.0          0.933000\n",
       " ...           ...        ...          ...               ...\n",
       " 6771         2415          9          0.0          0.134314\n",
       " 6772         2415         10          0.0          0.184427\n",
       " 6773         2415         11          1.0          0.527764\n",
       " 6774         2415         12          1.0          0.473322\n",
       " 6775         2415         13          0.0          0.021191\n",
       " \n",
       " [6776 rows x 4 columns])"
      ]
     },
     "execution_count": 12,
     "metadata": {},
     "output_type": "execute_result"
    }
   ],
   "source": [
    "best_model_results"
   ]
  },
  {
   "cell_type": "code",
   "execution_count": null,
   "metadata": {},
   "outputs": [],
   "source": []
  }
 ],
 "metadata": {
  "kernelspec": {
   "display_name": "Python 3.8.13 ('deepMTP_env': conda)",
   "language": "python",
   "name": "python3"
  },
  "language_info": {
   "codemirror_mode": {
    "name": "ipython",
    "version": 3
   },
   "file_extension": ".py",
   "mimetype": "text/x-python",
   "name": "python",
   "nbconvert_exporter": "python",
   "pygments_lexer": "ipython3",
   "version": "3.8.13"
  },
  "orig_nbformat": 4,
  "vscode": {
   "interpreter": {
    "hash": "d4d230de14994ca37ce25176fd791976ff73aae1fe711412070fc60c154e79c9"
   }
  }
 },
 "nbformat": 4,
 "nbformat_minor": 2
}
