{
 "cells": [
  {
   "cell_type": "code",
   "execution_count": 1,
   "metadata": {},
   "outputs": [
    {
     "name": "stderr",
     "output_type": "stream",
     "text": [
      "/home/dimitriosi/.local/lib/python3.8/site-packages/tqdm/auto.py:22: TqdmWarning: IProgress not found. Please update jupyter and ipywidgets. See https://ipywidgets.readthedocs.io/en/stable/user_install.html\n",
      "  from .autonotebook import tqdm as notebook_tqdm\n"
     ]
    }
   ],
   "source": [
    "import os\n",
    "# os.chdir('../')\n",
    "import pandas as pd\n",
    "import numpy as np\n",
    "from DeepMTP.dataset import load_process_MLC, load_process_MTR, load_process_DP, process_dummy_MLC, process_dummy_MTR, process_dummy_DP, load_process_MC, load_process_MTL\n",
    "from DeepMTP.utils.data_utils import data_process, BaseDataset\n",
    "from DeepMTP.utils.tests import check_mlc_results, check_mtr_results, check_dp_results, check_mtl_results\n",
    "from DeepMTP.main import DeepMTP\n",
    "from DeepMTP.utils.utils import generate_config\n",
    "from tqdm import tqdm\n",
    "from PIL import Image"
   ]
  },
  {
   "cell_type": "markdown",
   "metadata": {},
   "source": [
    "# Dyadic Prediction\n",
    "<img src=\"../images/dp_example.png\"/>"
   ]
  },
  {
   "cell_type": "markdown",
   "metadata": {},
   "source": [
    "# load-process-split"
   ]
  },
  {
   "cell_type": "code",
   "execution_count": 2,
   "metadata": {},
   "outputs": [
    {
     "name": "stdout",
     "output_type": "stream",
     "text": [
      "Processing...\n",
      "Done\n",
      "Interaction file: 2d numpy array format detected\n",
      "Interaction file: checking format consistency... Passed\n",
      "Interaction file: checking instance id format consistency... Passed\n",
      "Interaction file: checking target id type consistency... Passed\n",
      "\n",
      "Interaction file: checking target variable type consistency... Passed\n",
      "Automatically detected type of target variable type: binary\n",
      "\n",
      "-- Test set was not provided, could not detect if novel instances exist or not \n",
      "-- Test set was not provided, could not detect if novel targets exist or not \n",
      "\n",
      "Instance features file: processing features... Done\n",
      "Instance features file: processing features... Done\n",
      "\n",
      "Cross input consistency for (numpy) interaction data and instance features checks out\n",
      "Cross input consistency for (numpy) interaction data and target features checks out\n",
      "\n",
      "Splitting train to train-test according to validation setting D... Done\n",
      "Splitting train to train-val according to validation setting D... Done\n",
      "Checking if DP splitting results are valid... Done\n"
     ]
    }
   ],
   "source": [
    "# load dataset\n",
    "data = load_process_DP('ern')\n",
    "# process and split\n",
    "train, val, test, data_info = data_process(data, validation_setting='D', verbose=True)\n",
    "# sanity check\n",
    "check_dp_results(train, val, test)"
   ]
  },
  {
   "cell_type": "code",
   "execution_count": 6,
   "metadata": {},
   "outputs": [
    {
     "data": {
      "text/plain": [
       "{'detected_validation_setting': 'D',\n",
       " 'detected_problem_mode': 'classification',\n",
       " 'instance_branch_input_dim': 445,\n",
       " 'target_branch_input_dim': 445}"
      ]
     },
     "execution_count": 6,
     "metadata": {},
     "output_type": "execute_result"
    }
   ],
   "source": [
    "data_info"
   ]
  },
  {
   "cell_type": "markdown",
   "metadata": {},
   "source": [
    "# Configure and train network"
   ]
  },
  {
   "cell_type": "code",
   "execution_count": 7,
   "metadata": {},
   "outputs": [
    {
     "name": "stdout",
     "output_type": "stream",
     "text": [
      "Micro-averaging is the adviced averaging option for validation setting D. The micro option will be included in the results\n"
     ]
    }
   ],
   "source": [
    "config = generate_config(    \n",
    "    instance_branch_input_dim = data_info['instance_branch_input_dim'],\n",
    "    target_branch_input_dim = data_info['target_branch_input_dim'],\n",
    "    validation_setting = data_info['detected_validation_setting'],\n",
    "    general_architecture_version = 'dot_product',\n",
    "    problem_mode = data_info['detected_problem_mode'],\n",
    "    learning_rate = 0.001,\n",
    "    decay = 0,\n",
    "    batch_norm = False,\n",
    "    dropout_rate = 0,\n",
    "    momentum = 0.9,\n",
    "    weighted_loss = False,\n",
    "    compute_mode = 'cuda:1',\n",
    "    train_batchsize = 512,\n",
    "    val_batchsize = 512,\n",
    "    num_epochs = 50,\n",
    "    num_workers = 8,\n",
    "    metrics = ['aupr', 'auroc'],\n",
    "    metrics_average = ['macro'],\n",
    "    patience = 10,\n",
    "\n",
    "    evaluate_train = True,\n",
    "    evaluate_val = True,\n",
    "\n",
    "    verbose = True,\n",
    "    results_verbose = False,\n",
    "    use_early_stopping = True,\n",
    "    use_tensorboard_logger = True,\n",
    "    wandb_project_name = 'DeepMTP_v2',\n",
    "    wandb_project_entity = 'diliadis',\n",
    "    metric_to_optimize_early_stopping = 'loss',\n",
    "    metric_to_optimize_best_epoch_selection = 'loss',\n",
    "\n",
    "    instance_branch_architecture = 'MLP',\n",
    "    use_instance_features = False,\n",
    "    instance_branch_params = {\n",
    "        'instance_branch_nodes_reducing_factor': 2,\n",
    "        'instance_branch_nodes_per_layer': [512, 256],\n",
    "        'instance_branch_layers': None,\n",
    "        # 'instance_branch_conv_architecture': 'resnet',\n",
    "        # 'instance_branch_conv_architecture_version': 'resnet101',\n",
    "        # 'instance_branch_conv_architecture_dense_layers': 1,\n",
    "        # 'instance_branch_conv_architecture_last_layer_trained': 'last',\n",
    "    },\n",
    "\n",
    "    target_branch_architecture = 'MLP',\n",
    "    use_target_features = False,\n",
    "    target_branch_params = {\n",
    "        'target_branch_nodes_reducing_factor': 2,\n",
    "        'target_branch_nodes_per_layer': [512, 256],\n",
    "        'target_branch_layers': None,\n",
    "        # 'target_branch_conv_architecture': 'resnet',\n",
    "        # 'target_branch_conv_architecture_version': 'resnet101',\n",
    "        # 'target_branch_conv_architecture_dense_layers': 1,\n",
    "        # 'target_branch_conv_architecture_last_layer_trained': 'last',\n",
    "    },\n",
    "\n",
    "    embedding_size = 30,\n",
    "    comb_mlp_nodes_reducing_factor = 2,\n",
    "    comb_mlp_nodes_per_layer = [2048, 2048, 2048],\n",
    "    comb_mlp_layers = None, \n",
    "\n",
    "    save_model = True,\n",
    "\n",
    "    eval_every_n_epochs = 10,\n",
    "\n",
    "    additional_info = {})"
   ]
  },
  {
   "cell_type": "code",
   "execution_count": 8,
   "metadata": {},
   "outputs": [
    {
     "name": "stdout",
     "output_type": "stream",
     "text": [
      "Selected device: cuda:1\n"
     ]
    },
    {
     "name": "stderr",
     "output_type": "stream",
     "text": [
      "Failed to detect the name of this notebook, you can set it manually with the WANDB_NOTEBOOK_NAME environment variable to enable code saving.\n"
     ]
    },
    {
     "name": "stdout",
     "output_type": "stream",
     "text": [
      "TwoBranchDotProductModel(\n",
      "  (instance_branch_model): MLP(\n",
      "    (predictor): ModuleList(\n",
      "      (0): Linear(in_features=445, out_features=512, bias=True)\n",
      "      (1): LeakyReLU(negative_slope=0.01)\n",
      "      (2): Linear(in_features=512, out_features=256, bias=True)\n",
      "      (3): LeakyReLU(negative_slope=0.01)\n",
      "      (4): Linear(in_features=256, out_features=30, bias=True)\n",
      "      (5): LeakyReLU(negative_slope=0.01)\n",
      "    )\n",
      "  )\n",
      "  (target_branch_model): MLP(\n",
      "    (predictor): ModuleList(\n",
      "      (0): Linear(in_features=445, out_features=512, bias=True)\n",
      "      (1): LeakyReLU(negative_slope=0.01)\n",
      "      (2): Linear(in_features=512, out_features=256, bias=True)\n",
      "      (3): LeakyReLU(negative_slope=0.01)\n",
      "      (4): Linear(in_features=256, out_features=30, bias=True)\n",
      "      (5): LeakyReLU(negative_slope=0.01)\n",
      "    )\n",
      "  )\n",
      ")\n",
      "Starting training...\n"
     ]
    },
    {
     "name": "stderr",
     "output_type": "stream",
     "text": [
      "\u001b[34m\u001b[1mwandb\u001b[0m: Currently logged in as: \u001b[33mdiliadis\u001b[0m. Use \u001b[1m`wandb login --relogin`\u001b[0m to force relogin\n"
     ]
    },
    {
     "data": {
      "text/html": [
       "Tracking run with wandb version 0.12.17"
      ],
      "text/plain": [
       "<IPython.core.display.HTML object>"
      ]
     },
     "metadata": {},
     "output_type": "display_data"
    },
    {
     "data": {
      "text/html": [
       "Run data is saved locally in <code>/data/dimitriosi_datasets/DeepMTP_v2/wandb/run-20220530_082548-1pdhiyox</code>"
      ],
      "text/plain": [
       "<IPython.core.display.HTML object>"
      ]
     },
     "metadata": {},
     "output_type": "display_data"
    },
    {
     "data": {
      "text/html": [
       "Syncing run <strong><a href=\"https://wandb.ai/diliadis/DeepMTP_v2/runs/1pdhiyox\" target=\"_blank\">denim-elevator-110</a></strong> to <a href=\"https://wandb.ai/diliadis/DeepMTP_v2\" target=\"_blank\">Weights & Biases</a> (<a href=\"https://wandb.me/run\" target=\"_blank\">docs</a>)<br/>"
      ],
      "text/plain": [
       "<IPython.core.display.HTML object>"
      ]
     },
     "metadata": {},
     "output_type": "display_data"
    },
    {
     "name": "stdout",
     "output_type": "stream",
     "text": [
      "Epoch:0... Warning: instance120 has 1 unique true values\n",
      "Warning: instance133 has 1 unique true values\n",
      "Warning: instance149 has 1 unique true values\n",
      "Done\n",
      "  Validating... Calculating val performance... Done\n",
      "Done\n",
      "Epoch:1... Done\n",
      "  Validating... Done\n",
      "-----------------------------EarlyStopping counter: 1 out of 10---------------------- best epoch currently 0\n",
      "Epoch:2... Done\n",
      "  Validating... Done\n",
      "-----------------------------EarlyStopping counter: 2 out of 10---------------------- best epoch currently 0\n",
      "Epoch:3... Done\n",
      "  Validating... Done\n",
      "-----------------------------EarlyStopping counter: 3 out of 10---------------------- best epoch currently 0\n",
      "Epoch:4... Done\n",
      "  Validating... Done\n",
      "-----------------------------EarlyStopping counter: 4 out of 10---------------------- best epoch currently 0\n",
      "Epoch:5... Done\n",
      "  Validating... Done\n",
      "-----------------------------EarlyStopping counter: 5 out of 10---------------------- best epoch currently 0\n",
      "Epoch:6... Done\n",
      "  Validating... Done\n",
      "-----------------------------EarlyStopping counter: 6 out of 10---------------------- best epoch currently 0\n",
      "Epoch:7... Done\n",
      "  Validating... Done\n",
      "-----------------------------EarlyStopping counter: 7 out of 10---------------------- best epoch currently 0\n",
      "Epoch:8... Done\n",
      "  Validating... Done\n",
      "-----------------------------EarlyStopping counter: 8 out of 10---------------------- best epoch currently 0\n",
      "Epoch:9... Done\n",
      "  Validating... Done\n",
      "-----------------------------EarlyStopping counter: 9 out of 10---------------------- best epoch currently 0\n",
      "Epoch:10... Warning: instance120 has 1 unique true values\n",
      "Warning: instance133 has 1 unique true values\n",
      "Warning: instance149 has 1 unique true values\n",
      "Done\n",
      "  Validating... Calculating val performance... Done\n",
      "Done\n",
      "-----------------------------EarlyStopping counter: 10 out of 10---------------------- best epoch currently 0\n",
      "Early stopping criterion met. Training stopped!!!\n",
      "Starting testing... Calculating test performance... Done\n",
      "Done\n"
     ]
    },
    {
     "data": {
      "text/html": [
       "Waiting for W&B process to finish... <strong style=\"color:green\">(success).</strong>"
      ],
      "text/plain": [
       "<IPython.core.display.HTML object>"
      ]
     },
     "metadata": {},
     "output_type": "display_data"
    },
    {
     "data": {
      "text/html": [
       "<style>\n",
       "    table.wandb td:nth-child(1) { padding: 0 10px; text-align: left ; width: auto;} td:nth-child(2) {text-align: left ; width: 100%}\n",
       "    .wandb-row { display: flex; flex-direction: row; flex-wrap: wrap; justify-content: flex-start; width: 100% }\n",
       "    .wandb-col { display: flex; flex-direction: column; flex-basis: 100%; flex: 1; padding: 10px; }\n",
       "    </style>\n",
       "<div class=\"wandb-row\"><div class=\"wandb-col\"><h3>Run history:</h3><br/><table class=\"wandb\"><tr><td>test_aupr_macro</td><td>▁</td></tr><tr><td>test_aupr_micro</td><td>▁</td></tr><tr><td>test_auroc_macro</td><td>▁</td></tr><tr><td>test_auroc_micro</td><td>▁</td></tr><tr><td>train_aupr_macro</td><td>█▁</td></tr><tr><td>train_aupr_micro</td><td>▁█</td></tr><tr><td>train_auroc_macro</td><td>█▁</td></tr><tr><td>train_auroc_micro</td><td>▁█</td></tr><tr><td>train_loss</td><td>▁██████████</td></tr><tr><td>val_aupr_macro</td><td>▁▁</td></tr><tr><td>val_aupr_micro</td><td>▁▁</td></tr><tr><td>val_auroc_macro</td><td>▁▁</td></tr><tr><td>val_auroc_micro</td><td>▁▁</td></tr><tr><td>val_loss</td><td>▁▁▁▁▁▁▁▁▁▁▁</td></tr></table><br/></div><div class=\"wandb-col\"><h3>Run summary:</h3><br/><table class=\"wandb\"><tr><td>test_aupr_macro</td><td>0.50937</td></tr><tr><td>test_aupr_micro</td><td>0.50575</td></tr><tr><td>test_auroc_macro</td><td>0.5</td></tr><tr><td>test_auroc_micro</td><td>0.5</td></tr><tr><td>train_aupr_macro</td><td>0.02159</td></tr><tr><td>train_aupr_micro</td><td>0.02592</td></tr><tr><td>train_auroc_macro</td><td>0.45971</td></tr><tr><td>train_auroc_micro</td><td>0.5482</td></tr><tr><td>train_loss</td><td>97.9907</td></tr><tr><td>val_aupr_macro</td><td>0.51396</td></tr><tr><td>val_aupr_micro</td><td>0.50859</td></tr><tr><td>val_auroc_macro</td><td>0.5</td></tr><tr><td>val_auroc_micro</td><td>0.5</td></tr><tr><td>val_loss</td><td>98.52957</td></tr></table><br/></div></div>"
      ],
      "text/plain": [
       "<IPython.core.display.HTML object>"
      ]
     },
     "metadata": {},
     "output_type": "display_data"
    },
    {
     "data": {
      "text/html": [
       "Synced <strong style=\"color:#cdcd00\">denim-elevator-110</strong>: <a href=\"https://wandb.ai/diliadis/DeepMTP_v2/runs/1pdhiyox\" target=\"_blank\">https://wandb.ai/diliadis/DeepMTP_v2/runs/1pdhiyox</a><br/>Synced 6 W&B file(s), 0 media file(s), 0 artifact file(s) and 0 other file(s)"
      ],
      "text/plain": [
       "<IPython.core.display.HTML object>"
      ]
     },
     "metadata": {},
     "output_type": "display_data"
    },
    {
     "data": {
      "text/html": [
       "Find logs at: <code>./wandb/run-20220530_082548-1pdhiyox/logs</code>"
      ],
      "text/plain": [
       "<IPython.core.display.HTML object>"
      ]
     },
     "metadata": {},
     "output_type": "display_data"
    },
    {
     "name": "stdout",
     "output_type": "stream",
     "text": [
      "+-------+--------+---------+------------+------------+-------------+-------------+\n",
      "|  mode | #epoch |   loss  | aupr_macro | aupr_micro | auroc_macro | auroc_micro |\n",
      "+-------+--------+---------+------------+------------+-------------+-------------+\n",
      "| train |   0    | 75.9355 |   0.0225   |   0.0248   |    0.4942   |    0.5307   |\n",
      "| train |   1    | 97.9912 |     -      |     -      |      -      |      -      |\n",
      "| train |   2    | 97.9916 |     -      |     -      |      -      |      -      |\n",
      "| train |   3    | 97.9916 |     -      |     -      |      -      |      -      |\n",
      "| train |   4    | 97.9923 |     -      |     -      |      -      |      -      |\n",
      "| train |   5    | 97.9921 |     -      |     -      |      -      |      -      |\n",
      "| train |   6    | 97.9923 |     -      |     -      |      -      |      -      |\n",
      "| train |   7    | 97.9912 |     -      |     -      |      -      |      -      |\n",
      "| train |   8    | 97.9925 |     -      |     -      |      -      |      -      |\n",
      "| train |   9    | 97.9923 |     -      |     -      |      -      |      -      |\n",
      "+-------+--------+---------+------------+------------+-------------+-------------+\n",
      "====================\n",
      "+------+--------+---------+------------+------------+-------------+-------------+----------------+\n",
      "| mode | #epoch |   loss  | aupr_macro | aupr_micro | auroc_macro | auroc_micro | early_stopping |\n",
      "+------+--------+---------+------------+------------+-------------+-------------+----------------+\n",
      "| val  |   0    | 98.5296 |   0.514    |   0.5086   |     0.5     |     0.5     |      0/10      |\n",
      "| val  |   1    | 98.5296 |     -      |     -      |      -      |      -      |      1/10      |\n",
      "| val  |   2    | 98.5296 |     -      |     -      |      -      |      -      |      2/10      |\n",
      "| val  |   3    | 98.5296 |     -      |     -      |      -      |      -      |      3/10      |\n",
      "| val  |   4    | 98.5296 |     -      |     -      |      -      |      -      |      4/10      |\n",
      "| val  |   5    | 98.5296 |     -      |     -      |      -      |      -      |      5/10      |\n",
      "| val  |   6    | 98.5296 |     -      |     -      |      -      |      -      |      6/10      |\n",
      "| val  |   7    | 98.5296 |     -      |     -      |      -      |      -      |      7/10      |\n",
      "| val  |   8    | 98.5296 |     -      |     -      |      -      |      -      |      8/10      |\n",
      "| val  |   9    | 98.5296 |     -      |     -      |      -      |      -      |      9/10      |\n",
      "+------+--------+---------+------------+------------+-------------+-------------+----------------+\n",
      "====================\n",
      "+------+--------+------+------------+------------+-------------+-------------+\n",
      "| mode | #epoch | loss | aupr_macro | aupr_micro | auroc_macro | auroc_micro |\n",
      "+------+--------+------+------------+------------+-------------+-------------+\n",
      "| test |   0    |  -   |   0.5094   |   0.5057   |     0.5     |     0.5     |\n",
      "+------+--------+------+------------+------------+-------------+-------------+\n",
      "Saving the best model... Done\n"
     ]
    }
   ],
   "source": [
    "# initialize model\n",
    "model = DeepMTP(config)\n",
    "print(str(model.deepMTP_model))\n",
    "# train, validate, test\n",
    "validation_results = model.train(train, val, test)"
   ]
  },
  {
   "cell_type": "code",
   "execution_count": null,
   "metadata": {},
   "outputs": [],
   "source": []
  },
  {
   "cell_type": "markdown",
   "metadata": {},
   "source": [
    "# Inference"
   ]
  },
  {
   "cell_type": "code",
   "execution_count": null,
   "metadata": {},
   "outputs": [],
   "source": [
    "# generate predictions from the trained model\n",
    "results, preds = model.predict(train, return_predictions=True ,verbose=True)"
   ]
  },
  {
   "cell_type": "markdown",
   "metadata": {},
   "source": [
    "# Continue training model"
   ]
  },
  {
   "cell_type": "code",
   "execution_count": null,
   "metadata": {},
   "outputs": [],
   "source": [
    "# this is a minimal configuration needed for HPO methods like Hyperband\n",
    "config = {\n",
    "    'verbose': True,\n",
    "    'num_epochs': 20,\n",
    "    'num_workers': 8,\n",
    "    # 'wandb_project_name': None,\n",
    "    # 'wandb_project_entity': None,\n",
    "    # 'use_tensorboard_logger': False\n",
    "}\n",
    "# initialize the model and load the pretrained weights etc.\n",
    "new_model = DeepMTP(config, 'add path to model.pt')\n",
    "\n",
    "new_model.train(train, val, test)"
   ]
  },
  {
   "cell_type": "code",
   "execution_count": null,
   "metadata": {},
   "outputs": [],
   "source": []
  }
 ],
 "metadata": {
  "kernelspec": {
   "display_name": "Python 3.8.13 ('deepMTP_env_source': conda)",
   "language": "python",
   "name": "python3"
  },
  "language_info": {
   "codemirror_mode": {
    "name": "ipython",
    "version": 3
   },
   "file_extension": ".py",
   "mimetype": "text/x-python",
   "name": "python",
   "nbconvert_exporter": "python",
   "pygments_lexer": "ipython3",
   "version": "3.8.13"
  },
  "orig_nbformat": 4,
  "vscode": {
   "interpreter": {
    "hash": "c0bffa426c47be87a03a22c79420a878934c6514bf0edb62313e132440f2a8f4"
   }
  }
 },
 "nbformat": 4,
 "nbformat_minor": 2
}
